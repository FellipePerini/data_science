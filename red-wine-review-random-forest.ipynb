{
 "cells": [
  {
   "cell_type": "markdown",
   "metadata": {
    "papermill": {
     "duration": 0.043176,
     "end_time": "2020-11-23T23:22:23.089412",
     "exception": false,
     "start_time": "2020-11-23T23:22:23.046236",
     "status": "completed"
    },
    "tags": []
   },
   "source": [
    "**Contexto do dataset**\n",
    "\n",
    "Assim como o famoso 'vinho do porto', Portugal também é conhecido pela produção do 'vinho verde' que é cultivado na região homônima ao noroeste do país entre os rios Douro e Minho. Por constituir dominiação de origem controlada torna-se único ao redor do mundo, apreciado pela leveza e frescor.\n",
    "\n",
    "O dataset é constituído por 1.599 observações e suas respectivas classificações sensoriais e psicoquímicas. Por questões de privacidade nenhum tipo de uva foi discriminada, assim como rótulos e preços. Temos disponíveis 12 variáveis distintas, sendo que 11 são características sensoriais/psicoquímicas e 1 com o score final do produto (escala de 0 - 10).\n",
    "\n",
    "Sumário de variáveis:\n",
    "\n",
    "1 - fixed acidity\n",
    "\n",
    "2 - volatile acidity\n",
    "\n",
    "3 - citric acid\n",
    "\n",
    "4 - residual sugar\n",
    "\n",
    "5 - chlorides\n",
    "\n",
    "6 - free sulfur dioxide\n",
    "\n",
    "7 - total sulfur dioxide\n",
    "\n",
    "8 - density\n",
    "\n",
    "9 - pH\n",
    "\n",
    "10 - sulphates\n",
    "\n",
    "11 - alcohol\n",
    "\n",
    "12 - quality (score between 0 and 10)\n",
    "\n",
    "O dataset foi encontrado no repositório de machine learning da UCI: https://archive.ics.uci.edu/ml/datasets/wine+quality\n",
    "\n",
    "Citação: P. Cortez, A. Cerdeira, F. Almeida, T. Matos and J. Reis. Modeling wine preferences by data mining from physicochemical properties. In Decision Support Systems, Elsevier, 47(4):547-553, 2009."
   ]
  },
  {
   "cell_type": "markdown",
   "metadata": {
    "papermill": {
     "duration": 0.040673,
     "end_time": "2020-11-23T23:22:23.173076",
     "exception": false,
     "start_time": "2020-11-23T23:22:23.132403",
     "status": "completed"
    },
    "tags": []
   },
   "source": [
    "**Problema de negócio**\n",
    "\n",
    "Uma grande importadora de vinhos brasileira compreende que a ampliação de sua presença no mercado passa pelo aumento do portifólio de produtos. Tal constatação parte do crescimento da sua maior concorrente (evino.com), que além de ter sido concebida em ambiente digital, possui grande capacidade de negociação e amplo mix de produtos/vinículas.\n",
    "\n",
    "Com intuíto de ampliar e buscar diferenciação, a importadora se compromete a visitar e negociar com novos produtores. A partir do momento em que começa a prospecção acaba por ter acesso a um universo muito grande de rótulos. Considerando o momento de pandemia, que impossibilita a visitação, e a necessidade imediata, opta por estabelecer uma relação com os vinhos que já fazem parte da sua carta considerando suas características químicas e sensoriais.\n",
    "\n",
    "O objetivo é encontrar uma relação entre os componentes dos vinhos e suas respectivas notas, habilitando o comprador da importadora a ter uma pré-seleção com base no score atribuído.\n",
    "\n",
    "Entende-se como 'bom' vinho um score igual ou maior do que 6."
   ]
  },
  {
   "cell_type": "code",
   "execution_count": 1,
   "metadata": {
    "execution": {
     "iopub.execute_input": "2020-11-23T23:22:23.261140Z",
     "iopub.status.busy": "2020-11-23T23:22:23.259900Z",
     "iopub.status.idle": "2020-11-23T23:22:23.262811Z",
     "shell.execute_reply": "2020-11-23T23:22:23.263346Z"
    },
    "papermill": {
     "duration": 0.050246,
     "end_time": "2020-11-23T23:22:23.263587",
     "exception": false,
     "start_time": "2020-11-23T23:22:23.213341",
     "status": "completed"
    },
    "tags": []
   },
   "outputs": [],
   "source": [
    "import pandas as pd\n",
    "import numpy as np"
   ]
  },
  {
   "cell_type": "code",
   "execution_count": 2,
   "metadata": {
    "execution": {
     "iopub.execute_input": "2020-11-23T23:22:23.355988Z",
     "iopub.status.busy": "2020-11-23T23:22:23.354840Z",
     "iopub.status.idle": "2020-11-23T23:22:23.403147Z",
     "shell.execute_reply": "2020-11-23T23:22:23.402562Z"
    },
    "papermill": {
     "duration": 0.09766,
     "end_time": "2020-11-23T23:22:23.403288",
     "exception": false,
     "start_time": "2020-11-23T23:22:23.305628",
     "status": "completed"
    },
    "tags": []
   },
   "outputs": [
    {
     "data": {
      "text/html": [
       "<div>\n",
       "<style scoped>\n",
       "    .dataframe tbody tr th:only-of-type {\n",
       "        vertical-align: middle;\n",
       "    }\n",
       "\n",
       "    .dataframe tbody tr th {\n",
       "        vertical-align: top;\n",
       "    }\n",
       "\n",
       "    .dataframe thead th {\n",
       "        text-align: right;\n",
       "    }\n",
       "</style>\n",
       "<table border=\"1\" class=\"dataframe\">\n",
       "  <thead>\n",
       "    <tr style=\"text-align: right;\">\n",
       "      <th></th>\n",
       "      <th>fixed acidity</th>\n",
       "      <th>volatile acidity</th>\n",
       "      <th>citric acid</th>\n",
       "      <th>residual sugar</th>\n",
       "      <th>chlorides</th>\n",
       "      <th>free sulfur dioxide</th>\n",
       "      <th>total sulfur dioxide</th>\n",
       "      <th>density</th>\n",
       "      <th>pH</th>\n",
       "      <th>sulphates</th>\n",
       "      <th>alcohol</th>\n",
       "      <th>quality</th>\n",
       "    </tr>\n",
       "  </thead>\n",
       "  <tbody>\n",
       "    <tr>\n",
       "      <th>0</th>\n",
       "      <td>7.4</td>\n",
       "      <td>0.700</td>\n",
       "      <td>0.00</td>\n",
       "      <td>1.9</td>\n",
       "      <td>0.076</td>\n",
       "      <td>11.0</td>\n",
       "      <td>34.0</td>\n",
       "      <td>0.99780</td>\n",
       "      <td>3.51</td>\n",
       "      <td>0.56</td>\n",
       "      <td>9.4</td>\n",
       "      <td>5</td>\n",
       "    </tr>\n",
       "    <tr>\n",
       "      <th>1</th>\n",
       "      <td>7.8</td>\n",
       "      <td>0.880</td>\n",
       "      <td>0.00</td>\n",
       "      <td>2.6</td>\n",
       "      <td>0.098</td>\n",
       "      <td>25.0</td>\n",
       "      <td>67.0</td>\n",
       "      <td>0.99680</td>\n",
       "      <td>3.20</td>\n",
       "      <td>0.68</td>\n",
       "      <td>9.8</td>\n",
       "      <td>5</td>\n",
       "    </tr>\n",
       "    <tr>\n",
       "      <th>2</th>\n",
       "      <td>7.8</td>\n",
       "      <td>0.760</td>\n",
       "      <td>0.04</td>\n",
       "      <td>2.3</td>\n",
       "      <td>0.092</td>\n",
       "      <td>15.0</td>\n",
       "      <td>54.0</td>\n",
       "      <td>0.99700</td>\n",
       "      <td>3.26</td>\n",
       "      <td>0.65</td>\n",
       "      <td>9.8</td>\n",
       "      <td>5</td>\n",
       "    </tr>\n",
       "    <tr>\n",
       "      <th>3</th>\n",
       "      <td>11.2</td>\n",
       "      <td>0.280</td>\n",
       "      <td>0.56</td>\n",
       "      <td>1.9</td>\n",
       "      <td>0.075</td>\n",
       "      <td>17.0</td>\n",
       "      <td>60.0</td>\n",
       "      <td>0.99800</td>\n",
       "      <td>3.16</td>\n",
       "      <td>0.58</td>\n",
       "      <td>9.8</td>\n",
       "      <td>6</td>\n",
       "    </tr>\n",
       "    <tr>\n",
       "      <th>4</th>\n",
       "      <td>7.4</td>\n",
       "      <td>0.700</td>\n",
       "      <td>0.00</td>\n",
       "      <td>1.9</td>\n",
       "      <td>0.076</td>\n",
       "      <td>11.0</td>\n",
       "      <td>34.0</td>\n",
       "      <td>0.99780</td>\n",
       "      <td>3.51</td>\n",
       "      <td>0.56</td>\n",
       "      <td>9.4</td>\n",
       "      <td>5</td>\n",
       "    </tr>\n",
       "    <tr>\n",
       "      <th>...</th>\n",
       "      <td>...</td>\n",
       "      <td>...</td>\n",
       "      <td>...</td>\n",
       "      <td>...</td>\n",
       "      <td>...</td>\n",
       "      <td>...</td>\n",
       "      <td>...</td>\n",
       "      <td>...</td>\n",
       "      <td>...</td>\n",
       "      <td>...</td>\n",
       "      <td>...</td>\n",
       "      <td>...</td>\n",
       "    </tr>\n",
       "    <tr>\n",
       "      <th>1594</th>\n",
       "      <td>6.2</td>\n",
       "      <td>0.600</td>\n",
       "      <td>0.08</td>\n",
       "      <td>2.0</td>\n",
       "      <td>0.090</td>\n",
       "      <td>32.0</td>\n",
       "      <td>44.0</td>\n",
       "      <td>0.99490</td>\n",
       "      <td>3.45</td>\n",
       "      <td>0.58</td>\n",
       "      <td>10.5</td>\n",
       "      <td>5</td>\n",
       "    </tr>\n",
       "    <tr>\n",
       "      <th>1595</th>\n",
       "      <td>5.9</td>\n",
       "      <td>0.550</td>\n",
       "      <td>0.10</td>\n",
       "      <td>2.2</td>\n",
       "      <td>0.062</td>\n",
       "      <td>39.0</td>\n",
       "      <td>51.0</td>\n",
       "      <td>0.99512</td>\n",
       "      <td>3.52</td>\n",
       "      <td>0.76</td>\n",
       "      <td>11.2</td>\n",
       "      <td>6</td>\n",
       "    </tr>\n",
       "    <tr>\n",
       "      <th>1596</th>\n",
       "      <td>6.3</td>\n",
       "      <td>0.510</td>\n",
       "      <td>0.13</td>\n",
       "      <td>2.3</td>\n",
       "      <td>0.076</td>\n",
       "      <td>29.0</td>\n",
       "      <td>40.0</td>\n",
       "      <td>0.99574</td>\n",
       "      <td>3.42</td>\n",
       "      <td>0.75</td>\n",
       "      <td>11.0</td>\n",
       "      <td>6</td>\n",
       "    </tr>\n",
       "    <tr>\n",
       "      <th>1597</th>\n",
       "      <td>5.9</td>\n",
       "      <td>0.645</td>\n",
       "      <td>0.12</td>\n",
       "      <td>2.0</td>\n",
       "      <td>0.075</td>\n",
       "      <td>32.0</td>\n",
       "      <td>44.0</td>\n",
       "      <td>0.99547</td>\n",
       "      <td>3.57</td>\n",
       "      <td>0.71</td>\n",
       "      <td>10.2</td>\n",
       "      <td>5</td>\n",
       "    </tr>\n",
       "    <tr>\n",
       "      <th>1598</th>\n",
       "      <td>6.0</td>\n",
       "      <td>0.310</td>\n",
       "      <td>0.47</td>\n",
       "      <td>3.6</td>\n",
       "      <td>0.067</td>\n",
       "      <td>18.0</td>\n",
       "      <td>42.0</td>\n",
       "      <td>0.99549</td>\n",
       "      <td>3.39</td>\n",
       "      <td>0.66</td>\n",
       "      <td>11.0</td>\n",
       "      <td>6</td>\n",
       "    </tr>\n",
       "  </tbody>\n",
       "</table>\n",
       "<p>1599 rows × 12 columns</p>\n",
       "</div>"
      ],
      "text/plain": [
       "      fixed acidity  volatile acidity  citric acid  residual sugar  chlorides  \\\n",
       "0               7.4             0.700         0.00             1.9      0.076   \n",
       "1               7.8             0.880         0.00             2.6      0.098   \n",
       "2               7.8             0.760         0.04             2.3      0.092   \n",
       "3              11.2             0.280         0.56             1.9      0.075   \n",
       "4               7.4             0.700         0.00             1.9      0.076   \n",
       "...             ...               ...          ...             ...        ...   \n",
       "1594            6.2             0.600         0.08             2.0      0.090   \n",
       "1595            5.9             0.550         0.10             2.2      0.062   \n",
       "1596            6.3             0.510         0.13             2.3      0.076   \n",
       "1597            5.9             0.645         0.12             2.0      0.075   \n",
       "1598            6.0             0.310         0.47             3.6      0.067   \n",
       "\n",
       "      free sulfur dioxide  total sulfur dioxide  density    pH  sulphates  \\\n",
       "0                    11.0                  34.0  0.99780  3.51       0.56   \n",
       "1                    25.0                  67.0  0.99680  3.20       0.68   \n",
       "2                    15.0                  54.0  0.99700  3.26       0.65   \n",
       "3                    17.0                  60.0  0.99800  3.16       0.58   \n",
       "4                    11.0                  34.0  0.99780  3.51       0.56   \n",
       "...                   ...                   ...      ...   ...        ...   \n",
       "1594                 32.0                  44.0  0.99490  3.45       0.58   \n",
       "1595                 39.0                  51.0  0.99512  3.52       0.76   \n",
       "1596                 29.0                  40.0  0.99574  3.42       0.75   \n",
       "1597                 32.0                  44.0  0.99547  3.57       0.71   \n",
       "1598                 18.0                  42.0  0.99549  3.39       0.66   \n",
       "\n",
       "      alcohol  quality  \n",
       "0         9.4        5  \n",
       "1         9.8        5  \n",
       "2         9.8        5  \n",
       "3         9.8        6  \n",
       "4         9.4        5  \n",
       "...       ...      ...  \n",
       "1594     10.5        5  \n",
       "1595     11.2        6  \n",
       "1596     11.0        6  \n",
       "1597     10.2        5  \n",
       "1598     11.0        6  \n",
       "\n",
       "[1599 rows x 12 columns]"
      ]
     },
     "execution_count": 2,
     "metadata": {},
     "output_type": "execute_result"
    }
   ],
   "source": [
    "df = pd.read_csv(\"../input/red-wine-quality-cortez-et-al-2009/winequality-red.csv\")\n",
    "df"
   ]
  },
  {
   "cell_type": "code",
   "execution_count": 3,
   "metadata": {
    "execution": {
     "iopub.execute_input": "2020-11-23T23:22:23.494906Z",
     "iopub.status.busy": "2020-11-23T23:22:23.494112Z",
     "iopub.status.idle": "2020-11-23T23:22:23.517471Z",
     "shell.execute_reply": "2020-11-23T23:22:23.516651Z"
    },
    "papermill": {
     "duration": 0.07247,
     "end_time": "2020-11-23T23:22:23.517614",
     "exception": false,
     "start_time": "2020-11-23T23:22:23.445144",
     "status": "completed"
    },
    "tags": []
   },
   "outputs": [],
   "source": [
    "conditions = [\n",
    "    (df['quality'] >=6),\n",
    "    (df['quality'] <6)\n",
    "]"
   ]
  },
  {
   "cell_type": "code",
   "execution_count": 4,
   "metadata": {
    "execution": {
     "iopub.execute_input": "2020-11-23T23:22:23.607300Z",
     "iopub.status.busy": "2020-11-23T23:22:23.606528Z",
     "iopub.status.idle": "2020-11-23T23:22:23.609208Z",
     "shell.execute_reply": "2020-11-23T23:22:23.609772Z"
    },
    "papermill": {
     "duration": 0.050696,
     "end_time": "2020-11-23T23:22:23.609945",
     "exception": false,
     "start_time": "2020-11-23T23:22:23.559249",
     "status": "completed"
    },
    "tags": []
   },
   "outputs": [],
   "source": [
    "values = ['1','0']"
   ]
  },
  {
   "cell_type": "code",
   "execution_count": 5,
   "metadata": {
    "execution": {
     "iopub.execute_input": "2020-11-23T23:22:23.699823Z",
     "iopub.status.busy": "2020-11-23T23:22:23.698985Z",
     "iopub.status.idle": "2020-11-23T23:22:23.728671Z",
     "shell.execute_reply": "2020-11-23T23:22:23.729229Z"
    },
    "papermill": {
     "duration": 0.077143,
     "end_time": "2020-11-23T23:22:23.729400",
     "exception": false,
     "start_time": "2020-11-23T23:22:23.652257",
     "status": "completed"
    },
    "tags": []
   },
   "outputs": [
    {
     "data": {
      "text/html": [
       "<div>\n",
       "<style scoped>\n",
       "    .dataframe tbody tr th:only-of-type {\n",
       "        vertical-align: middle;\n",
       "    }\n",
       "\n",
       "    .dataframe tbody tr th {\n",
       "        vertical-align: top;\n",
       "    }\n",
       "\n",
       "    .dataframe thead th {\n",
       "        text-align: right;\n",
       "    }\n",
       "</style>\n",
       "<table border=\"1\" class=\"dataframe\">\n",
       "  <thead>\n",
       "    <tr style=\"text-align: right;\">\n",
       "      <th></th>\n",
       "      <th>fixed acidity</th>\n",
       "      <th>volatile acidity</th>\n",
       "      <th>citric acid</th>\n",
       "      <th>residual sugar</th>\n",
       "      <th>chlorides</th>\n",
       "      <th>free sulfur dioxide</th>\n",
       "      <th>total sulfur dioxide</th>\n",
       "      <th>density</th>\n",
       "      <th>pH</th>\n",
       "      <th>sulphates</th>\n",
       "      <th>alcohol</th>\n",
       "      <th>quality</th>\n",
       "      <th>qualitygood</th>\n",
       "    </tr>\n",
       "  </thead>\n",
       "  <tbody>\n",
       "    <tr>\n",
       "      <th>0</th>\n",
       "      <td>7.4</td>\n",
       "      <td>0.700</td>\n",
       "      <td>0.00</td>\n",
       "      <td>1.9</td>\n",
       "      <td>0.076</td>\n",
       "      <td>11.0</td>\n",
       "      <td>34.0</td>\n",
       "      <td>0.99780</td>\n",
       "      <td>3.51</td>\n",
       "      <td>0.56</td>\n",
       "      <td>9.4</td>\n",
       "      <td>5</td>\n",
       "      <td>0</td>\n",
       "    </tr>\n",
       "    <tr>\n",
       "      <th>1</th>\n",
       "      <td>7.8</td>\n",
       "      <td>0.880</td>\n",
       "      <td>0.00</td>\n",
       "      <td>2.6</td>\n",
       "      <td>0.098</td>\n",
       "      <td>25.0</td>\n",
       "      <td>67.0</td>\n",
       "      <td>0.99680</td>\n",
       "      <td>3.20</td>\n",
       "      <td>0.68</td>\n",
       "      <td>9.8</td>\n",
       "      <td>5</td>\n",
       "      <td>0</td>\n",
       "    </tr>\n",
       "    <tr>\n",
       "      <th>2</th>\n",
       "      <td>7.8</td>\n",
       "      <td>0.760</td>\n",
       "      <td>0.04</td>\n",
       "      <td>2.3</td>\n",
       "      <td>0.092</td>\n",
       "      <td>15.0</td>\n",
       "      <td>54.0</td>\n",
       "      <td>0.99700</td>\n",
       "      <td>3.26</td>\n",
       "      <td>0.65</td>\n",
       "      <td>9.8</td>\n",
       "      <td>5</td>\n",
       "      <td>0</td>\n",
       "    </tr>\n",
       "    <tr>\n",
       "      <th>3</th>\n",
       "      <td>11.2</td>\n",
       "      <td>0.280</td>\n",
       "      <td>0.56</td>\n",
       "      <td>1.9</td>\n",
       "      <td>0.075</td>\n",
       "      <td>17.0</td>\n",
       "      <td>60.0</td>\n",
       "      <td>0.99800</td>\n",
       "      <td>3.16</td>\n",
       "      <td>0.58</td>\n",
       "      <td>9.8</td>\n",
       "      <td>6</td>\n",
       "      <td>1</td>\n",
       "    </tr>\n",
       "    <tr>\n",
       "      <th>4</th>\n",
       "      <td>7.4</td>\n",
       "      <td>0.700</td>\n",
       "      <td>0.00</td>\n",
       "      <td>1.9</td>\n",
       "      <td>0.076</td>\n",
       "      <td>11.0</td>\n",
       "      <td>34.0</td>\n",
       "      <td>0.99780</td>\n",
       "      <td>3.51</td>\n",
       "      <td>0.56</td>\n",
       "      <td>9.4</td>\n",
       "      <td>5</td>\n",
       "      <td>0</td>\n",
       "    </tr>\n",
       "    <tr>\n",
       "      <th>...</th>\n",
       "      <td>...</td>\n",
       "      <td>...</td>\n",
       "      <td>...</td>\n",
       "      <td>...</td>\n",
       "      <td>...</td>\n",
       "      <td>...</td>\n",
       "      <td>...</td>\n",
       "      <td>...</td>\n",
       "      <td>...</td>\n",
       "      <td>...</td>\n",
       "      <td>...</td>\n",
       "      <td>...</td>\n",
       "      <td>...</td>\n",
       "    </tr>\n",
       "    <tr>\n",
       "      <th>1594</th>\n",
       "      <td>6.2</td>\n",
       "      <td>0.600</td>\n",
       "      <td>0.08</td>\n",
       "      <td>2.0</td>\n",
       "      <td>0.090</td>\n",
       "      <td>32.0</td>\n",
       "      <td>44.0</td>\n",
       "      <td>0.99490</td>\n",
       "      <td>3.45</td>\n",
       "      <td>0.58</td>\n",
       "      <td>10.5</td>\n",
       "      <td>5</td>\n",
       "      <td>0</td>\n",
       "    </tr>\n",
       "    <tr>\n",
       "      <th>1595</th>\n",
       "      <td>5.9</td>\n",
       "      <td>0.550</td>\n",
       "      <td>0.10</td>\n",
       "      <td>2.2</td>\n",
       "      <td>0.062</td>\n",
       "      <td>39.0</td>\n",
       "      <td>51.0</td>\n",
       "      <td>0.99512</td>\n",
       "      <td>3.52</td>\n",
       "      <td>0.76</td>\n",
       "      <td>11.2</td>\n",
       "      <td>6</td>\n",
       "      <td>1</td>\n",
       "    </tr>\n",
       "    <tr>\n",
       "      <th>1596</th>\n",
       "      <td>6.3</td>\n",
       "      <td>0.510</td>\n",
       "      <td>0.13</td>\n",
       "      <td>2.3</td>\n",
       "      <td>0.076</td>\n",
       "      <td>29.0</td>\n",
       "      <td>40.0</td>\n",
       "      <td>0.99574</td>\n",
       "      <td>3.42</td>\n",
       "      <td>0.75</td>\n",
       "      <td>11.0</td>\n",
       "      <td>6</td>\n",
       "      <td>1</td>\n",
       "    </tr>\n",
       "    <tr>\n",
       "      <th>1597</th>\n",
       "      <td>5.9</td>\n",
       "      <td>0.645</td>\n",
       "      <td>0.12</td>\n",
       "      <td>2.0</td>\n",
       "      <td>0.075</td>\n",
       "      <td>32.0</td>\n",
       "      <td>44.0</td>\n",
       "      <td>0.99547</td>\n",
       "      <td>3.57</td>\n",
       "      <td>0.71</td>\n",
       "      <td>10.2</td>\n",
       "      <td>5</td>\n",
       "      <td>0</td>\n",
       "    </tr>\n",
       "    <tr>\n",
       "      <th>1598</th>\n",
       "      <td>6.0</td>\n",
       "      <td>0.310</td>\n",
       "      <td>0.47</td>\n",
       "      <td>3.6</td>\n",
       "      <td>0.067</td>\n",
       "      <td>18.0</td>\n",
       "      <td>42.0</td>\n",
       "      <td>0.99549</td>\n",
       "      <td>3.39</td>\n",
       "      <td>0.66</td>\n",
       "      <td>11.0</td>\n",
       "      <td>6</td>\n",
       "      <td>1</td>\n",
       "    </tr>\n",
       "  </tbody>\n",
       "</table>\n",
       "<p>1599 rows × 13 columns</p>\n",
       "</div>"
      ],
      "text/plain": [
       "      fixed acidity  volatile acidity  citric acid  residual sugar  chlorides  \\\n",
       "0               7.4             0.700         0.00             1.9      0.076   \n",
       "1               7.8             0.880         0.00             2.6      0.098   \n",
       "2               7.8             0.760         0.04             2.3      0.092   \n",
       "3              11.2             0.280         0.56             1.9      0.075   \n",
       "4               7.4             0.700         0.00             1.9      0.076   \n",
       "...             ...               ...          ...             ...        ...   \n",
       "1594            6.2             0.600         0.08             2.0      0.090   \n",
       "1595            5.9             0.550         0.10             2.2      0.062   \n",
       "1596            6.3             0.510         0.13             2.3      0.076   \n",
       "1597            5.9             0.645         0.12             2.0      0.075   \n",
       "1598            6.0             0.310         0.47             3.6      0.067   \n",
       "\n",
       "      free sulfur dioxide  total sulfur dioxide  density    pH  sulphates  \\\n",
       "0                    11.0                  34.0  0.99780  3.51       0.56   \n",
       "1                    25.0                  67.0  0.99680  3.20       0.68   \n",
       "2                    15.0                  54.0  0.99700  3.26       0.65   \n",
       "3                    17.0                  60.0  0.99800  3.16       0.58   \n",
       "4                    11.0                  34.0  0.99780  3.51       0.56   \n",
       "...                   ...                   ...      ...   ...        ...   \n",
       "1594                 32.0                  44.0  0.99490  3.45       0.58   \n",
       "1595                 39.0                  51.0  0.99512  3.52       0.76   \n",
       "1596                 29.0                  40.0  0.99574  3.42       0.75   \n",
       "1597                 32.0                  44.0  0.99547  3.57       0.71   \n",
       "1598                 18.0                  42.0  0.99549  3.39       0.66   \n",
       "\n",
       "      alcohol  quality qualitygood  \n",
       "0         9.4        5           0  \n",
       "1         9.8        5           0  \n",
       "2         9.8        5           0  \n",
       "3         9.8        6           1  \n",
       "4         9.4        5           0  \n",
       "...       ...      ...         ...  \n",
       "1594     10.5        5           0  \n",
       "1595     11.2        6           1  \n",
       "1596     11.0        6           1  \n",
       "1597     10.2        5           0  \n",
       "1598     11.0        6           1  \n",
       "\n",
       "[1599 rows x 13 columns]"
      ]
     },
     "execution_count": 5,
     "metadata": {},
     "output_type": "execute_result"
    }
   ],
   "source": [
    "df['qualitygood'] = np.select(conditions,values)\n",
    "df"
   ]
  },
  {
   "cell_type": "markdown",
   "metadata": {
    "papermill": {
     "duration": 0.042764,
     "end_time": "2020-11-23T23:22:23.814816",
     "exception": false,
     "start_time": "2020-11-23T23:22:23.772052",
     "status": "completed"
    },
    "tags": []
   },
   "source": [
    "**Análise exploratória de dados**\n",
    "\n",
    "Considerações:\n",
    "* O dataset não possui nenhum null value;\n",
    "* Por outro lado, diversos outliers foram encontrados entre as variáveis, principalmente nas variáveis 'açucar resídual' e 'cloreto';\n",
    "* 'Acidez fixa': não é capaz de predizer a qualidade, uma vez que a variação entre diferentes notas foi parecida;\n",
    "* 'Acidez volátil': indica correlação entre indicador de acidez e nota. Quanto maior nota menor a acidez;\n",
    "* 'Acidez cítrica': não indica maior ou melhor qualidade, porém as notas mais altas (7 e 8) apontam maior equilíbrio entre as distribuições;\n",
    "* 'Açucar resídual': variação equilibrada mas com diversos outliers (especialmente com as notas intermediárias como 5 e 6);\n",
    "* 'Cloreto': variação equilibrada com diversos outliers (especialmente com as notas intermediárias como 5 e 6);\n",
    "* 'PH': notas mais altas (acima de 6) apresentaram limites inferiores menores do que as demais notas;\n",
    "* 'Sulfato': notas mais altas apresentaram maior índice de sulfato;\n",
    "* 'Álcool': notas mais altas apresentaram maior volume de álcool."
   ]
  },
  {
   "cell_type": "code",
   "execution_count": 6,
   "metadata": {
    "execution": {
     "iopub.execute_input": "2020-11-23T23:22:23.905684Z",
     "iopub.status.busy": "2020-11-23T23:22:23.904892Z",
     "iopub.status.idle": "2020-11-23T23:22:24.933370Z",
     "shell.execute_reply": "2020-11-23T23:22:24.932590Z"
    },
    "papermill": {
     "duration": 1.076124,
     "end_time": "2020-11-23T23:22:24.933521",
     "exception": false,
     "start_time": "2020-11-23T23:22:23.857397",
     "status": "completed"
    },
    "tags": []
   },
   "outputs": [],
   "source": [
    "import seaborn as sns"
   ]
  },
  {
   "cell_type": "code",
   "execution_count": 7,
   "metadata": {
    "execution": {
     "iopub.execute_input": "2020-11-23T23:22:25.048761Z",
     "iopub.status.busy": "2020-11-23T23:22:25.047824Z",
     "iopub.status.idle": "2020-11-23T23:22:25.052850Z",
     "shell.execute_reply": "2020-11-23T23:22:25.052220Z"
    },
    "papermill": {
     "duration": 0.075953,
     "end_time": "2020-11-23T23:22:25.052974",
     "exception": false,
     "start_time": "2020-11-23T23:22:24.977021",
     "status": "completed"
    },
    "tags": []
   },
   "outputs": [
    {
     "data": {
      "text/html": [
       "<div>\n",
       "<style scoped>\n",
       "    .dataframe tbody tr th:only-of-type {\n",
       "        vertical-align: middle;\n",
       "    }\n",
       "\n",
       "    .dataframe tbody tr th {\n",
       "        vertical-align: top;\n",
       "    }\n",
       "\n",
       "    .dataframe thead th {\n",
       "        text-align: right;\n",
       "    }\n",
       "</style>\n",
       "<table border=\"1\" class=\"dataframe\">\n",
       "  <thead>\n",
       "    <tr style=\"text-align: right;\">\n",
       "      <th></th>\n",
       "      <th>fixed acidity</th>\n",
       "      <th>volatile acidity</th>\n",
       "      <th>citric acid</th>\n",
       "      <th>residual sugar</th>\n",
       "      <th>chlorides</th>\n",
       "      <th>free sulfur dioxide</th>\n",
       "      <th>total sulfur dioxide</th>\n",
       "      <th>density</th>\n",
       "      <th>pH</th>\n",
       "      <th>sulphates</th>\n",
       "      <th>alcohol</th>\n",
       "      <th>quality</th>\n",
       "      <th>qualitygood</th>\n",
       "    </tr>\n",
       "  </thead>\n",
       "  <tbody>\n",
       "    <tr>\n",
       "      <th>0</th>\n",
       "      <td>False</td>\n",
       "      <td>False</td>\n",
       "      <td>False</td>\n",
       "      <td>False</td>\n",
       "      <td>False</td>\n",
       "      <td>False</td>\n",
       "      <td>False</td>\n",
       "      <td>False</td>\n",
       "      <td>False</td>\n",
       "      <td>False</td>\n",
       "      <td>False</td>\n",
       "      <td>False</td>\n",
       "      <td>False</td>\n",
       "    </tr>\n",
       "    <tr>\n",
       "      <th>1</th>\n",
       "      <td>False</td>\n",
       "      <td>False</td>\n",
       "      <td>False</td>\n",
       "      <td>False</td>\n",
       "      <td>False</td>\n",
       "      <td>False</td>\n",
       "      <td>False</td>\n",
       "      <td>False</td>\n",
       "      <td>False</td>\n",
       "      <td>False</td>\n",
       "      <td>False</td>\n",
       "      <td>False</td>\n",
       "      <td>False</td>\n",
       "    </tr>\n",
       "    <tr>\n",
       "      <th>2</th>\n",
       "      <td>False</td>\n",
       "      <td>False</td>\n",
       "      <td>False</td>\n",
       "      <td>False</td>\n",
       "      <td>False</td>\n",
       "      <td>False</td>\n",
       "      <td>False</td>\n",
       "      <td>False</td>\n",
       "      <td>False</td>\n",
       "      <td>False</td>\n",
       "      <td>False</td>\n",
       "      <td>False</td>\n",
       "      <td>False</td>\n",
       "    </tr>\n",
       "    <tr>\n",
       "      <th>3</th>\n",
       "      <td>False</td>\n",
       "      <td>False</td>\n",
       "      <td>False</td>\n",
       "      <td>False</td>\n",
       "      <td>False</td>\n",
       "      <td>False</td>\n",
       "      <td>False</td>\n",
       "      <td>False</td>\n",
       "      <td>False</td>\n",
       "      <td>False</td>\n",
       "      <td>False</td>\n",
       "      <td>False</td>\n",
       "      <td>False</td>\n",
       "    </tr>\n",
       "    <tr>\n",
       "      <th>4</th>\n",
       "      <td>False</td>\n",
       "      <td>False</td>\n",
       "      <td>False</td>\n",
       "      <td>False</td>\n",
       "      <td>False</td>\n",
       "      <td>False</td>\n",
       "      <td>False</td>\n",
       "      <td>False</td>\n",
       "      <td>False</td>\n",
       "      <td>False</td>\n",
       "      <td>False</td>\n",
       "      <td>False</td>\n",
       "      <td>False</td>\n",
       "    </tr>\n",
       "    <tr>\n",
       "      <th>...</th>\n",
       "      <td>...</td>\n",
       "      <td>...</td>\n",
       "      <td>...</td>\n",
       "      <td>...</td>\n",
       "      <td>...</td>\n",
       "      <td>...</td>\n",
       "      <td>...</td>\n",
       "      <td>...</td>\n",
       "      <td>...</td>\n",
       "      <td>...</td>\n",
       "      <td>...</td>\n",
       "      <td>...</td>\n",
       "      <td>...</td>\n",
       "    </tr>\n",
       "    <tr>\n",
       "      <th>1594</th>\n",
       "      <td>False</td>\n",
       "      <td>False</td>\n",
       "      <td>False</td>\n",
       "      <td>False</td>\n",
       "      <td>False</td>\n",
       "      <td>False</td>\n",
       "      <td>False</td>\n",
       "      <td>False</td>\n",
       "      <td>False</td>\n",
       "      <td>False</td>\n",
       "      <td>False</td>\n",
       "      <td>False</td>\n",
       "      <td>False</td>\n",
       "    </tr>\n",
       "    <tr>\n",
       "      <th>1595</th>\n",
       "      <td>False</td>\n",
       "      <td>False</td>\n",
       "      <td>False</td>\n",
       "      <td>False</td>\n",
       "      <td>False</td>\n",
       "      <td>False</td>\n",
       "      <td>False</td>\n",
       "      <td>False</td>\n",
       "      <td>False</td>\n",
       "      <td>False</td>\n",
       "      <td>False</td>\n",
       "      <td>False</td>\n",
       "      <td>False</td>\n",
       "    </tr>\n",
       "    <tr>\n",
       "      <th>1596</th>\n",
       "      <td>False</td>\n",
       "      <td>False</td>\n",
       "      <td>False</td>\n",
       "      <td>False</td>\n",
       "      <td>False</td>\n",
       "      <td>False</td>\n",
       "      <td>False</td>\n",
       "      <td>False</td>\n",
       "      <td>False</td>\n",
       "      <td>False</td>\n",
       "      <td>False</td>\n",
       "      <td>False</td>\n",
       "      <td>False</td>\n",
       "    </tr>\n",
       "    <tr>\n",
       "      <th>1597</th>\n",
       "      <td>False</td>\n",
       "      <td>False</td>\n",
       "      <td>False</td>\n",
       "      <td>False</td>\n",
       "      <td>False</td>\n",
       "      <td>False</td>\n",
       "      <td>False</td>\n",
       "      <td>False</td>\n",
       "      <td>False</td>\n",
       "      <td>False</td>\n",
       "      <td>False</td>\n",
       "      <td>False</td>\n",
       "      <td>False</td>\n",
       "    </tr>\n",
       "    <tr>\n",
       "      <th>1598</th>\n",
       "      <td>False</td>\n",
       "      <td>False</td>\n",
       "      <td>False</td>\n",
       "      <td>False</td>\n",
       "      <td>False</td>\n",
       "      <td>False</td>\n",
       "      <td>False</td>\n",
       "      <td>False</td>\n",
       "      <td>False</td>\n",
       "      <td>False</td>\n",
       "      <td>False</td>\n",
       "      <td>False</td>\n",
       "      <td>False</td>\n",
       "    </tr>\n",
       "  </tbody>\n",
       "</table>\n",
       "<p>1599 rows × 13 columns</p>\n",
       "</div>"
      ],
      "text/plain": [
       "      fixed acidity  volatile acidity  citric acid  residual sugar  chlorides  \\\n",
       "0             False             False        False           False      False   \n",
       "1             False             False        False           False      False   \n",
       "2             False             False        False           False      False   \n",
       "3             False             False        False           False      False   \n",
       "4             False             False        False           False      False   \n",
       "...             ...               ...          ...             ...        ...   \n",
       "1594          False             False        False           False      False   \n",
       "1595          False             False        False           False      False   \n",
       "1596          False             False        False           False      False   \n",
       "1597          False             False        False           False      False   \n",
       "1598          False             False        False           False      False   \n",
       "\n",
       "      free sulfur dioxide  total sulfur dioxide  density     pH  sulphates  \\\n",
       "0                   False                 False    False  False      False   \n",
       "1                   False                 False    False  False      False   \n",
       "2                   False                 False    False  False      False   \n",
       "3                   False                 False    False  False      False   \n",
       "4                   False                 False    False  False      False   \n",
       "...                   ...                   ...      ...    ...        ...   \n",
       "1594                False                 False    False  False      False   \n",
       "1595                False                 False    False  False      False   \n",
       "1596                False                 False    False  False      False   \n",
       "1597                False                 False    False  False      False   \n",
       "1598                False                 False    False  False      False   \n",
       "\n",
       "      alcohol  quality  qualitygood  \n",
       "0       False    False        False  \n",
       "1       False    False        False  \n",
       "2       False    False        False  \n",
       "3       False    False        False  \n",
       "4       False    False        False  \n",
       "...       ...      ...          ...  \n",
       "1594    False    False        False  \n",
       "1595    False    False        False  \n",
       "1596    False    False        False  \n",
       "1597    False    False        False  \n",
       "1598    False    False        False  \n",
       "\n",
       "[1599 rows x 13 columns]"
      ]
     },
     "execution_count": 7,
     "metadata": {},
     "output_type": "execute_result"
    }
   ],
   "source": [
    "df.isnull()"
   ]
  },
  {
   "cell_type": "code",
   "execution_count": 8,
   "metadata": {
    "execution": {
     "iopub.execute_input": "2020-11-23T23:22:25.152633Z",
     "iopub.status.busy": "2020-11-23T23:22:25.151856Z",
     "iopub.status.idle": "2020-11-23T23:22:25.421088Z",
     "shell.execute_reply": "2020-11-23T23:22:25.420294Z"
    },
    "papermill": {
     "duration": 0.324051,
     "end_time": "2020-11-23T23:22:25.421216",
     "exception": false,
     "start_time": "2020-11-23T23:22:25.097165",
     "status": "completed"
    },
    "tags": []
   },
   "outputs": [
    {
     "data": {
      "text/plain": [
       "<matplotlib.axes._subplots.AxesSubplot at 0x7efc525ce550>"
      ]
     },
     "execution_count": 8,
     "metadata": {},
     "output_type": "execute_result"
    },
    {
     "data": {
      "image/png": "[encoded data removed]",
      "text/plain": [
       "<Figure size 432x288 with 1 Axes>"
      ]
     },
     "metadata": {
      "needs_background": "light"
     },
     "output_type": "display_data"
    }
   ],
   "source": [
    "sns.boxplot(data=df, x = 'quality', y = 'fixed acidity') "
   ]
  },
  {
   "cell_type": "code",
   "execution_count": 9,
   "metadata": {
    "execution": {
     "iopub.execute_input": "2020-11-23T23:22:25.518602Z",
     "iopub.status.busy": "2020-11-23T23:22:25.517758Z",
     "iopub.status.idle": "2020-11-23T23:22:25.746925Z",
     "shell.execute_reply": "2020-11-23T23:22:25.746157Z"
    },
    "papermill": {
     "duration": 0.280765,
     "end_time": "2020-11-23T23:22:25.747050",
     "exception": false,
     "start_time": "2020-11-23T23:22:25.466285",
     "status": "completed"
    },
    "tags": []
   },
   "outputs": [
    {
     "data": {
      "text/plain": [
       "<matplotlib.axes._subplots.AxesSubplot at 0x7efc523785d0>"
      ]
     },
     "execution_count": 9,
     "metadata": {},
     "output_type": "execute_result"
    },
    {
     "data": {
      "image/png": "[encoded data removed]",
      "text/plain": [
       "<Figure size 432x288 with 1 Axes>"
      ]
     },
     "metadata": {
      "needs_background": "light"
     },
     "output_type": "display_data"
    }
   ],
   "source": [
    "sns.boxplot(data=df, x = 'quality', y = 'volatile acidity')"
   ]
  },
  {
   "cell_type": "code",
   "execution_count": 10,
   "metadata": {
    "execution": {
     "iopub.execute_input": "2020-11-23T23:22:25.855146Z",
     "iopub.status.busy": "2020-11-23T23:22:25.847428Z",
     "iopub.status.idle": "2020-11-23T23:22:26.065873Z",
     "shell.execute_reply": "2020-11-23T23:22:26.066403Z"
    },
    "papermill": {
     "duration": 0.271895,
     "end_time": "2020-11-23T23:22:26.066602",
     "exception": false,
     "start_time": "2020-11-23T23:22:25.794707",
     "status": "completed"
    },
    "tags": []
   },
   "outputs": [
    {
     "data": {
      "text/plain": [
       "<matplotlib.axes._subplots.AxesSubplot at 0x7efc52273a90>"
      ]
     },
     "execution_count": 10,
     "metadata": {},
     "output_type": "execute_result"
    },
    {
     "data": {
      "image/png": "[encoded data removed]",
      "text/plain": [
       "<Figure size 432x288 with 1 Axes>"
      ]
     },
     "metadata": {
      "needs_background": "light"
     },
     "output_type": "display_data"
    }
   ],
   "source": [
    "sns.boxplot(data=df, x = 'quality', y = 'citric acid') "
   ]
  },
  {
   "cell_type": "code",
   "execution_count": 11,
   "metadata": {
    "execution": {
     "iopub.execute_input": "2020-11-23T23:22:26.179388Z",
     "iopub.status.busy": "2020-11-23T23:22:26.170373Z",
     "iopub.status.idle": "2020-11-23T23:22:26.411036Z",
     "shell.execute_reply": "2020-11-23T23:22:26.410280Z"
    },
    "papermill": {
     "duration": 0.295603,
     "end_time": "2020-11-23T23:22:26.411172",
     "exception": false,
     "start_time": "2020-11-23T23:22:26.115569",
     "status": "completed"
    },
    "tags": []
   },
   "outputs": [
    {
     "data": {
      "text/plain": [
       "<matplotlib.axes._subplots.AxesSubplot at 0x7efc52157750>"
      ]
     },
     "execution_count": 11,
     "metadata": {},
     "output_type": "execute_result"
    },
    {
     "data": {
      "image/png": "[encoded data removed]",
      "text/plain": [
       "<Figure size 432x288 with 1 Axes>"
      ]
     },
     "metadata": {
      "needs_background": "light"
     },
     "output_type": "display_data"
    }
   ],
   "source": [
    "sns.boxplot(data=df, x = 'quality', y = 'residual sugar')"
   ]
  },
  {
   "cell_type": "code",
   "execution_count": 12,
   "metadata": {
    "execution": {
     "iopub.execute_input": "2020-11-23T23:22:26.632974Z",
     "iopub.status.busy": "2020-11-23T23:22:26.540970Z",
     "iopub.status.idle": "2020-11-23T23:22:26.848817Z",
     "shell.execute_reply": "2020-11-23T23:22:26.848123Z"
    },
    "papermill": {
     "duration": 0.369734,
     "end_time": "2020-11-23T23:22:26.848946",
     "exception": false,
     "start_time": "2020-11-23T23:22:26.479212",
     "status": "completed"
    },
    "tags": []
   },
   "outputs": [
    {
     "data": {
      "text/plain": [
       "<matplotlib.axes._subplots.AxesSubplot at 0x7efc520c05d0>"
      ]
     },
     "execution_count": 12,
     "metadata": {},
     "output_type": "execute_result"
    },
    {
     "data": {
      "image/png": "[encoded data removed]",
      "text/plain": [
       "<Figure size 432x288 with 1 Axes>"
      ]
     },
     "metadata": {
      "needs_background": "light"
     },
     "output_type": "display_data"
    }
   ],
   "source": [
    "sns.boxplot(data=df, x = 'quality', y = 'chlorides')"
   ]
  },
  {
   "cell_type": "code",
   "execution_count": 13,
   "metadata": {
    "execution": {
     "iopub.execute_input": "2020-11-23T23:22:26.966220Z",
     "iopub.status.busy": "2020-11-23T23:22:26.959498Z",
     "iopub.status.idle": "2020-11-23T23:22:27.188073Z",
     "shell.execute_reply": "2020-11-23T23:22:27.187295Z"
    },
    "papermill": {
     "duration": 0.287073,
     "end_time": "2020-11-23T23:22:27.188207",
     "exception": false,
     "start_time": "2020-11-23T23:22:26.901134",
     "status": "completed"
    },
    "tags": []
   },
   "outputs": [
    {
     "data": {
      "text/plain": [
       "<matplotlib.axes._subplots.AxesSubplot at 0x7efc52262290>"
      ]
     },
     "execution_count": 13,
     "metadata": {},
     "output_type": "execute_result"
    },
    {
     "data": {
      "image/png": "[encoded data removed]",
      "text/plain": [
       "<Figure size 432x288 with 1 Axes>"
      ]
     },
     "metadata": {
      "needs_background": "light"
     },
     "output_type": "display_data"
    }
   ],
   "source": [
    "sns.boxplot(data=df, x = 'quality', y = 'free sulfur dioxide') "
   ]
  },
  {
   "cell_type": "code",
   "execution_count": 14,
   "metadata": {
    "execution": {
     "iopub.execute_input": "2020-11-23T23:22:27.306648Z",
     "iopub.status.busy": "2020-11-23T23:22:27.299305Z",
     "iopub.status.idle": "2020-11-23T23:22:27.524339Z",
     "shell.execute_reply": "2020-11-23T23:22:27.523715Z"
    },
    "papermill": {
     "duration": 0.283733,
     "end_time": "2020-11-23T23:22:27.524476",
     "exception": false,
     "start_time": "2020-11-23T23:22:27.240743",
     "status": "completed"
    },
    "tags": []
   },
   "outputs": [
    {
     "data": {
      "text/plain": [
       "<matplotlib.axes._subplots.AxesSubplot at 0x7efc51eeabd0>"
      ]
     },
     "execution_count": 14,
     "metadata": {},
     "output_type": "execute_result"
    },
    {
     "data": {
      "image/png": "[encoded data removed]",
      "text/plain": [
       "<Figure size 432x288 with 1 Axes>"
      ]
     },
     "metadata": {
      "needs_background": "light"
     },
     "output_type": "display_data"
    }
   ],
   "source": [
    "sns.boxplot(data=df, x = 'quality', y = 'total sulfur dioxide') "
   ]
  },
  {
   "cell_type": "code",
   "execution_count": 15,
   "metadata": {
    "execution": {
     "iopub.execute_input": "2020-11-23T23:22:27.646943Z",
     "iopub.status.busy": "2020-11-23T23:22:27.638814Z",
     "iopub.status.idle": "2020-11-23T23:22:27.870127Z",
     "shell.execute_reply": "2020-11-23T23:22:27.869357Z"
    },
    "papermill": {
     "duration": 0.292035,
     "end_time": "2020-11-23T23:22:27.870251",
     "exception": false,
     "start_time": "2020-11-23T23:22:27.578216",
     "status": "completed"
    },
    "tags": []
   },
   "outputs": [
    {
     "data": {
      "text/plain": [
       "<matplotlib.axes._subplots.AxesSubplot at 0x7efc51dd1410>"
      ]
     },
     "execution_count": 15,
     "metadata": {},
     "output_type": "execute_result"
    },
    {
     "data": {
      "image/png": "[encoded data removed]",
      "text/plain": [
       "<Figure size 432x288 with 1 Axes>"
      ]
     },
     "metadata": {
      "needs_background": "light"
     },
     "output_type": "display_data"
    }
   ],
   "source": [
    "sns.boxplot(data=df, x = 'quality', y = 'density') "
   ]
  },
  {
   "cell_type": "code",
   "execution_count": 16,
   "metadata": {
    "execution": {
     "iopub.execute_input": "2020-11-23T23:22:27.994928Z",
     "iopub.status.busy": "2020-11-23T23:22:27.989014Z",
     "iopub.status.idle": "2020-11-23T23:22:28.214646Z",
     "shell.execute_reply": "2020-11-23T23:22:28.215297Z"
    },
    "papermill": {
     "duration": 0.289776,
     "end_time": "2020-11-23T23:22:28.215477",
     "exception": false,
     "start_time": "2020-11-23T23:22:27.925701",
     "status": "completed"
    },
    "tags": []
   },
   "outputs": [
    {
     "data": {
      "text/plain": [
       "<matplotlib.axes._subplots.AxesSubplot at 0x7efc51d3aa90>"
      ]
     },
     "execution_count": 16,
     "metadata": {},
     "output_type": "execute_result"
    },
    {
     "data": {
      "image/png": "[encoded data removed]",
      "text/plain": [
       "<Figure size 432x288 with 1 Axes>"
      ]
     },
     "metadata": {
      "needs_background": "light"
     },
     "output_type": "display_data"
    }
   ],
   "source": [
    "sns.boxplot(data=df, x = 'quality', y = 'pH') "
   ]
  },
  {
   "cell_type": "code",
   "execution_count": 17,
   "metadata": {
    "execution": {
     "iopub.execute_input": "2020-11-23T23:22:28.351929Z",
     "iopub.status.busy": "2020-11-23T23:22:28.344461Z",
     "iopub.status.idle": "2020-11-23T23:22:28.562816Z",
     "shell.execute_reply": "2020-11-23T23:22:28.562072Z"
    },
    "papermill": {
     "duration": 0.289864,
     "end_time": "2020-11-23T23:22:28.562941",
     "exception": false,
     "start_time": "2020-11-23T23:22:28.273077",
     "status": "completed"
    },
    "tags": []
   },
   "outputs": [
    {
     "data": {
      "text/plain": [
       "<matplotlib.axes._subplots.AxesSubplot at 0x7efc51c85d10>"
      ]
     },
     "execution_count": 17,
     "metadata": {},
     "output_type": "execute_result"
    },
    {
     "data": {
      "image/png": "[encoded data removed]",
      "text/plain": [
       "<Figure size 432x288 with 1 Axes>"
      ]
     },
     "metadata": {
      "needs_background": "light"
     },
     "output_type": "display_data"
    }
   ],
   "source": [
    "sns.boxplot(data=df, x = 'quality', y ='sulphates')"
   ]
  },
  {
   "cell_type": "code",
   "execution_count": 18,
   "metadata": {
    "execution": {
     "iopub.execute_input": "2020-11-23T23:22:28.692517Z",
     "iopub.status.busy": "2020-11-23T23:22:28.685940Z",
     "iopub.status.idle": "2020-11-23T23:22:28.908583Z",
     "shell.execute_reply": "2020-11-23T23:22:28.907836Z"
    },
    "papermill": {
     "duration": 0.28748,
     "end_time": "2020-11-23T23:22:28.908710",
     "exception": false,
     "start_time": "2020-11-23T23:22:28.621230",
     "status": "completed"
    },
    "tags": []
   },
   "outputs": [
    {
     "data": {
      "text/plain": [
       "<matplotlib.axes._subplots.AxesSubplot at 0x7efc51b5f690>"
      ]
     },
     "execution_count": 18,
     "metadata": {},
     "output_type": "execute_result"
    },
    {
     "data": {
      "image/png": "[encoded data removed]",
      "text/plain": [
       "<Figure size 432x288 with 1 Axes>"
      ]
     },
     "metadata": {
      "needs_background": "light"
     },
     "output_type": "display_data"
    }
   ],
   "source": [
    "sns.boxplot(data=df, x = 'quality', y ='alcohol') "
   ]
  },
  {
   "cell_type": "code",
   "execution_count": 19,
   "metadata": {
    "execution": {
     "iopub.execute_input": "2020-11-23T23:22:29.034375Z",
     "iopub.status.busy": "2020-11-23T23:22:29.033608Z",
     "iopub.status.idle": "2020-11-23T23:22:29.243290Z",
     "shell.execute_reply": "2020-11-23T23:22:29.242532Z"
    },
    "papermill": {
     "duration": 0.274325,
     "end_time": "2020-11-23T23:22:29.243420",
     "exception": false,
     "start_time": "2020-11-23T23:22:28.969095",
     "status": "completed"
    },
    "tags": []
   },
   "outputs": [
    {
     "data": {
      "text/plain": [
       "<matplotlib.axes._subplots.AxesSubplot at 0x7efc51a3e2d0>"
      ]
     },
     "execution_count": 19,
     "metadata": {},
     "output_type": "execute_result"
    },
    {
     "data": {
      "image/png": "[encoded data removed]",
      "text/plain": [
       "<Figure size 432x288 with 1 Axes>"
      ]
     },
     "metadata": {
      "needs_background": "light"
     },
     "output_type": "display_data"
    }
   ],
   "source": [
    "df.plot.scatter(x='quality', y='alcohol')"
   ]
  },
  {
   "cell_type": "code",
   "execution_count": 20,
   "metadata": {
    "execution": {
     "iopub.execute_input": "2020-11-23T23:22:29.373941Z",
     "iopub.status.busy": "2020-11-23T23:22:29.370874Z",
     "iopub.status.idle": "2020-11-23T23:22:29.555322Z",
     "shell.execute_reply": "2020-11-23T23:22:29.556014Z"
    },
    "papermill": {
     "duration": 0.251504,
     "end_time": "2020-11-23T23:22:29.556208",
     "exception": false,
     "start_time": "2020-11-23T23:22:29.304704",
     "status": "completed"
    },
    "tags": []
   },
   "outputs": [
    {
     "data": {
      "text/plain": [
       "<matplotlib.axes._subplots.AxesSubplot at 0x7efc519bca10>"
      ]
     },
     "execution_count": 20,
     "metadata": {},
     "output_type": "execute_result"
    },
    {
     "data": {
      "image/png": "[encoded data removed]",
      "text/plain": [
       "<Figure size 432x288 with 1 Axes>"
      ]
     },
     "metadata": {
      "needs_background": "light"
     },
     "output_type": "display_data"
    }
   ],
   "source": [
    "df.plot.scatter(x='quality', y='sulphates')"
   ]
  },
  {
   "cell_type": "code",
   "execution_count": 21,
   "metadata": {
    "execution": {
     "iopub.execute_input": "2020-11-23T23:22:29.692458Z",
     "iopub.status.busy": "2020-11-23T23:22:29.691272Z",
     "iopub.status.idle": "2020-11-23T23:22:29.875776Z",
     "shell.execute_reply": "2020-11-23T23:22:29.875052Z"
    },
    "papermill": {
     "duration": 0.256199,
     "end_time": "2020-11-23T23:22:29.875906",
     "exception": false,
     "start_time": "2020-11-23T23:22:29.619707",
     "status": "completed"
    },
    "tags": []
   },
   "outputs": [
    {
     "data": {
      "text/plain": [
       "<matplotlib.axes._subplots.AxesSubplot at 0x7efc51979150>"
      ]
     },
     "execution_count": 21,
     "metadata": {},
     "output_type": "execute_result"
    },
    {
     "data": {
      "image/png": "[encoded data removed]",
      "text/plain": [
       "<Figure size 432x288 with 1 Axes>"
      ]
     },
     "metadata": {
      "needs_background": "light"
     },
     "output_type": "display_data"
    }
   ],
   "source": [
    "df.plot.scatter(x='quality', y='density')"
   ]
  },
  {
   "cell_type": "code",
   "execution_count": 22,
   "metadata": {
    "execution": {
     "iopub.execute_input": "2020-11-23T23:22:30.022343Z",
     "iopub.status.busy": "2020-11-23T23:22:30.016732Z",
     "iopub.status.idle": "2020-11-23T23:22:30.196535Z",
     "shell.execute_reply": "2020-11-23T23:22:30.195824Z"
    },
    "papermill": {
     "duration": 0.256344,
     "end_time": "2020-11-23T23:22:30.196662",
     "exception": false,
     "start_time": "2020-11-23T23:22:29.940318",
     "status": "completed"
    },
    "tags": []
   },
   "outputs": [
    {
     "data": {
      "text/plain": [
       "<matplotlib.axes._subplots.AxesSubplot at 0x7efc518ed3d0>"
      ]
     },
     "execution_count": 22,
     "metadata": {},
     "output_type": "execute_result"
    },
    {
     "data": {
      "image/png": "[encoded data removed]",
      "text/plain": [
       "<Figure size 432x288 with 1 Axes>"
      ]
     },
     "metadata": {
      "needs_background": "light"
     },
     "output_type": "display_data"
    }
   ],
   "source": [
    "df.plot.scatter(x='quality', y='volatile acidity')"
   ]
  },
  {
   "cell_type": "code",
   "execution_count": 23,
   "metadata": {
    "execution": {
     "iopub.execute_input": "2020-11-23T23:22:30.336637Z",
     "iopub.status.busy": "2020-11-23T23:22:30.333931Z",
     "iopub.status.idle": "2020-11-23T23:22:30.607064Z",
     "shell.execute_reply": "2020-11-23T23:22:30.606323Z"
    },
    "papermill": {
     "duration": 0.344463,
     "end_time": "2020-11-23T23:22:30.607185",
     "exception": false,
     "start_time": "2020-11-23T23:22:30.262722",
     "status": "completed"
    },
    "tags": []
   },
   "outputs": [
    {
     "data": {
      "text/plain": [
       "<matplotlib.axes._subplots.AxesSubplot at 0x7efc5186f450>"
      ]
     },
     "execution_count": 23,
     "metadata": {},
     "output_type": "execute_result"
    },
    {
     "data": {
      "image/png": "[encoded data removed]",
      "text/plain": [
       "<Figure size 432x288 with 1 Axes>"
      ]
     },
     "metadata": {
      "needs_background": "light"
     },
     "output_type": "display_data"
    }
   ],
   "source": [
    "df.plot.scatter(x='quality', y='citric acid')"
   ]
  },
  {
   "cell_type": "markdown",
   "metadata": {
    "papermill": {
     "duration": 0.067493,
     "end_time": "2020-11-23T23:22:30.742149",
     "exception": false,
     "start_time": "2020-11-23T23:22:30.674656",
     "status": "completed"
    },
    "tags": []
   },
   "source": [
    "**Definição de X e y**\n",
    "\n",
    "Optou-se por testar o modelo em 30% da amostra."
   ]
  },
  {
   "cell_type": "code",
   "execution_count": 24,
   "metadata": {
    "execution": {
     "iopub.execute_input": "2020-11-23T23:22:30.886242Z",
     "iopub.status.busy": "2020-11-23T23:22:30.885307Z",
     "iopub.status.idle": "2020-11-23T23:22:30.888673Z",
     "shell.execute_reply": "2020-11-23T23:22:30.887990Z"
    },
    "papermill": {
     "duration": 0.078235,
     "end_time": "2020-11-23T23:22:30.888805",
     "exception": false,
     "start_time": "2020-11-23T23:22:30.810570",
     "status": "completed"
    },
    "tags": []
   },
   "outputs": [],
   "source": [
    "X = df.drop(['quality','qualitygood'], axis = 1)\n",
    "y = df.qualitygood"
   ]
  },
  {
   "cell_type": "code",
   "execution_count": 25,
   "metadata": {
    "execution": {
     "iopub.execute_input": "2020-11-23T23:22:31.030202Z",
     "iopub.status.busy": "2020-11-23T23:22:31.029346Z",
     "iopub.status.idle": "2020-11-23T23:22:31.142550Z",
     "shell.execute_reply": "2020-11-23T23:22:31.141830Z"
    },
    "papermill": {
     "duration": 0.18648,
     "end_time": "2020-11-23T23:22:31.142684",
     "exception": false,
     "start_time": "2020-11-23T23:22:30.956204",
     "status": "completed"
    },
    "tags": []
   },
   "outputs": [],
   "source": [
    "from sklearn.model_selection import train_test_split"
   ]
  },
  {
   "cell_type": "code",
   "execution_count": 26,
   "metadata": {
    "execution": {
     "iopub.execute_input": "2020-11-23T23:22:31.286466Z",
     "iopub.status.busy": "2020-11-23T23:22:31.285590Z",
     "iopub.status.idle": "2020-11-23T23:22:31.289466Z",
     "shell.execute_reply": "2020-11-23T23:22:31.288785Z"
    },
    "papermill": {
     "duration": 0.079224,
     "end_time": "2020-11-23T23:22:31.289593",
     "exception": false,
     "start_time": "2020-11-23T23:22:31.210369",
     "status": "completed"
    },
    "tags": []
   },
   "outputs": [],
   "source": [
    "X_train, X_test, y_train, y_test = train_test_split(X, y, test_size=0.30, random_state=42)"
   ]
  },
  {
   "cell_type": "code",
   "execution_count": 27,
   "metadata": {
    "execution": {
     "iopub.execute_input": "2020-11-23T23:22:31.432960Z",
     "iopub.status.busy": "2020-11-23T23:22:31.432108Z",
     "iopub.status.idle": "2020-11-23T23:22:31.435297Z",
     "shell.execute_reply": "2020-11-23T23:22:31.435922Z"
    },
    "papermill": {
     "duration": 0.077775,
     "end_time": "2020-11-23T23:22:31.436087",
     "exception": false,
     "start_time": "2020-11-23T23:22:31.358312",
     "status": "completed"
    },
    "tags": []
   },
   "outputs": [
    {
     "name": "stdout",
     "output_type": "stream",
     "text": [
      "(1119, 11)\n",
      "(480, 11)\n",
      "(1119,)\n",
      "(480,)\n"
     ]
    }
   ],
   "source": [
    "print(X_train.shape)\n",
    "print(X_test.shape)\n",
    "print(y_train.shape)\n",
    "print(y_test.shape)"
   ]
  },
  {
   "cell_type": "markdown",
   "metadata": {
    "papermill": {
     "duration": 0.068043,
     "end_time": "2020-11-23T23:22:31.573543",
     "exception": false,
     "start_time": "2020-11-23T23:22:31.505500",
     "status": "completed"
    },
    "tags": []
   },
   "source": [
    "**Treinamento e predição com pipeline**\n",
    "\n",
    "Dentro do pipeline foi utilizado o 'standarscaler' como padronização e o 'RandomForest' como algortimo de classificação. Abaixo os resultados:\n",
    "\n",
    "**Matriz de Confusão:**\n",
    "\n",
    "* Verdadeiro negativo: 155;\n",
    "* Falso positivo: 58;\n",
    "* Falso negativo: 71;\n",
    "* Verdadeiro positivo: 193.\n",
    "\n",
    "Acurácia: 0.725 Precisão: 0.768 Recal: 0.731"
   ]
  },
  {
   "cell_type": "code",
   "execution_count": 28,
   "metadata": {
    "execution": {
     "iopub.execute_input": "2020-11-23T23:22:31.717375Z",
     "iopub.status.busy": "2020-11-23T23:22:31.716275Z",
     "iopub.status.idle": "2020-11-23T23:22:31.922921Z",
     "shell.execute_reply": "2020-11-23T23:22:31.922164Z"
    },
    "papermill": {
     "duration": 0.281269,
     "end_time": "2020-11-23T23:22:31.923056",
     "exception": false,
     "start_time": "2020-11-23T23:22:31.641787",
     "status": "completed"
    },
    "tags": []
   },
   "outputs": [],
   "source": [
    "from sklearn.pipeline import Pipeline\n",
    "from sklearn.ensemble import RandomForestClassifier\n",
    "\n",
    "from sklearn.preprocessing import MinMaxScaler\n",
    "from sklearn.preprocessing import StandardScaler\n",
    "\n",
    "from sklearn.metrics import accuracy_score, confusion_matrix, classification_report\n",
    "from sklearn import metrics"
   ]
  },
  {
   "cell_type": "code",
   "execution_count": 29,
   "metadata": {
    "execution": {
     "iopub.execute_input": "2020-11-23T23:22:32.071725Z",
     "iopub.status.busy": "2020-11-23T23:22:32.070946Z",
     "iopub.status.idle": "2020-11-23T23:22:32.074027Z",
     "shell.execute_reply": "2020-11-23T23:22:32.073244Z"
    },
    "papermill": {
     "duration": 0.082189,
     "end_time": "2020-11-23T23:22:32.074165",
     "exception": false,
     "start_time": "2020-11-23T23:22:31.991976",
     "status": "completed"
    },
    "tags": []
   },
   "outputs": [],
   "source": [
    "pipe = Pipeline([\n",
    "    ('StandScaler', StandardScaler()),\n",
    "    ('rf' , RandomForestClassifier(n_estimators=100, max_depth = 4, min_samples_split = 0.1))\n",
    "])"
   ]
  },
  {
   "cell_type": "code",
   "execution_count": 30,
   "metadata": {
    "execution": {
     "iopub.execute_input": "2020-11-23T23:22:32.225144Z",
     "iopub.status.busy": "2020-11-23T23:22:32.223990Z",
     "iopub.status.idle": "2020-11-23T23:22:32.528961Z",
     "shell.execute_reply": "2020-11-23T23:22:32.528252Z"
    },
    "papermill": {
     "duration": 0.382101,
     "end_time": "2020-11-23T23:22:32.529106",
     "exception": false,
     "start_time": "2020-11-23T23:22:32.147005",
     "status": "completed"
    },
    "tags": []
   },
   "outputs": [],
   "source": [
    "pipe.fit(X_train, y_train)\n",
    "\n",
    "y_pred = pipe.predict(X_test)"
   ]
  },
  {
   "cell_type": "code",
   "execution_count": 31,
   "metadata": {
    "execution": {
     "iopub.execute_input": "2020-11-23T23:22:32.674887Z",
     "iopub.status.busy": "2020-11-23T23:22:32.673913Z",
     "iopub.status.idle": "2020-11-23T23:22:32.677379Z",
     "shell.execute_reply": "2020-11-23T23:22:32.678156Z"
    },
    "papermill": {
     "duration": 0.080277,
     "end_time": "2020-11-23T23:22:32.678361",
     "exception": false,
     "start_time": "2020-11-23T23:22:32.598084",
     "status": "completed"
    },
    "tags": []
   },
   "outputs": [
    {
     "name": "stdout",
     "output_type": "stream",
     "text": [
      "0.7291666666666666\n"
     ]
    }
   ],
   "source": [
    "print(accuracy_score(y_test,y_pred))"
   ]
  },
  {
   "cell_type": "code",
   "execution_count": 32,
   "metadata": {
    "execution": {
     "iopub.execute_input": "2020-11-23T23:22:32.829558Z",
     "iopub.status.busy": "2020-11-23T23:22:32.828636Z",
     "iopub.status.idle": "2020-11-23T23:22:32.833346Z",
     "shell.execute_reply": "2020-11-23T23:22:32.832654Z"
    },
    "papermill": {
     "duration": 0.084543,
     "end_time": "2020-11-23T23:22:32.833487",
     "exception": false,
     "start_time": "2020-11-23T23:22:32.748944",
     "status": "completed"
    },
    "tags": []
   },
   "outputs": [
    {
     "name": "stdout",
     "output_type": "stream",
     "text": [
      "[[154  59]\n",
      " [ 71 196]]\n"
     ]
    }
   ],
   "source": [
    "print(confusion_matrix(y_test,y_pred))"
   ]
  },
  {
   "cell_type": "code",
   "execution_count": 33,
   "metadata": {
    "execution": {
     "iopub.execute_input": "2020-11-23T23:22:32.998120Z",
     "iopub.status.busy": "2020-11-23T23:22:32.987139Z",
     "iopub.status.idle": "2020-11-23T23:22:33.181476Z",
     "shell.execute_reply": "2020-11-23T23:22:33.180786Z"
    },
    "papermill": {
     "duration": 0.277471,
     "end_time": "2020-11-23T23:22:33.181606",
     "exception": false,
     "start_time": "2020-11-23T23:22:32.904135",
     "status": "completed"
    },
    "tags": []
   },
   "outputs": [
    {
     "data": {
      "text/plain": [
       "<matplotlib.axes._subplots.AxesSubplot at 0x7efc4ccddf10>"
      ]
     },
     "execution_count": 33,
     "metadata": {},
     "output_type": "execute_result"
    },
    {
     "data": {
      "image/png": "[encoded data removed]",
      "text/plain": [
       "<Figure size 432x288 with 2 Axes>"
      ]
     },
     "metadata": {
      "needs_background": "light"
     },
     "output_type": "display_data"
    }
   ],
   "source": [
    "sns.heatmap(confusion_matrix(y_test, y_pred), annot=True, fmt='d', cmap = 'coolwarm')"
   ]
  },
  {
   "cell_type": "code",
   "execution_count": 34,
   "metadata": {
    "execution": {
     "iopub.execute_input": "2020-11-23T23:22:33.349135Z",
     "iopub.status.busy": "2020-11-23T23:22:33.342742Z",
     "iopub.status.idle": "2020-11-23T23:22:33.364655Z",
     "shell.execute_reply": "2020-11-23T23:22:33.363645Z"
    },
    "papermill": {
     "duration": 0.111446,
     "end_time": "2020-11-23T23:22:33.364819",
     "exception": false,
     "start_time": "2020-11-23T23:22:33.253373",
     "status": "completed"
    },
    "tags": []
   },
   "outputs": [
    {
     "name": "stdout",
     "output_type": "stream",
     "text": [
      "              precision    recall  f1-score   support\n",
      "\n",
      "           0       0.68      0.72      0.70       213\n",
      "           1       0.77      0.73      0.75       267\n",
      "\n",
      "    accuracy                           0.73       480\n",
      "   macro avg       0.73      0.73      0.73       480\n",
      "weighted avg       0.73      0.73      0.73       480\n",
      "\n"
     ]
    }
   ],
   "source": [
    "print(classification_report(y_test, y_pred))"
   ]
  },
  {
   "cell_type": "markdown",
   "metadata": {
    "papermill": {
     "duration": 0.071333,
     "end_time": "2020-11-23T23:22:33.508678",
     "exception": false,
     "start_time": "2020-11-23T23:22:33.437345",
     "status": "completed"
    },
    "tags": []
   },
   "source": [
    "**Treinamento e predição com pipeline e GridSearch**\n",
    "\n",
    "A utilização do GridSearch aumentou a capacidade de classificação em quase 10 p.p. de acurácia. Abaixo resultados:\n",
    "\n",
    "**Matriz de Confusão:**\n",
    "\n",
    "Verdadeiro negativo: 165;\n",
    "Falso positivo: 48;\n",
    "Falso negativo: 46;\n",
    "Verdadeiro positivo: 221.\n",
    "Acurácia: 0.80\n",
    "\n",
    "Precisão: 0.821\n",
    "\n",
    "Recal: 0.827\n",
    "\n",
    "Cross validation - 5 Kfolds: array([0.69375 , 0.753125 , 0.7125 , 0.759375 , 0.71159875]"
   ]
  },
  {
   "cell_type": "code",
   "execution_count": 35,
   "metadata": {
    "execution": {
     "iopub.execute_input": "2020-11-23T23:22:33.659591Z",
     "iopub.status.busy": "2020-11-23T23:22:33.658775Z",
     "iopub.status.idle": "2020-11-23T23:22:33.674103Z",
     "shell.execute_reply": "2020-11-23T23:22:33.673335Z"
    },
    "papermill": {
     "duration": 0.09293,
     "end_time": "2020-11-23T23:22:33.674247",
     "exception": false,
     "start_time": "2020-11-23T23:22:33.581317",
     "status": "completed"
    },
    "tags": []
   },
   "outputs": [],
   "source": [
    "from sklearn.model_selection import GridSearchCV\n",
    "from sklearn.model_selection import KFold\n",
    "from sklearn.feature_selection import SelectKBest, f_regression\n",
    "from sklearn.linear_model import Lasso"
   ]
  },
  {
   "cell_type": "code",
   "execution_count": 36,
   "metadata": {
    "execution": {
     "iopub.execute_input": "2020-11-23T23:22:33.826294Z",
     "iopub.status.busy": "2020-11-23T23:22:33.825220Z",
     "iopub.status.idle": "2020-11-23T23:22:33.828640Z",
     "shell.execute_reply": "2020-11-23T23:22:33.827872Z"
    },
    "papermill": {
     "duration": 0.082051,
     "end_time": "2020-11-23T23:22:33.828781",
     "exception": false,
     "start_time": "2020-11-23T23:22:33.746730",
     "status": "completed"
    },
    "tags": []
   },
   "outputs": [],
   "source": [
    "kf = KFold(n_splits = 3, shuffle = True)"
   ]
  },
  {
   "cell_type": "code",
   "execution_count": 37,
   "metadata": {
    "execution": {
     "iopub.execute_input": "2020-11-23T23:22:33.982778Z",
     "iopub.status.busy": "2020-11-23T23:22:33.981566Z",
     "iopub.status.idle": "2020-11-23T23:22:33.984970Z",
     "shell.execute_reply": "2020-11-23T23:22:33.984326Z"
    },
    "papermill": {
     "duration": 0.083182,
     "end_time": "2020-11-23T23:22:33.985095",
     "exception": false,
     "start_time": "2020-11-23T23:22:33.901913",
     "status": "completed"
    },
    "tags": []
   },
   "outputs": [],
   "source": [
    "pipe3 = Pipeline([\n",
    "    ('minmaxscaler', StandardScaler()),\n",
    "    ('rf' , RandomForestClassifier())\n",
    "])"
   ]
  },
  {
   "cell_type": "code",
   "execution_count": 38,
   "metadata": {
    "execution": {
     "iopub.execute_input": "2020-11-23T23:22:34.138636Z",
     "iopub.status.busy": "2020-11-23T23:22:34.137559Z",
     "iopub.status.idle": "2020-11-23T23:22:34.141271Z",
     "shell.execute_reply": "2020-11-23T23:22:34.140653Z"
    },
    "papermill": {
     "duration": 0.082968,
     "end_time": "2020-11-23T23:22:34.141400",
     "exception": false,
     "start_time": "2020-11-23T23:22:34.058432",
     "status": "completed"
    },
    "tags": []
   },
   "outputs": [],
   "source": [
    "parameters = {#'selectkbest__k':[8, 12],\n",
    "              'rf__n_estimators': [200, 300],\n",
    "              'rf__max_depth': [12, 15],\n",
    "              'rf__min_samples_split' : [0.0005, 0.0001]}"
   ]
  },
  {
   "cell_type": "code",
   "execution_count": 39,
   "metadata": {
    "execution": {
     "iopub.execute_input": "2020-11-23T23:22:34.295583Z",
     "iopub.status.busy": "2020-11-23T23:22:34.294595Z",
     "iopub.status.idle": "2020-11-23T23:22:34.297728Z",
     "shell.execute_reply": "2020-11-23T23:22:34.297106Z"
    },
    "papermill": {
     "duration": 0.083054,
     "end_time": "2020-11-23T23:22:34.297863",
     "exception": false,
     "start_time": "2020-11-23T23:22:34.214809",
     "status": "completed"
    },
    "tags": []
   },
   "outputs": [],
   "source": [
    "gs = GridSearchCV(pipe, \n",
    "                  scoring = 'neg_mean_squared_error',\n",
    "                  param_grid = parameters, \n",
    "                  cv = kf,\n",
    "                  verbose = 1,\n",
    "                  n_jobs = -1,\n",
    "                 )"
   ]
  },
  {
   "cell_type": "code",
   "execution_count": 40,
   "metadata": {
    "execution": {
     "iopub.execute_input": "2020-11-23T23:22:34.452156Z",
     "iopub.status.busy": "2020-11-23T23:22:34.451360Z",
     "iopub.status.idle": "2020-11-23T23:22:45.361056Z",
     "shell.execute_reply": "2020-11-23T23:22:45.360226Z"
    },
    "papermill": {
     "duration": 10.988501,
     "end_time": "2020-11-23T23:22:45.361188",
     "exception": false,
     "start_time": "2020-11-23T23:22:34.372687",
     "status": "completed"
    },
    "tags": []
   },
   "outputs": [
    {
     "name": "stdout",
     "output_type": "stream",
     "text": [
      "Fitting 3 folds for each of 8 candidates, totalling 24 fits\n"
     ]
    },
    {
     "name": "stderr",
     "output_type": "stream",
     "text": [
      "[Parallel(n_jobs=-1)]: Using backend LokyBackend with 4 concurrent workers.\n",
      "[Parallel(n_jobs=-1)]: Done  24 out of  24 | elapsed:   10.1s finished\n"
     ]
    },
    {
     "data": {
      "text/plain": [
       "GridSearchCV(cv=KFold(n_splits=3, random_state=None, shuffle=True),\n",
       "             estimator=Pipeline(steps=[('StandScaler', StandardScaler()),\n",
       "                                       ('rf',\n",
       "                                        RandomForestClassifier(max_depth=4,\n",
       "                                                               min_samples_split=0.1))]),\n",
       "             n_jobs=-1,\n",
       "             param_grid={'rf__max_depth': [12, 15],\n",
       "                         'rf__min_samples_split': [0.0005, 0.0001],\n",
       "                         'rf__n_estimators': [200, 300]},\n",
       "             scoring='neg_mean_squared_error', verbose=1)"
      ]
     },
     "execution_count": 40,
     "metadata": {},
     "output_type": "execute_result"
    }
   ],
   "source": [
    "gs.fit(X_train, y_train)"
   ]
  },
  {
   "cell_type": "code",
   "execution_count": 41,
   "metadata": {
    "execution": {
     "iopub.execute_input": "2020-11-23T23:22:45.523219Z",
     "iopub.status.busy": "2020-11-23T23:22:45.522347Z",
     "iopub.status.idle": "2020-11-23T23:22:45.527009Z",
     "shell.execute_reply": "2020-11-23T23:22:45.526267Z"
    },
    "papermill": {
     "duration": 0.090462,
     "end_time": "2020-11-23T23:22:45.527167",
     "exception": false,
     "start_time": "2020-11-23T23:22:45.436705",
     "status": "completed"
    },
    "tags": []
   },
   "outputs": [
    {
     "data": {
      "text/plain": [
       "{'mean_fit_time': array([1.04199084, 1.3971111 , 0.8984925 , 1.34204801, 0.90695071,\n",
       "        1.35182913, 0.90845497, 1.17322429]),\n",
       " 'std_fit_time': array([0.06253311, 0.07545632, 0.01775004, 0.0146758 , 0.00834683,\n",
       "        0.01095256, 0.01084594, 0.04332514]),\n",
       " 'mean_score_time': array([0.0491631 , 0.07077869, 0.05013045, 0.07064533, 0.04952248,\n",
       "        0.07232515, 0.05005312, 0.0491004 ]),\n",
       " 'std_score_time': array([0.00154673, 0.00055222, 0.00197706, 0.0013266 , 0.00045449,\n",
       "        0.00097742, 0.00135031, 0.00260113]),\n",
       " 'param_rf__max_depth': masked_array(data=[12, 12, 12, 12, 15, 15, 15, 15],\n",
       "              mask=[False, False, False, False, False, False, False, False],\n",
       "        fill_value='?',\n",
       "             dtype=object),\n",
       " 'param_rf__min_samples_split': masked_array(data=[0.0005, 0.0005, 0.0001, 0.0001, 0.0005, 0.0005, 0.0001,\n",
       "                    0.0001],\n",
       "              mask=[False, False, False, False, False, False, False, False],\n",
       "        fill_value='?',\n",
       "             dtype=object),\n",
       " 'param_rf__n_estimators': masked_array(data=[200, 300, 200, 300, 200, 300, 200, 300],\n",
       "              mask=[False, False, False, False, False, False, False, False],\n",
       "        fill_value='?',\n",
       "             dtype=object),\n",
       " 'params': [{'rf__max_depth': 12,\n",
       "   'rf__min_samples_split': 0.0005,\n",
       "   'rf__n_estimators': 200},\n",
       "  {'rf__max_depth': 12,\n",
       "   'rf__min_samples_split': 0.0005,\n",
       "   'rf__n_estimators': 300},\n",
       "  {'rf__max_depth': 12,\n",
       "   'rf__min_samples_split': 0.0001,\n",
       "   'rf__n_estimators': 200},\n",
       "  {'rf__max_depth': 12,\n",
       "   'rf__min_samples_split': 0.0001,\n",
       "   'rf__n_estimators': 300},\n",
       "  {'rf__max_depth': 15,\n",
       "   'rf__min_samples_split': 0.0005,\n",
       "   'rf__n_estimators': 200},\n",
       "  {'rf__max_depth': 15,\n",
       "   'rf__min_samples_split': 0.0005,\n",
       "   'rf__n_estimators': 300},\n",
       "  {'rf__max_depth': 15,\n",
       "   'rf__min_samples_split': 0.0001,\n",
       "   'rf__n_estimators': 200},\n",
       "  {'rf__max_depth': 15,\n",
       "   'rf__min_samples_split': 0.0001,\n",
       "   'rf__n_estimators': 300}],\n",
       " 'split0_test_score': array([-0.20375335, -0.21179625, -0.20643432, -0.20375335, -0.22520107,\n",
       "        -0.20911528, -0.20643432, -0.21179625]),\n",
       " 'split1_test_score': array([-0.20643432, -0.21715818, -0.21179625, -0.19839142, -0.20911528,\n",
       "        -0.20107239, -0.21447721, -0.21715818]),\n",
       " 'split2_test_score': array([-0.21715818, -0.22252011, -0.20107239, -0.21715818, -0.21179625,\n",
       "        -0.21447721, -0.20375335, -0.21447721]),\n",
       " 'mean_test_score': array([-0.20911528, -0.21715818, -0.20643432, -0.20643432, -0.21537087,\n",
       "        -0.20822163, -0.20822163, -0.21447721]),\n",
       " 'std_test_score': array([0.00579155, 0.004378  , 0.004378  , 0.00789255, 0.00703665,\n",
       "        0.00550886, 0.00455676, 0.002189  ]),\n",
       " 'rank_test_score': array([5, 8, 1, 1, 7, 3, 3, 6], dtype=int32)}"
      ]
     },
     "execution_count": 41,
     "metadata": {},
     "output_type": "execute_result"
    }
   ],
   "source": [
    "gs.cv_results_"
   ]
  },
  {
   "cell_type": "code",
   "execution_count": 42,
   "metadata": {
    "execution": {
     "iopub.execute_input": "2020-11-23T23:22:45.735197Z",
     "iopub.status.busy": "2020-11-23T23:22:45.734016Z",
     "iopub.status.idle": "2020-11-23T23:22:45.738895Z",
     "shell.execute_reply": "2020-11-23T23:22:45.738304Z"
    },
    "papermill": {
     "duration": 0.086285,
     "end_time": "2020-11-23T23:22:45.739035",
     "exception": false,
     "start_time": "2020-11-23T23:22:45.652750",
     "status": "completed"
    },
    "tags": []
   },
   "outputs": [
    {
     "data": {
      "text/plain": [
       "{'rf__max_depth': 12, 'rf__min_samples_split': 0.0001, 'rf__n_estimators': 200}"
      ]
     },
     "execution_count": 42,
     "metadata": {},
     "output_type": "execute_result"
    }
   ],
   "source": [
    "gs.best_params_"
   ]
  },
  {
   "cell_type": "code",
   "execution_count": 43,
   "metadata": {
    "execution": {
     "iopub.execute_input": "2020-11-23T23:22:45.901233Z",
     "iopub.status.busy": "2020-11-23T23:22:45.900402Z",
     "iopub.status.idle": "2020-11-23T23:22:45.939996Z",
     "shell.execute_reply": "2020-11-23T23:22:45.939280Z"
    },
    "papermill": {
     "duration": 0.12327,
     "end_time": "2020-11-23T23:22:45.940129",
     "exception": false,
     "start_time": "2020-11-23T23:22:45.816859",
     "status": "completed"
    },
    "tags": []
   },
   "outputs": [],
   "source": [
    "y_pred3 = gs.predict(X_test)"
   ]
  },
  {
   "cell_type": "code",
   "execution_count": 44,
   "metadata": {
    "execution": {
     "iopub.execute_input": "2020-11-23T23:22:46.103669Z",
     "iopub.status.busy": "2020-11-23T23:22:46.102757Z",
     "iopub.status.idle": "2020-11-23T23:22:46.106258Z",
     "shell.execute_reply": "2020-11-23T23:22:46.106873Z"
    },
    "papermill": {
     "duration": 0.090499,
     "end_time": "2020-11-23T23:22:46.107039",
     "exception": false,
     "start_time": "2020-11-23T23:22:46.016540",
     "status": "completed"
    },
    "tags": []
   },
   "outputs": [
    {
     "name": "stdout",
     "output_type": "stream",
     "text": [
      "[[164  49]\n",
      " [ 47 220]]\n"
     ]
    }
   ],
   "source": [
    "print(confusion_matrix(y_test,y_pred3))"
   ]
  },
  {
   "cell_type": "code",
   "execution_count": 45,
   "metadata": {
    "execution": {
     "iopub.execute_input": "2020-11-23T23:22:46.280955Z",
     "iopub.status.busy": "2020-11-23T23:22:46.275376Z",
     "iopub.status.idle": "2020-11-23T23:22:46.468700Z",
     "shell.execute_reply": "2020-11-23T23:22:46.467941Z"
    },
    "papermill": {
     "duration": 0.283441,
     "end_time": "2020-11-23T23:22:46.468827",
     "exception": false,
     "start_time": "2020-11-23T23:22:46.185386",
     "status": "completed"
    },
    "tags": []
   },
   "outputs": [
    {
     "data": {
      "text/plain": [
       "<matplotlib.axes._subplots.AxesSubplot at 0x7efc4c3a6390>"
      ]
     },
     "execution_count": 45,
     "metadata": {},
     "output_type": "execute_result"
    },
    {
     "data": {
      "image/png": "[encoded data removed]",
      "text/plain": [
       "<Figure size 432x288 with 2 Axes>"
      ]
     },
     "metadata": {
      "needs_background": "light"
     },
     "output_type": "display_data"
    }
   ],
   "source": [
    "sns.heatmap(confusion_matrix(y_test, y_pred3), annot=True, fmt='d', cmap = 'coolwarm')"
   ]
  },
  {
   "cell_type": "code",
   "execution_count": 46,
   "metadata": {
    "execution": {
     "iopub.execute_input": "2020-11-23T23:22:46.657725Z",
     "iopub.status.busy": "2020-11-23T23:22:46.655812Z",
     "iopub.status.idle": "2020-11-23T23:22:46.661347Z",
     "shell.execute_reply": "2020-11-23T23:22:46.662099Z"
    },
    "papermill": {
     "duration": 0.115385,
     "end_time": "2020-11-23T23:22:46.662260",
     "exception": false,
     "start_time": "2020-11-23T23:22:46.546875",
     "status": "completed"
    },
    "tags": []
   },
   "outputs": [
    {
     "name": "stdout",
     "output_type": "stream",
     "text": [
      "              precision    recall  f1-score   support\n",
      "\n",
      "           0       0.78      0.77      0.77       213\n",
      "           1       0.82      0.82      0.82       267\n",
      "\n",
      "    accuracy                           0.80       480\n",
      "   macro avg       0.80      0.80      0.80       480\n",
      "weighted avg       0.80      0.80      0.80       480\n",
      "\n"
     ]
    }
   ],
   "source": [
    "print(classification_report(y_test, y_pred3))"
   ]
  },
  {
   "cell_type": "code",
   "execution_count": 47,
   "metadata": {
    "execution": {
     "iopub.execute_input": "2020-11-23T23:22:46.826696Z",
     "iopub.status.busy": "2020-11-23T23:22:46.825617Z",
     "iopub.status.idle": "2020-11-23T23:22:46.828996Z",
     "shell.execute_reply": "2020-11-23T23:22:46.828249Z"
    },
    "papermill": {
     "duration": 0.088008,
     "end_time": "2020-11-23T23:22:46.829122",
     "exception": false,
     "start_time": "2020-11-23T23:22:46.741114",
     "status": "completed"
    },
    "tags": []
   },
   "outputs": [],
   "source": [
    "from sklearn.model_selection import KFold\n",
    "from sklearn.metrics import accuracy_score"
   ]
  },
  {
   "cell_type": "code",
   "execution_count": 48,
   "metadata": {
    "execution": {
     "iopub.execute_input": "2020-11-23T23:22:46.993857Z",
     "iopub.status.busy": "2020-11-23T23:22:46.992944Z",
     "iopub.status.idle": "2020-11-23T23:22:46.996140Z",
     "shell.execute_reply": "2020-11-23T23:22:46.995511Z"
    },
    "papermill": {
     "duration": 0.0881,
     "end_time": "2020-11-23T23:22:46.996267",
     "exception": false,
     "start_time": "2020-11-23T23:22:46.908167",
     "status": "completed"
    },
    "tags": []
   },
   "outputs": [],
   "source": [
    "from sklearn.model_selection import cross_val_score"
   ]
  },
  {
   "cell_type": "code",
   "execution_count": 49,
   "metadata": {
    "execution": {
     "iopub.execute_input": "2020-11-23T23:22:47.169364Z",
     "iopub.status.busy": "2020-11-23T23:22:47.167307Z",
     "iopub.status.idle": "2020-11-23T23:22:49.340184Z",
     "shell.execute_reply": "2020-11-23T23:22:49.339544Z"
    },
    "papermill": {
     "duration": 2.264055,
     "end_time": "2020-11-23T23:22:49.340317",
     "exception": false,
     "start_time": "2020-11-23T23:22:47.076262",
     "status": "completed"
    },
    "tags": []
   },
   "outputs": [
    {
     "data": {
      "text/plain": [
       "array([0.690625  , 0.71875   , 0.71875   , 0.746875  , 0.73981191])"
      ]
     },
     "execution_count": 49,
     "metadata": {},
     "output_type": "execute_result"
    }
   ],
   "source": [
    "cross_val_score(RandomForestClassifier(), X, y, cv = KFold(5))"
   ]
  },
  {
   "cell_type": "markdown",
   "metadata": {
    "papermill": {
     "duration": 0.081365,
     "end_time": "2020-11-23T23:22:49.503537",
     "exception": false,
     "start_time": "2020-11-23T23:22:49.422172",
     "status": "completed"
    },
    "tags": []
   },
   "source": [
    "**Considerações finais**\n",
    "\n",
    "Considerando o cutoff de qualidade como 6 (>=6 é considerado como 'bom'), o modelo possui acuracidade de 80% partindo das características químicas e sensoriais. O algoritimo pode servir de parâmetro para a área comercial, estabelecendo um primeiro filtro em relação à qualidade do vinho.\n",
    "\n",
    "Como próximos passos a empresa poderia (partindo da sua própria base de dados) executar um algoritmo de regressão com intuíto de atribuir um score inicial, assim como possível precificiação. Parâmetros que devem ser refinados posteriormente com a degustação dos especialistas e aceitação do mercado"
   ]
  }
 ],
 "metadata": {
  "kernelspec": {
   "display_name": "Python 3",
   "language": "python",
   "name": "python3"
  },
  "language_info": {
   "codemirror_mode": {
    "name": "ipython",
    "version": 3
   },
   "file_extension": ".py",
   "mimetype": "text/x-python",
   "name": "python",
   "nbconvert_exporter": "python",
   "pygments_lexer": "ipython3",
   "version": "3.7.6"
  },
  "papermill": {
   "duration": 31.530887,
   "end_time": "2020-11-23T23:22:49.696624",
   "environment_variables": {},
   "exception": null,
   "input_path": "__notebook__.ipynb",
   "output_path": "__notebook__.ipynb",
   "parameters": {},
   "start_time": "2020-11-23T23:22:18.165737",
   "version": "2.1.0"
  }
 },
 "nbformat": 4,
 "nbformat_minor": 4
}
