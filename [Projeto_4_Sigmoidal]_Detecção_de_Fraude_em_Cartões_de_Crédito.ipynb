{
  "nbformat": 4,
  "nbformat_minor": 0,
  "metadata": {
    "colab": {
      "name": "[Projeto 4 - Sigmoidal] Detecção de Fraude em Cartões de Crédito.ipynb",
      "provenance": [],
      "collapsed_sections": [
        "sC2BFMOKN1M7",
        "0Bj7zRZMSfO7"
      ]
    },
    "kernelspec": {
      "name": "python3",
      "display_name": "Python 3"
    }
  },
  "cells": [
    {
      "cell_type": "markdown",
      "metadata": {
        "id": "sC2BFMOKN1M7"
      },
      "source": [
        "---\n",
        "<img alt=\"Colaboratory logo\" width=\"15%\" src=\"https://raw.githubusercontent.com/carlosfab/escola-data-science/master/img/novo_logo_bg_claro.png\">\n",
        "\n",
        "#### **Data Science na Prática 3.0**\n",
        "*by [sigmoidal.ai](https://sigmoidal.ai)*  \n",
        "\n",
        "---"
      ]
    },
    {
      "cell_type": "markdown",
      "metadata": {
        "id": "IR56trFcPcC1"
      },
      "source": [
        "# Detecção de Fraudes em Cartões de Crédito\n",
        "\n",
        "Neste projeto, abordarei o problema das fraudes em cartões de crédito, uma das principais preocupações das instituições financeiras como bancos e *fintechs*. \n",
        "\n",
        "Em pesquisa realizada pela CNDL/SPC Brasil, em parceria com o Sebrae, indica que 59% dos entrevistados sofreram algum tipo de fraude em 2020, contra 46% em 2019 (crescimento de 13 p.p.) - **clonagem de cartão foi o terceiro maior motivo** com 24% das menções.\n",
        " \n",
        "**Destaques apontados pela pesquisa:**\n",
        "*   BRL 2,7 bilhões de prejuízo (estimativa).\n",
        "*   BRL 512,40 foi o prejuízo médio entre vítimas.\n",
        "*   38% das vítimas citaram lojas onlines como o local em que o golpe aconteceu.\n",
        "*   Somente 43% dos entrevistados conseguiram recuperar o valor total do golpe.\n",
        "\n",
        "Clique aqui para acessar a [matéria completa](https://g1.globo.com/economia/noticia/2021/06/24/cresce-no-de-consumidores-vitimas-de-fraudes-financeiras-no-brasil-veja-ranking-das-mais-recorrentes.ghtml)\n",
        "\n",
        "<p align=center>\n",
        "<img src=\"https://s2.glbimg.com/TGY-dnDAA1MZEy3itYAPE2LHIFA=/0x0:1440x2238/1008x0/smart/filters:strip_icc()/i.s3.glbimg.com/v1/AUTH_59edd422c0c84a879bd37670ae4f538a/internal_photos/bs/2021/f/R/ORx30sQA6YDvjDLXIlRA/71crc-ranking-das-fraudes-financeiras-mais-comuns.png\" width=\"100%\"></p>\n",
        "\n",
        "Além do trauma e prejuízos para usuários e instituições financeiras, outro fator a ser considerado é a quantidade de falsos positivos, ou seja, aquelas vezes em que você tentou fazer uma compra e teve seu cartão bloqueado preventivamente - o que provavelmente gerou estresse e constrangimento.\n",
        "\n",
        "Por todos esses motivos, o investimento na área de detecção de fraudes por meio de Inteligência Artificial vem crescendo a cada ano, representando uma grande oportunidade em *Data Science*. \n",
        "\n",
        "Dispondo de grandes volumes de dados como base histórica, um algoritmo de machine learning apenas um pouco melhor que os anteriores já representa uma economia de milhões de Reais. E esse é o desafio, aprimorar cada vez mais o uso de algoritmos visando inibir ou evitar transações fraudulentas."
      ]
    },
    {
      "cell_type": "markdown",
      "metadata": {
        "id": "0HVmpIxQWT4Y"
      },
      "source": [
        "## Importando os Dados\n",
        "\n",
        "Os dados utilizados neste projeto foram disponibilizados por algumas empresas européias de cartão de crédito. O *dataset* representa as operações financeiras que aconteceram no período de dois dias em 2013, onde foram classificadas 492 fraudes em meio a quase 290 mil transações.\n",
        "\n",
        "Como você pode notar, este é um conjunto de dados extremamente desbalanceado, onde as fraudes representam apenas 0,17% do total.\n",
        "\n",
        "Outro detalhe interessante é que as *features* são todas numéricas, e foram descaracterizadas (privacidade e segurança). Assim, os nomes das colunas são representados por $[V1, V2, V3 \\dots, V28]$ \n",
        "\n",
        "[Na página original dos dados](https://www.kaggle.com/mlg-ulb/creditcardfraud), também é informado que as variáveis passaram por uma transformação conhecida como ***Análise de Componentes Principais* (*Principal Component Analysis* - PCA)**.\n",
        "\n",
        "A PCA permite a redução da dimensionalidade enquanto mantém o maior número possível de informações. Para conseguir isso, o algoritmo encontra um conjunto de novo de recursos - os chamados **componentes**.\n",
        "\n",
        "Esses componentes são em número menor ou igual às variáveis originais. No caso deste projeto, os componentes achados pela transformação da PCA são as próprias colunas $[V1, V2, V3 \\dots, V28]$.\n",
        "\n",
        "**PS: quando falamos de dimensionalidade, nos referimos a quantidade de variáveis (colunas) que descreviam os clientes, como os dados cadastrais, dados socioeconômicos etc.**"
      ]
    },
    {
      "cell_type": "code",
      "metadata": {
        "id": "oQ4bNy7udtEE"
      },
      "source": [
        "# importar os pacotes necessários\n",
        "import pandas as pd\n",
        "import matplotlib.pyplot as plt\n",
        "import seaborn as sns\n",
        "import numpy as np\n",
        "\n",
        "from sklearn.model_selection import train_test_split\n",
        "from sklearn.preprocessing import StandardScaler\n",
        "from sklearn.metrics import classification_report\n",
        "from sklearn.metrics import confusion_matrix"
      ],
      "execution_count": 1,
      "outputs": []
    },
    {
      "cell_type": "markdown",
      "metadata": {
        "id": "wc4QPOls600G"
      },
      "source": [
        "Neste projeto irei comparar aplicações e resultados de **dois modelos de classificação**:\n",
        "1.   Regressão logística\n",
        "2.   Árvore de decisão\n",
        "\n"
      ]
    },
    {
      "cell_type": "code",
      "metadata": {
        "id": "4SoukmeD60Yd"
      },
      "source": [
        "# Importar pacotes dos modelos\n",
        "from sklearn.linear_model import LogisticRegression\n",
        "from sklearn.tree import DecisionTreeClassifier"
      ],
      "execution_count": 2,
      "outputs": []
    },
    {
      "cell_type": "code",
      "metadata": {
        "id": "4NxUOfDOj2j8"
      },
      "source": [
        "# Importar os dados para um dataframe\n",
        "df = pd.read_csv(\"https://www.dropbox.com/s/b44o3t3ehmnx2b7/creditcard.csv?dl=1\")"
      ],
      "execution_count": 3,
      "outputs": []
    },
    {
      "cell_type": "markdown",
      "metadata": {
        "id": "8UtXyZ6stlSM"
      },
      "source": [
        "## **Análise Exploratória**\n",
        "O objetivo dessa etapa é ter um primeiro contato com dataset, buscando possíveis valores ausentes, desproporções entre classes e necessidades de *feature engineering*."
      ]
    },
    {
      "cell_type": "code",
      "metadata": {
        "colab": {
          "base_uri": "https://localhost:8080/",
          "height": 224
        },
        "id": "bYR9PJbE_W52",
        "outputId": "138c9bbd-4dc8-4bcd-bd21-aa0d73f57275"
      },
      "source": [
        "# Amostra do dataset (primeiras 5 entradas)\n",
        "df.head()"
      ],
      "execution_count": 4,
      "outputs": [
        {
          "output_type": "execute_result",
          "data": {
            "text/html": [
              "<div>\n",
              "<style scoped>\n",
              "    .dataframe tbody tr th:only-of-type {\n",
              "        vertical-align: middle;\n",
              "    }\n",
              "\n",
              "    .dataframe tbody tr th {\n",
              "        vertical-align: top;\n",
              "    }\n",
              "\n",
              "    .dataframe thead th {\n",
              "        text-align: right;\n",
              "    }\n",
              "</style>\n",
              "<table border=\"1\" class=\"dataframe\">\n",
              "  <thead>\n",
              "    <tr style=\"text-align: right;\">\n",
              "      <th></th>\n",
              "      <th>Time</th>\n",
              "      <th>V1</th>\n",
              "      <th>V2</th>\n",
              "      <th>V3</th>\n",
              "      <th>V4</th>\n",
              "      <th>V5</th>\n",
              "      <th>V6</th>\n",
              "      <th>V7</th>\n",
              "      <th>V8</th>\n",
              "      <th>V9</th>\n",
              "      <th>V10</th>\n",
              "      <th>V11</th>\n",
              "      <th>V12</th>\n",
              "      <th>V13</th>\n",
              "      <th>V14</th>\n",
              "      <th>V15</th>\n",
              "      <th>V16</th>\n",
              "      <th>V17</th>\n",
              "      <th>V18</th>\n",
              "      <th>V19</th>\n",
              "      <th>V20</th>\n",
              "      <th>V21</th>\n",
              "      <th>V22</th>\n",
              "      <th>V23</th>\n",
              "      <th>V24</th>\n",
              "      <th>V25</th>\n",
              "      <th>V26</th>\n",
              "      <th>V27</th>\n",
              "      <th>V28</th>\n",
              "      <th>Amount</th>\n",
              "      <th>Class</th>\n",
              "    </tr>\n",
              "  </thead>\n",
              "  <tbody>\n",
              "    <tr>\n",
              "      <th>0</th>\n",
              "      <td>0.0</td>\n",
              "      <td>-1.359807</td>\n",
              "      <td>-0.072781</td>\n",
              "      <td>2.536347</td>\n",
              "      <td>1.378155</td>\n",
              "      <td>-0.338321</td>\n",
              "      <td>0.462388</td>\n",
              "      <td>0.239599</td>\n",
              "      <td>0.098698</td>\n",
              "      <td>0.363787</td>\n",
              "      <td>0.090794</td>\n",
              "      <td>-0.551600</td>\n",
              "      <td>-0.617801</td>\n",
              "      <td>-0.991390</td>\n",
              "      <td>-0.311169</td>\n",
              "      <td>1.468177</td>\n",
              "      <td>-0.470401</td>\n",
              "      <td>0.207971</td>\n",
              "      <td>0.025791</td>\n",
              "      <td>0.403993</td>\n",
              "      <td>0.251412</td>\n",
              "      <td>-0.018307</td>\n",
              "      <td>0.277838</td>\n",
              "      <td>-0.110474</td>\n",
              "      <td>0.066928</td>\n",
              "      <td>0.128539</td>\n",
              "      <td>-0.189115</td>\n",
              "      <td>0.133558</td>\n",
              "      <td>-0.021053</td>\n",
              "      <td>149.62</td>\n",
              "      <td>0</td>\n",
              "    </tr>\n",
              "    <tr>\n",
              "      <th>1</th>\n",
              "      <td>0.0</td>\n",
              "      <td>1.191857</td>\n",
              "      <td>0.266151</td>\n",
              "      <td>0.166480</td>\n",
              "      <td>0.448154</td>\n",
              "      <td>0.060018</td>\n",
              "      <td>-0.082361</td>\n",
              "      <td>-0.078803</td>\n",
              "      <td>0.085102</td>\n",
              "      <td>-0.255425</td>\n",
              "      <td>-0.166974</td>\n",
              "      <td>1.612727</td>\n",
              "      <td>1.065235</td>\n",
              "      <td>0.489095</td>\n",
              "      <td>-0.143772</td>\n",
              "      <td>0.635558</td>\n",
              "      <td>0.463917</td>\n",
              "      <td>-0.114805</td>\n",
              "      <td>-0.183361</td>\n",
              "      <td>-0.145783</td>\n",
              "      <td>-0.069083</td>\n",
              "      <td>-0.225775</td>\n",
              "      <td>-0.638672</td>\n",
              "      <td>0.101288</td>\n",
              "      <td>-0.339846</td>\n",
              "      <td>0.167170</td>\n",
              "      <td>0.125895</td>\n",
              "      <td>-0.008983</td>\n",
              "      <td>0.014724</td>\n",
              "      <td>2.69</td>\n",
              "      <td>0</td>\n",
              "    </tr>\n",
              "    <tr>\n",
              "      <th>2</th>\n",
              "      <td>1.0</td>\n",
              "      <td>-1.358354</td>\n",
              "      <td>-1.340163</td>\n",
              "      <td>1.773209</td>\n",
              "      <td>0.379780</td>\n",
              "      <td>-0.503198</td>\n",
              "      <td>1.800499</td>\n",
              "      <td>0.791461</td>\n",
              "      <td>0.247676</td>\n",
              "      <td>-1.514654</td>\n",
              "      <td>0.207643</td>\n",
              "      <td>0.624501</td>\n",
              "      <td>0.066084</td>\n",
              "      <td>0.717293</td>\n",
              "      <td>-0.165946</td>\n",
              "      <td>2.345865</td>\n",
              "      <td>-2.890083</td>\n",
              "      <td>1.109969</td>\n",
              "      <td>-0.121359</td>\n",
              "      <td>-2.261857</td>\n",
              "      <td>0.524980</td>\n",
              "      <td>0.247998</td>\n",
              "      <td>0.771679</td>\n",
              "      <td>0.909412</td>\n",
              "      <td>-0.689281</td>\n",
              "      <td>-0.327642</td>\n",
              "      <td>-0.139097</td>\n",
              "      <td>-0.055353</td>\n",
              "      <td>-0.059752</td>\n",
              "      <td>378.66</td>\n",
              "      <td>0</td>\n",
              "    </tr>\n",
              "    <tr>\n",
              "      <th>3</th>\n",
              "      <td>1.0</td>\n",
              "      <td>-0.966272</td>\n",
              "      <td>-0.185226</td>\n",
              "      <td>1.792993</td>\n",
              "      <td>-0.863291</td>\n",
              "      <td>-0.010309</td>\n",
              "      <td>1.247203</td>\n",
              "      <td>0.237609</td>\n",
              "      <td>0.377436</td>\n",
              "      <td>-1.387024</td>\n",
              "      <td>-0.054952</td>\n",
              "      <td>-0.226487</td>\n",
              "      <td>0.178228</td>\n",
              "      <td>0.507757</td>\n",
              "      <td>-0.287924</td>\n",
              "      <td>-0.631418</td>\n",
              "      <td>-1.059647</td>\n",
              "      <td>-0.684093</td>\n",
              "      <td>1.965775</td>\n",
              "      <td>-1.232622</td>\n",
              "      <td>-0.208038</td>\n",
              "      <td>-0.108300</td>\n",
              "      <td>0.005274</td>\n",
              "      <td>-0.190321</td>\n",
              "      <td>-1.175575</td>\n",
              "      <td>0.647376</td>\n",
              "      <td>-0.221929</td>\n",
              "      <td>0.062723</td>\n",
              "      <td>0.061458</td>\n",
              "      <td>123.50</td>\n",
              "      <td>0</td>\n",
              "    </tr>\n",
              "    <tr>\n",
              "      <th>4</th>\n",
              "      <td>2.0</td>\n",
              "      <td>-1.158233</td>\n",
              "      <td>0.877737</td>\n",
              "      <td>1.548718</td>\n",
              "      <td>0.403034</td>\n",
              "      <td>-0.407193</td>\n",
              "      <td>0.095921</td>\n",
              "      <td>0.592941</td>\n",
              "      <td>-0.270533</td>\n",
              "      <td>0.817739</td>\n",
              "      <td>0.753074</td>\n",
              "      <td>-0.822843</td>\n",
              "      <td>0.538196</td>\n",
              "      <td>1.345852</td>\n",
              "      <td>-1.119670</td>\n",
              "      <td>0.175121</td>\n",
              "      <td>-0.451449</td>\n",
              "      <td>-0.237033</td>\n",
              "      <td>-0.038195</td>\n",
              "      <td>0.803487</td>\n",
              "      <td>0.408542</td>\n",
              "      <td>-0.009431</td>\n",
              "      <td>0.798278</td>\n",
              "      <td>-0.137458</td>\n",
              "      <td>0.141267</td>\n",
              "      <td>-0.206010</td>\n",
              "      <td>0.502292</td>\n",
              "      <td>0.219422</td>\n",
              "      <td>0.215153</td>\n",
              "      <td>69.99</td>\n",
              "      <td>0</td>\n",
              "    </tr>\n",
              "  </tbody>\n",
              "</table>\n",
              "</div>"
            ],
            "text/plain": [
              "   Time        V1        V2        V3  ...       V27       V28  Amount  Class\n",
              "0   0.0 -1.359807 -0.072781  2.536347  ...  0.133558 -0.021053  149.62      0\n",
              "1   0.0  1.191857  0.266151  0.166480  ... -0.008983  0.014724    2.69      0\n",
              "2   1.0 -1.358354 -1.340163  1.773209  ... -0.055353 -0.059752  378.66      0\n",
              "3   1.0 -0.966272 -0.185226  1.792993  ...  0.062723  0.061458  123.50      0\n",
              "4   2.0 -1.158233  0.877737  1.548718  ...  0.219422  0.215153   69.99      0\n",
              "\n",
              "[5 rows x 31 columns]"
            ]
          },
          "metadata": {},
          "execution_count": 4
        }
      ]
    },
    {
      "cell_type": "markdown",
      "metadata": {
        "id": "q2zVZlJMAEIc"
      },
      "source": [
        "Pelo fato das variáveis terem passado pelo processo de transformação e normalização via PCA, podemos ter leitura objetiva das features 'Amount' e 'Time' - que foram mantidas com os valores originais.\n",
        "\n",
        "*Lembre-se que 'Class' é a indicação se houve ou não fraude! Sendo que 0 **não** foi fraude e 1 **foi** fraude.*\n",
        "\n",
        "**Amount:** Considerando a discrepância entre média (22) e mediana (88.34), podemos inferir sobre existência de outliers (outro indicador seria o alto valor de desvio padrão). Para evitar uma maior influência sobre o modelo, vamos padronizar todas features restantes. "
      ]
    },
    {
      "cell_type": "code",
      "metadata": {
        "colab": {
          "base_uri": "https://localhost:8080/"
        },
        "id": "j2u65BF9_ouS",
        "outputId": "6cc1fcff-897b-42b2-91f8-19bd0342ac78"
      },
      "source": [
        "# Resumo estatístico do dataframe - variável 'Amount'\n",
        "print(df.Amount.describe())"
      ],
      "execution_count": 5,
      "outputs": [
        {
          "output_type": "stream",
          "name": "stdout",
          "text": [
            "count    284807.000000\n",
            "mean         88.349619\n",
            "std         250.120109\n",
            "min           0.000000\n",
            "25%           5.600000\n",
            "50%          22.000000\n",
            "75%          77.165000\n",
            "max       25691.160000\n",
            "Name: Amount, dtype: float64\n"
          ]
        }
      ]
    },
    {
      "cell_type": "markdown",
      "metadata": {
        "id": "lsUMJ9mfDVdF"
      },
      "source": [
        "Abaixo a verificação de valores ausentes. No caso, não temos incidência."
      ]
    },
    {
      "cell_type": "code",
      "metadata": {
        "colab": {
          "base_uri": "https://localhost:8080/"
        },
        "id": "bwSmClZ3C1VF",
        "outputId": "a5440028-d0e7-4345-f99b-9c9649b636a9"
      },
      "source": [
        "# Verificação de null values (valores ausentes)\n",
        "\n",
        "print((df.isnull().sum() / df.shape[0]).sort_values(ascending=False))"
      ],
      "execution_count": 7,
      "outputs": [
        {
          "output_type": "stream",
          "name": "stdout",
          "text": [
            "Class     0.0\n",
            "V14       0.0\n",
            "V1        0.0\n",
            "V2        0.0\n",
            "V3        0.0\n",
            "V4        0.0\n",
            "V5        0.0\n",
            "V6        0.0\n",
            "V7        0.0\n",
            "V8        0.0\n",
            "V9        0.0\n",
            "V10       0.0\n",
            "V11       0.0\n",
            "V12       0.0\n",
            "V13       0.0\n",
            "V15       0.0\n",
            "Amount    0.0\n",
            "V16       0.0\n",
            "V17       0.0\n",
            "V18       0.0\n",
            "V19       0.0\n",
            "V20       0.0\n",
            "V21       0.0\n",
            "V22       0.0\n",
            "V23       0.0\n",
            "V24       0.0\n",
            "V25       0.0\n",
            "V26       0.0\n",
            "V27       0.0\n",
            "V28       0.0\n",
            "Time      0.0\n",
            "dtype: float64\n"
          ]
        }
      ]
    },
    {
      "cell_type": "markdown",
      "metadata": {
        "id": "2BER6YajHHL9"
      },
      "source": [
        "Relembrando que a variável 'Class' é a nossa varíavel alvo, indicando se a transação foi fruto de fraude ou não.\n",
        "\n",
        "**Variável 'Class':**\n",
        "*   0 = não houve fraude\n",
        "*   1 = houve fraude\n",
        "\n",
        "No início da análise exploratória mencionei a desproporção entre casos fraudulentos e não fraudulentos. Abaixo você pode observar gráficamente a diferença entre classes, onde em somente 0.17% foi constadada fraude."
      ]
    },
    {
      "cell_type": "code",
      "metadata": {
        "colab": {
          "base_uri": "https://localhost:8080/",
          "height": 296
        },
        "id": "H8FcpV25FVBS",
        "outputId": "da2d2261-aeb2-4203-cee5-3ef9d84371fa"
      },
      "source": [
        "# Plot proporção do dataset - váriavel 'Class'\n",
        "print('somente 0.17% (492) dos casos foram fraudes')\n",
        "\n",
        "sns.countplot(x ='Class', data = df,)\n",
        " \n",
        "plt.show()"
      ],
      "execution_count": 8,
      "outputs": [
        {
          "output_type": "stream",
          "name": "stdout",
          "text": [
            "somente 0.17% (492) dos casos foram fraudes\n"
          ]
        },
        {
          "output_type": "display_data",
          "data": {
            "image/png": "[encoded data removed]",
            "text/plain": [
              "<Figure size 432x288 with 1 Axes>"
            ]
          },
          "metadata": {
            "needs_background": "light"
          }
        }
      ]
    },
    {
      "cell_type": "markdown",
      "metadata": {
        "id": "hyOLvKPm1CgI"
      },
      "source": [
        "O gráfico em formato de **violino** nos possibilita ter uma leitura mais aprofundada em comparação ao ***boxplot***, apresentando não somente a variação entre as observações mas também a **frequência (quanto mais largo maior o número de ocorrências).**\n",
        "\n",
        "No caso abaixo, estamos considerando o valor das fraudes ('Class' = 1), podemos observar que a mediana está próxima de 0, assim como a maior frequência de casos varia entre 0 e 250 (provavelmente Euros).\n",
        "\n",
        "Importante destacar a existência de valores outliers dentro do *dataset* (que será corrigido via normalização)."
      ]
    },
    {
      "cell_type": "code",
      "metadata": {
        "colab": {
          "base_uri": "https://localhost:8080/",
          "height": 729
        },
        "id": "flrDc7A3LORQ",
        "outputId": "0729f28c-3e70-43b0-f25e-f556c3c17ac5"
      },
      "source": [
        "# Plot gráfico violino - variável 'Class' (quando for fraude = 1)\n",
        "\n",
        "fig, ax = plt.subplots(figsize=(15,10))\n",
        "\n",
        "sns.violinplot(data=df[df['Class'] == 1], x='Class', y='Amount', ax=ax);\n",
        "\n",
        "plt.tight_layout()"
      ],
      "execution_count": 9,
      "outputs": [
        {
          "output_type": "display_data",
          "data": {
            "image/png": "[encoded data removed]",
            "text/plain": [
              "<Figure size 1080x720 with 1 Axes>"
            ]
          },
          "metadata": {
            "needs_background": "light"
          }
        }
      ]
    },
    {
      "cell_type": "markdown",
      "metadata": {
        "id": "3Fptp0sC3XqG"
      },
      "source": [
        "Uma vez que as variáveis foram generalizadas, a leitura da **matriz de correlação** acaba por ser artificial. Ainda assim, conseguimos observar features com maior correlação e possível explicação sobre casos em que a fraude foi identificada.\n",
        "\n",
        "Três variáveis se destacaram ao apresentar maior correlaçao positiva com a variável alvo ('Class') e possívelmente nos auxiliando a identificar padrões de fraude, são elas: **V11, V4 e V2.**"
      ]
    },
    {
      "cell_type": "code",
      "metadata": {
        "colab": {
          "base_uri": "https://localhost:8080/",
          "height": 646
        },
        "id": "C2Agv_PPN-0w",
        "outputId": "25294990-3f7d-4537-97fa-4424bc51e86c"
      },
      "source": [
        "# criar uma matriz de correlação\n",
        "df_corr = df.corr()\n",
        "\n",
        "# mostrar a matriz de correlação\n",
        "df_corr\n",
        "\n",
        "# número de variáveis a serem selecionadas\n",
        "k = 10\n",
        "\n",
        "# encontrando as variáveis mais correlacionadas\n",
        "cols = df_corr.nlargest(k, 'Class')['Class'].index\n",
        "cm = np.corrcoef(df[cols].values.T)\n",
        "\n",
        "# plotando o heatmap\n",
        "f, ax = plt.subplots(figsize=(12, 9))\n",
        "sns.set(font_scale=1.25)\n",
        "hm = sns.heatmap(cm, cbar=True, annot=True, square=True, fmt='.2f', annot_kws={'size': 10}, yticklabels=cols.values, xticklabels=cols.values)\n",
        "plt.tight_layout()"
      ],
      "execution_count": 12,
      "outputs": [
        {
          "output_type": "display_data",
          "data": {
            "image/png": "[encoded data removed]",
            "text/plain": [
              "<Figure size 864x648 with 2 Axes>"
            ]
          },
          "metadata": {
            "needs_background": "light"
          }
        }
      ]
    },
    {
      "cell_type": "markdown",
      "metadata": {
        "id": "ULe7z0jZt0EH"
      },
      "source": [
        "## **Preparação dos Dados**/***Feature Engineering***\n",
        "\n",
        "1.   Normalização (*StandardScaler*) das features *'Time'* e *'Class'*\n",
        "2.   Dividir o conjunto de dados entre treino e validação\n",
        "3.   Balancear o conjunto de dados (*under-sampling*) - lembre-se que **somente 0.17%** das observações foram classificadas como fraudulentas"
      ]
    },
    {
      "cell_type": "markdown",
      "metadata": {
        "id": "uYxEAqJbCWfE"
      },
      "source": [
        "1. Normalização das colunas **Time** e **Amount**, utilizando do *StandardScaler* do próprio pacote do *Scikit-learn*."
      ]
    },
    {
      "cell_type": "code",
      "metadata": {
        "colab": {
          "base_uri": "https://localhost:8080/",
          "height": 224
        },
        "id": "i4bSbVgIBptI",
        "outputId": "d5a26cde-cf76-4ac6-e728-8ff8953bb698"
      },
      "source": [
        "# padronizar as colunas Time e Amount\n",
        "df_clean = df.copy()\n",
        "\n",
        "std_scaler = StandardScaler()\n",
        "df_clean['std_amount'] = std_scaler.fit_transform(df_clean['Amount'].values.reshape(-1, 1))\n",
        "df_clean['std_time'] = std_scaler.fit_transform(df_clean['Time'].values.reshape(-1, 1))\n",
        "\n",
        "df_clean.drop(['Time', 'Amount'], axis=1, inplace=True)\n",
        "\n",
        "# ver as primeiras entradas\n",
        "df_clean.head()"
      ],
      "execution_count": 13,
      "outputs": [
        {
          "output_type": "execute_result",
          "data": {
            "text/html": [
              "<div>\n",
              "<style scoped>\n",
              "    .dataframe tbody tr th:only-of-type {\n",
              "        vertical-align: middle;\n",
              "    }\n",
              "\n",
              "    .dataframe tbody tr th {\n",
              "        vertical-align: top;\n",
              "    }\n",
              "\n",
              "    .dataframe thead th {\n",
              "        text-align: right;\n",
              "    }\n",
              "</style>\n",
              "<table border=\"1\" class=\"dataframe\">\n",
              "  <thead>\n",
              "    <tr style=\"text-align: right;\">\n",
              "      <th></th>\n",
              "      <th>V1</th>\n",
              "      <th>V2</th>\n",
              "      <th>V3</th>\n",
              "      <th>V4</th>\n",
              "      <th>V5</th>\n",
              "      <th>V6</th>\n",
              "      <th>V7</th>\n",
              "      <th>V8</th>\n",
              "      <th>V9</th>\n",
              "      <th>V10</th>\n",
              "      <th>V11</th>\n",
              "      <th>V12</th>\n",
              "      <th>V13</th>\n",
              "      <th>V14</th>\n",
              "      <th>V15</th>\n",
              "      <th>V16</th>\n",
              "      <th>V17</th>\n",
              "      <th>V18</th>\n",
              "      <th>V19</th>\n",
              "      <th>V20</th>\n",
              "      <th>V21</th>\n",
              "      <th>V22</th>\n",
              "      <th>V23</th>\n",
              "      <th>V24</th>\n",
              "      <th>V25</th>\n",
              "      <th>V26</th>\n",
              "      <th>V27</th>\n",
              "      <th>V28</th>\n",
              "      <th>Class</th>\n",
              "      <th>std_amount</th>\n",
              "      <th>std_time</th>\n",
              "    </tr>\n",
              "  </thead>\n",
              "  <tbody>\n",
              "    <tr>\n",
              "      <th>0</th>\n",
              "      <td>-1.359807</td>\n",
              "      <td>-0.072781</td>\n",
              "      <td>2.536347</td>\n",
              "      <td>1.378155</td>\n",
              "      <td>-0.338321</td>\n",
              "      <td>0.462388</td>\n",
              "      <td>0.239599</td>\n",
              "      <td>0.098698</td>\n",
              "      <td>0.363787</td>\n",
              "      <td>0.090794</td>\n",
              "      <td>-0.551600</td>\n",
              "      <td>-0.617801</td>\n",
              "      <td>-0.991390</td>\n",
              "      <td>-0.311169</td>\n",
              "      <td>1.468177</td>\n",
              "      <td>-0.470401</td>\n",
              "      <td>0.207971</td>\n",
              "      <td>0.025791</td>\n",
              "      <td>0.403993</td>\n",
              "      <td>0.251412</td>\n",
              "      <td>-0.018307</td>\n",
              "      <td>0.277838</td>\n",
              "      <td>-0.110474</td>\n",
              "      <td>0.066928</td>\n",
              "      <td>0.128539</td>\n",
              "      <td>-0.189115</td>\n",
              "      <td>0.133558</td>\n",
              "      <td>-0.021053</td>\n",
              "      <td>0</td>\n",
              "      <td>0.244964</td>\n",
              "      <td>-1.996583</td>\n",
              "    </tr>\n",
              "    <tr>\n",
              "      <th>1</th>\n",
              "      <td>1.191857</td>\n",
              "      <td>0.266151</td>\n",
              "      <td>0.166480</td>\n",
              "      <td>0.448154</td>\n",
              "      <td>0.060018</td>\n",
              "      <td>-0.082361</td>\n",
              "      <td>-0.078803</td>\n",
              "      <td>0.085102</td>\n",
              "      <td>-0.255425</td>\n",
              "      <td>-0.166974</td>\n",
              "      <td>1.612727</td>\n",
              "      <td>1.065235</td>\n",
              "      <td>0.489095</td>\n",
              "      <td>-0.143772</td>\n",
              "      <td>0.635558</td>\n",
              "      <td>0.463917</td>\n",
              "      <td>-0.114805</td>\n",
              "      <td>-0.183361</td>\n",
              "      <td>-0.145783</td>\n",
              "      <td>-0.069083</td>\n",
              "      <td>-0.225775</td>\n",
              "      <td>-0.638672</td>\n",
              "      <td>0.101288</td>\n",
              "      <td>-0.339846</td>\n",
              "      <td>0.167170</td>\n",
              "      <td>0.125895</td>\n",
              "      <td>-0.008983</td>\n",
              "      <td>0.014724</td>\n",
              "      <td>0</td>\n",
              "      <td>-0.342475</td>\n",
              "      <td>-1.996583</td>\n",
              "    </tr>\n",
              "    <tr>\n",
              "      <th>2</th>\n",
              "      <td>-1.358354</td>\n",
              "      <td>-1.340163</td>\n",
              "      <td>1.773209</td>\n",
              "      <td>0.379780</td>\n",
              "      <td>-0.503198</td>\n",
              "      <td>1.800499</td>\n",
              "      <td>0.791461</td>\n",
              "      <td>0.247676</td>\n",
              "      <td>-1.514654</td>\n",
              "      <td>0.207643</td>\n",
              "      <td>0.624501</td>\n",
              "      <td>0.066084</td>\n",
              "      <td>0.717293</td>\n",
              "      <td>-0.165946</td>\n",
              "      <td>2.345865</td>\n",
              "      <td>-2.890083</td>\n",
              "      <td>1.109969</td>\n",
              "      <td>-0.121359</td>\n",
              "      <td>-2.261857</td>\n",
              "      <td>0.524980</td>\n",
              "      <td>0.247998</td>\n",
              "      <td>0.771679</td>\n",
              "      <td>0.909412</td>\n",
              "      <td>-0.689281</td>\n",
              "      <td>-0.327642</td>\n",
              "      <td>-0.139097</td>\n",
              "      <td>-0.055353</td>\n",
              "      <td>-0.059752</td>\n",
              "      <td>0</td>\n",
              "      <td>1.160686</td>\n",
              "      <td>-1.996562</td>\n",
              "    </tr>\n",
              "    <tr>\n",
              "      <th>3</th>\n",
              "      <td>-0.966272</td>\n",
              "      <td>-0.185226</td>\n",
              "      <td>1.792993</td>\n",
              "      <td>-0.863291</td>\n",
              "      <td>-0.010309</td>\n",
              "      <td>1.247203</td>\n",
              "      <td>0.237609</td>\n",
              "      <td>0.377436</td>\n",
              "      <td>-1.387024</td>\n",
              "      <td>-0.054952</td>\n",
              "      <td>-0.226487</td>\n",
              "      <td>0.178228</td>\n",
              "      <td>0.507757</td>\n",
              "      <td>-0.287924</td>\n",
              "      <td>-0.631418</td>\n",
              "      <td>-1.059647</td>\n",
              "      <td>-0.684093</td>\n",
              "      <td>1.965775</td>\n",
              "      <td>-1.232622</td>\n",
              "      <td>-0.208038</td>\n",
              "      <td>-0.108300</td>\n",
              "      <td>0.005274</td>\n",
              "      <td>-0.190321</td>\n",
              "      <td>-1.175575</td>\n",
              "      <td>0.647376</td>\n",
              "      <td>-0.221929</td>\n",
              "      <td>0.062723</td>\n",
              "      <td>0.061458</td>\n",
              "      <td>0</td>\n",
              "      <td>0.140534</td>\n",
              "      <td>-1.996562</td>\n",
              "    </tr>\n",
              "    <tr>\n",
              "      <th>4</th>\n",
              "      <td>-1.158233</td>\n",
              "      <td>0.877737</td>\n",
              "      <td>1.548718</td>\n",
              "      <td>0.403034</td>\n",
              "      <td>-0.407193</td>\n",
              "      <td>0.095921</td>\n",
              "      <td>0.592941</td>\n",
              "      <td>-0.270533</td>\n",
              "      <td>0.817739</td>\n",
              "      <td>0.753074</td>\n",
              "      <td>-0.822843</td>\n",
              "      <td>0.538196</td>\n",
              "      <td>1.345852</td>\n",
              "      <td>-1.119670</td>\n",
              "      <td>0.175121</td>\n",
              "      <td>-0.451449</td>\n",
              "      <td>-0.237033</td>\n",
              "      <td>-0.038195</td>\n",
              "      <td>0.803487</td>\n",
              "      <td>0.408542</td>\n",
              "      <td>-0.009431</td>\n",
              "      <td>0.798278</td>\n",
              "      <td>-0.137458</td>\n",
              "      <td>0.141267</td>\n",
              "      <td>-0.206010</td>\n",
              "      <td>0.502292</td>\n",
              "      <td>0.219422</td>\n",
              "      <td>0.215153</td>\n",
              "      <td>0</td>\n",
              "      <td>-0.073403</td>\n",
              "      <td>-1.996541</td>\n",
              "    </tr>\n",
              "  </tbody>\n",
              "</table>\n",
              "</div>"
            ],
            "text/plain": [
              "         V1        V2        V3  ...  Class  std_amount  std_time\n",
              "0 -1.359807 -0.072781  2.536347  ...      0    0.244964 -1.996583\n",
              "1  1.191857  0.266151  0.166480  ...      0   -0.342475 -1.996583\n",
              "2 -1.358354 -1.340163  1.773209  ...      0    1.160686 -1.996562\n",
              "3 -0.966272 -0.185226  1.792993  ...      0    0.140534 -1.996562\n",
              "4 -1.158233  0.877737  1.548718  ...      0   -0.073403 -1.996541\n",
              "\n",
              "[5 rows x 31 columns]"
            ]
          },
          "metadata": {},
          "execution_count": 13
        }
      ]
    },
    {
      "cell_type": "markdown",
      "metadata": {
        "id": "iGMJn7sLDIvE"
      },
      "source": [
        "2.  Divisão do dataset entre dados de treino e validação."
      ]
    },
    {
      "cell_type": "code",
      "metadata": {
        "id": "MMNTTuEvC5iJ"
      },
      "source": [
        "# separação do dataset entre treino e validação\n",
        "X = df_clean.drop('Class', axis=1)\n",
        "y = df_clean['Class']\n",
        "\n",
        "# dividir o dataset entre treino e teste\n",
        "X_train, X_test, y_train, y_test = train_test_split(X, y)"
      ],
      "execution_count": 15,
      "outputs": []
    },
    {
      "cell_type": "markdown",
      "metadata": {
        "id": "4QTJbqnkDe3f"
      },
      "source": [
        "3. Balanceamento dos dados preservando a classe minoritária (*under-sampling*).\n",
        "\n",
        "No gráfico abaixo conseguimos ver que o problema da desproporção foi sanado."
      ]
    },
    {
      "cell_type": "code",
      "metadata": {
        "colab": {
          "base_uri": "https://localhost:8080/",
          "height": 411
        },
        "id": "APa7g-2QDN19",
        "outputId": "4191dd31-aee8-46eb-b254-b9368ec35399"
      },
      "source": [
        "from imblearn.under_sampling import RandomUnderSampler;\n",
        "\n",
        "# usar técnica under-sampling\n",
        "rus = RandomUnderSampler()\n",
        "X_rus, y_rus = rus.fit_sample(X_train, y_train);\n",
        "\n",
        "# ver o balanceamento das classes\n",
        "print(pd.Series(y_rus).value_counts());\n",
        "\n",
        "# plotar a nova distribuição de classes\n",
        "sns.countplot(y_rus);"
      ],
      "execution_count": 19,
      "outputs": [
        {
          "output_type": "stream",
          "name": "stdout",
          "text": [
            "1    370\n",
            "0    370\n",
            "dtype: int64\n"
          ]
        },
        {
          "output_type": "stream",
          "name": "stderr",
          "text": [
            "/usr/local/lib/python3.7/dist-packages/sklearn/utils/deprecation.py:87: FutureWarning: Function safe_indexing is deprecated; safe_indexing is deprecated in version 0.22 and will be removed in version 0.24.\n",
            "  warnings.warn(msg, category=FutureWarning)\n",
            "/usr/local/lib/python3.7/dist-packages/seaborn/_decorators.py:43: FutureWarning: Pass the following variable as a keyword arg: x. From version 0.12, the only valid positional argument will be `data`, and passing other arguments without an explicit keyword will result in an error or misinterpretation.\n",
            "  FutureWarning\n"
          ]
        },
        {
          "output_type": "display_data",
          "data": {
            "image/png": "[encoded data removed]",
            "text/plain": [
              "<Figure size 432x288 with 1 Axes>"
            ]
          },
          "metadata": {}
        }
      ]
    },
    {
      "cell_type": "markdown",
      "metadata": {
        "id": "wJNH5qcjRxfX"
      },
      "source": [
        "## **Modelo de Machine Learning**\n",
        "\n",
        "Conforme mencionado no início do projeto, trabalharemos com dois modelos de classificação.\n",
        "\n",
        "1. Regressão logística"
      ]
    },
    {
      "cell_type": "code",
      "metadata": {
        "id": "lDySx8XUSMw_"
      },
      "source": [
        "# definição do modelo\n",
        "model = LogisticRegression()\n",
        "\n",
        "# fit do modelo\n",
        "model.fit(X_rus, y_rus) # lembrar de selecionar o dataset balanceado\n",
        "\n",
        "# fazer previsões em cima de novos dados\n",
        "y_pred = model.predict(X_test)\n"
      ],
      "execution_count": 37,
      "outputs": []
    },
    {
      "cell_type": "markdown",
      "metadata": {
        "id": "hGJY3oN95KQ2"
      },
      "source": [
        "2. Árvore de decisão"
      ]
    },
    {
      "cell_type": "code",
      "metadata": {
        "id": "6mHOoAa6Esdd"
      },
      "source": [
        "model2 = DecisionTreeClassifier(max_depth=4, criterion=\"entropy\")\n",
        "\n",
        "# 4. Fit do modelo (treinar)\n",
        "model2.fit(X_rus, y_rus)\n",
        "\n",
        "# 5. Fazer previsões em cima de novos dados\n",
        "y_pred2 = model2.predict(X_test)\n"
      ],
      "execution_count": 38,
      "outputs": []
    },
    {
      "cell_type": "markdown",
      "metadata": {
        "id": "3e4ENOTYSUXi"
      },
      "source": [
        "## **Avaliação dos modelos**\n",
        "\n",
        "A definição da melhor métrica de avaliação passa por uma grande discussão e que irá variar conforme o problema apresentado. Existem diversos materiais  sobre o tema, segue [referência](https://towardsdatascience.com/=precision-vs-recall-evaluating-model-performance-in-credit-card-fraud-detection-bb24958b2723).\n",
        "\n",
        "No nosso caso de estudo irei utilizar da métrica *recall*, priorizando pelo modelo que consegue nos indicar o maior número possível de casos positivos. Uma vez que a não identificação de fraude acarreta em custo para a instituição e para o usuário um grande estresse.\n",
        "\n",
        "### *Recall*\n",
        "\n",
        "$$\n",
        "\\frac{TP}{TP+FN}\n",
        "$$"
      ]
    },
    {
      "cell_type": "markdown",
      "metadata": {
        "id": "Pm9UxrHwDji5"
      },
      "source": [
        "1. **Regressão logística**\n",
        "\n",
        "\n"
      ]
    },
    {
      "cell_type": "code",
      "metadata": {
        "id": "H1jEi7gkSe2r",
        "colab": {
          "base_uri": "https://localhost:8080/"
        },
        "outputId": "f742f7ee-159a-445b-c011-571087e03c45"
      },
      "source": [
        "print(classification_report(y_test, y_pred))"
      ],
      "execution_count": 36,
      "outputs": [
        {
          "output_type": "stream",
          "name": "stdout",
          "text": [
            "              precision    recall  f1-score   support\n",
            "\n",
            "           0       1.00      0.97      0.98     71080\n",
            "           1       0.05      0.92      0.09       122\n",
            "\n",
            "    accuracy                           0.97     71202\n",
            "   macro avg       0.52      0.94      0.54     71202\n",
            "weighted avg       1.00      0.97      0.98     71202\n",
            "\n"
          ]
        }
      ]
    },
    {
      "cell_type": "markdown",
      "metadata": {
        "id": "AO9R0HJrLKQC"
      },
      "source": [
        "1. **Árvore de decisão**"
      ]
    },
    {
      "cell_type": "code",
      "metadata": {
        "colab": {
          "base_uri": "https://localhost:8080/"
        },
        "id": "JJNA8WSPFBuV",
        "outputId": "263aad45-b33b-4bfb-9275-d454ef7b1c51"
      },
      "source": [
        "print(classification_report(y_test, y_pred2))"
      ],
      "execution_count": 49,
      "outputs": [
        {
          "output_type": "stream",
          "name": "stdout",
          "text": [
            "              precision    recall  f1-score   support\n",
            "\n",
            "           0       1.00      0.93      0.96     71080\n",
            "           1       0.02      0.91      0.04       122\n",
            "\n",
            "    accuracy                           0.93     71202\n",
            "   macro avg       0.51      0.92      0.50     71202\n",
            "weighted avg       1.00      0.93      0.96     71202\n",
            "\n"
          ]
        }
      ]
    },
    {
      "cell_type": "markdown",
      "metadata": {
        "id": "0Bj7zRZMSfO7"
      },
      "source": [
        "## Conclusão\n",
        "\n",
        "* O grande desafio do *dataset* está em lidar com a desproporção entre as classes, impactando na preparação dos dados e nos levando a diversas discussões sobre a melhor forma de avaliar os modelos.\n",
        "* Outro processo importante, feito anteriormente, foi a redução das dimensionalidades, trazendo ainda mais complexidade para manipulação e análise das variáveis. Em um mundo real, o caminho inverso teria de ser feito para habilitar explicações sobre as princípais features utilizadas pelos modelos (em especial, ao apresentar os resultados para áreas não conectadas com ciência de dados).\n",
        "* Comparando os modelos, a regressão logística foi capaz de entregar um melhor resultado - otimizando o número de fraudes identificadas (92%) e diminuíndo o número de compras não fraudulentas bloqueadas (3%)."
      ]
    }
  ]
}