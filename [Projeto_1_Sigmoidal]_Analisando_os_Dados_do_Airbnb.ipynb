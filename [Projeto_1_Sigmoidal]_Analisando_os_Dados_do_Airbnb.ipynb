{
  "nbformat": 4,
  "nbformat_minor": 0,
  "metadata": {
    "colab": {
      "name": "[Projeto 1 - Sigmoidal] Analisando os Dados do Airbnb.ipynb",
      "provenance": [],
      "collapsed_sections": []
    },
    "kernelspec": {
      "name": "python3",
      "display_name": "Python 3"
    }
  },
  "cells": [
    {
      "cell_type": "markdown",
      "metadata": {
        "id": "kLI0gJtzDGuQ"
      },
      "source": [
        "<img alt=\"Colaboratory logo\" width=\"15%\" src=\"https://raw.githubusercontent.com/carlosfab/escola-data-science/master/img/novo_logo_bg_claro.png\">\n",
        "\n",
        "#### **Data Science na Prática 3.0**\n",
        "*by [sigmoidal.ai](https://sigmoidal.ai)*\n",
        "\n",
        "---\n",
        "\n",
        "# Análise dos Dados do Airbnb - *Dublin*\n",
        "\n",
        "O [Airbnb](https://www.airbnb.com.br/) já é considerado como sendo a **maior empresa hoteleira da atualidade**. Ah, o detalhe é que ele **não possui nenhum hotel**!\n",
        "\n",
        "Conectando pessoas que querem viajar (e se hospedar) com anfitriões que querem alugar seus imóveis de maneira prática, o Airbnb fornece uma plataforma inovadora para tornar essa hospedagem alternativa.\n",
        "\n",
        "No final de 2018, a Startup fundada 10 anos atrás, já havia **hospedado mais de 300 milhões** de pessoas ao redor de todo o mundo, desafiando as redes hoteleiras tradicionais.\n",
        "\n",
        "Uma das iniciativas do Airbnb é disponibilizar dados do site, para algumas das principais cidades do mundo. Por meio do portal [Inside Airbnb](http://insideairbnb.com/get-the-data.html), é possível baixar uma grande quantidade de dados para desenvolver projetos e soluções de *Data Science*.\n",
        "\n",
        "<center><img alt=\"Analisando Airbnb\" width=\"10%\" src=\"https://www.area360.com.au/wp-content/uploads/2017/09/airbnb-logo.jpg\"></center>\n",
        "\n",
        "## *Dublin* aos olhos de um maiores portais de intercâmbio - [edublin](https://www.edublin.com.br/)\n",
        "\n",
        "\"A capital irlandesa, além de bonita e amigável, tem lugares muito especiais e, até, curiosos, como o Temple Bar, uma região inteira dedicada aos famosos pubs (bares) no coração turístico da cidade.\n",
        "\n",
        "Entretanto, com mais de 1 milhão de habitantes, Dublin apresenta muitas outras curiosidades, além de recepcionar um número expressivo de estudantes do mundo todo.\n",
        "\n",
        "A rica cultura irlandesa pode ser facilmente notada por meio da riqueza histórica, na arte, na música e nos livros de muitos autores famosos, que levam a cultura irlandesa para todo o mundo.\"\n",
        "\n",
        "Clique no link para ter acesso ao conteúdo completo: https://www.edublin.com.br/9-curiosidades-interessantes-sobre-dublin/\n",
        "\n",
        "**Neste *notebook*, iremos analisar os dados referentes à cidade Dublin, e ver quais insights podem ser extraídos a partir de dados brutos.**\n",
        "\n"
      ]
    },
    {
      "cell_type": "markdown",
      "metadata": {
        "id": "0zxQHhIUDF_2"
      },
      "source": [
        "## Obtenção dos Dados\n"
      ]
    },
    {
      "cell_type": "code",
      "metadata": {
        "id": "Vhp2wMPgJ6zX"
      },
      "source": [
        "# importar os pacotes necessarios\n",
        "import pandas as pd\n",
        "import matplotlib.pyplot as plt\n",
        "import seaborn as sns\n",
        "\n",
        "%matplotlib inline\n"
      ],
      "execution_count": 1,
      "outputs": []
    },
    {
      "cell_type": "code",
      "metadata": {
        "id": "tUmoAT8DLQ5T"
      },
      "source": [
        "# importar o arquivo listings.csv para um DataFrame\n",
        "pd.options.display.float_format = '{:.5f}'.format # suprimindo notação científica\n",
        "df = pd.read_csv(\"http://data.insideairbnb.com/ireland/leinster/dublin/2021-07-07/visualisations/listings.csv\")"
      ],
      "execution_count": 11,
      "outputs": []
    },
    {
      "cell_type": "markdown",
      "metadata": {
        "id": "qb5By2nIMS6m"
      },
      "source": [
        "## Análise dos Dados\n"
      ]
    },
    {
      "cell_type": "markdown",
      "metadata": {
        "id": "RYgvuebKNg8-"
      },
      "source": [
        "**Dicionário das variáveis**\n",
        "\n",
        "* **id:** código único do imóvel/oferta\n",
        "* **name:** descrição do anúncio/imóvel\n",
        "* **host_id:** código único do anunciante\n",
        "* **host_name:** nome do anunciante\n",
        "* **neighbourhood_group:** coluna sem valor\n",
        "* **neighbourhood:** bairro do imóvel/oferta\n",
        "* **latitude:** latitude do imóvel/oferta\n",
        "* **longitude:** longitude do imóvel/oferta\n",
        "* **room_type:** tipo de acomodação\n",
        "* **minimum_nights:** quantidade mínima de noites para reserva\n",
        "* **number_of_reviews:** número de 'reviews' que o imóvel/oferta recebeu\n",
        "* **last_review:** data do último 'review' recebido\n",
        "* **reviews_per_month:** quantidade de reviews por mês\n",
        "* **calculated_host_listings_count:** número de imóveis do anunciante\n",
        "* **availability_365:** disponibilidade do imóvel/oferta\n",
        "\n",
        "Antes de iniciar qualquer análise, vamos verificar a cara do nosso *dataset*, analisando as 5 primeiras entradas."
      ]
    },
    {
      "cell_type": "code",
      "metadata": {
        "id": "2iS_dae7YQtO",
        "colab": {
          "base_uri": "https://localhost:8080/",
          "height": 408
        },
        "outputId": "3b732d38-0359-4f42-bb9c-ce15d7526ecd"
      },
      "source": [
        "# mostrar as 5 primeiras entradas\n",
        "df.head()"
      ],
      "execution_count": 5,
      "outputs": [
        {
          "output_type": "execute_result",
          "data": {
            "text/html": [
              "<div>\n",
              "<style scoped>\n",
              "    .dataframe tbody tr th:only-of-type {\n",
              "        vertical-align: middle;\n",
              "    }\n",
              "\n",
              "    .dataframe tbody tr th {\n",
              "        vertical-align: top;\n",
              "    }\n",
              "\n",
              "    .dataframe thead th {\n",
              "        text-align: right;\n",
              "    }\n",
              "</style>\n",
              "<table border=\"1\" class=\"dataframe\">\n",
              "  <thead>\n",
              "    <tr style=\"text-align: right;\">\n",
              "      <th></th>\n",
              "      <th>id</th>\n",
              "      <th>name</th>\n",
              "      <th>host_id</th>\n",
              "      <th>host_name</th>\n",
              "      <th>neighbourhood_group</th>\n",
              "      <th>neighbourhood</th>\n",
              "      <th>latitude</th>\n",
              "      <th>longitude</th>\n",
              "      <th>room_type</th>\n",
              "      <th>price</th>\n",
              "      <th>minimum_nights</th>\n",
              "      <th>number_of_reviews</th>\n",
              "      <th>last_review</th>\n",
              "      <th>reviews_per_month</th>\n",
              "      <th>calculated_host_listings_count</th>\n",
              "      <th>availability_365</th>\n",
              "    </tr>\n",
              "  </thead>\n",
              "  <tbody>\n",
              "    <tr>\n",
              "      <th>0</th>\n",
              "      <td>44077</td>\n",
              "      <td>cosy comfortable Irish cottage twin</td>\n",
              "      <td>193005</td>\n",
              "      <td>Teresa</td>\n",
              "      <td>nan</td>\n",
              "      <td>Dn Laoghaire-Rathdown</td>\n",
              "      <td>53.29178</td>\n",
              "      <td>-6.25792</td>\n",
              "      <td>Private room</td>\n",
              "      <td>50</td>\n",
              "      <td>3</td>\n",
              "      <td>227</td>\n",
              "      <td>2020-02-08</td>\n",
              "      <td>1.88000</td>\n",
              "      <td>3</td>\n",
              "      <td>217</td>\n",
              "    </tr>\n",
              "    <tr>\n",
              "      <th>1</th>\n",
              "      <td>85148</td>\n",
              "      <td>Habitación en Dublín Double room</td>\n",
              "      <td>466111</td>\n",
              "      <td>Don</td>\n",
              "      <td>nan</td>\n",
              "      <td>South Dublin</td>\n",
              "      <td>53.29885</td>\n",
              "      <td>-6.31850</td>\n",
              "      <td>Private room</td>\n",
              "      <td>30</td>\n",
              "      <td>1</td>\n",
              "      <td>1</td>\n",
              "      <td>2019-05-11</td>\n",
              "      <td>0.04000</td>\n",
              "      <td>1</td>\n",
              "      <td>284</td>\n",
              "    </tr>\n",
              "    <tr>\n",
              "      <th>2</th>\n",
              "      <td>85156</td>\n",
              "      <td>Cosy Comfortable Irish Cottage  1 Double Bed</td>\n",
              "      <td>193005</td>\n",
              "      <td>Teresa</td>\n",
              "      <td>nan</td>\n",
              "      <td>Dn Laoghaire-Rathdown</td>\n",
              "      <td>53.29209</td>\n",
              "      <td>-6.25624</td>\n",
              "      <td>Private room</td>\n",
              "      <td>63</td>\n",
              "      <td>3</td>\n",
              "      <td>182</td>\n",
              "      <td>2020-02-09</td>\n",
              "      <td>2.26000</td>\n",
              "      <td>3</td>\n",
              "      <td>312</td>\n",
              "    </tr>\n",
              "    <tr>\n",
              "      <th>3</th>\n",
              "      <td>159889</td>\n",
              "      <td>Friendly Single Room</td>\n",
              "      <td>766611</td>\n",
              "      <td>Margaret</td>\n",
              "      <td>nan</td>\n",
              "      <td>Dublin City</td>\n",
              "      <td>53.39027</td>\n",
              "      <td>-6.23547</td>\n",
              "      <td>Private room</td>\n",
              "      <td>38</td>\n",
              "      <td>2</td>\n",
              "      <td>311</td>\n",
              "      <td>2019-12-21</td>\n",
              "      <td>3.58000</td>\n",
              "      <td>3</td>\n",
              "      <td>344</td>\n",
              "    </tr>\n",
              "    <tr>\n",
              "      <th>4</th>\n",
              "      <td>162809</td>\n",
              "      <td>5.5 miles south of Dublin City :^)</td>\n",
              "      <td>777681</td>\n",
              "      <td>Robbie</td>\n",
              "      <td>nan</td>\n",
              "      <td>Dn Laoghaire-Rathdown</td>\n",
              "      <td>53.28326</td>\n",
              "      <td>-6.19188</td>\n",
              "      <td>Private room</td>\n",
              "      <td>65</td>\n",
              "      <td>1</td>\n",
              "      <td>284</td>\n",
              "      <td>2020-02-09</td>\n",
              "      <td>3.90000</td>\n",
              "      <td>2</td>\n",
              "      <td>286</td>\n",
              "    </tr>\n",
              "  </tbody>\n",
              "</table>\n",
              "</div>"
            ],
            "text/plain": [
              "       id  ... availability_365\n",
              "0   44077  ...              217\n",
              "1   85148  ...              284\n",
              "2   85156  ...              312\n",
              "3  159889  ...              344\n",
              "4  162809  ...              286\n",
              "\n",
              "[5 rows x 16 columns]"
            ]
          },
          "metadata": {
            "tags": []
          },
          "execution_count": 5
        }
      ]
    },
    {
      "cell_type": "markdown",
      "metadata": {
        "id": "6-B_qtEaYEd-"
      },
      "source": [
        "### **Q1. Quantos atributos (variáveis) e quantas entradas o nosso conjunto de dados possui? Quais os tipos das variáveis?**"
      ]
    },
    {
      "cell_type": "code",
      "metadata": {
        "id": "TFRK0tniLV-G",
        "colab": {
          "base_uri": "https://localhost:8080/"
        },
        "outputId": "6401b7ce-6cb4-47e8-ec77-46ced9461d90"
      },
      "source": [
        "# identificar o volume de dados do DataFrame\n",
        "df.shape[0]\n"
      ],
      "execution_count": 6,
      "outputs": [
        {
          "output_type": "execute_result",
          "data": {
            "text/plain": [
              "7740"
            ]
          },
          "metadata": {
            "tags": []
          },
          "execution_count": 6
        }
      ]
    },
    {
      "cell_type": "code",
      "metadata": {
        "colab": {
          "base_uri": "https://localhost:8080/"
        },
        "id": "Kl-8RupKvfMc",
        "outputId": "ee44a444-c905-474b-8609-432968523bbf"
      },
      "source": [
        "# identificar as diferentes variáveis do DataFrame\n",
        "df.dtypes"
      ],
      "execution_count": 7,
      "outputs": [
        {
          "output_type": "execute_result",
          "data": {
            "text/plain": [
              "id                                  int64\n",
              "name                               object\n",
              "host_id                             int64\n",
              "host_name                          object\n",
              "neighbourhood_group               float64\n",
              "neighbourhood                      object\n",
              "latitude                          float64\n",
              "longitude                         float64\n",
              "room_type                          object\n",
              "price                               int64\n",
              "minimum_nights                      int64\n",
              "number_of_reviews                   int64\n",
              "last_review                        object\n",
              "reviews_per_month                 float64\n",
              "calculated_host_listings_count      int64\n",
              "availability_365                    int64\n",
              "dtype: object"
            ]
          },
          "metadata": {
            "tags": []
          },
          "execution_count": 7
        }
      ]
    },
    {
      "cell_type": "markdown",
      "metadata": {
        "id": "yz1urSUGW9iE"
      },
      "source": [
        "### **Q2. Qual a porcentagem de valores ausentes no *dataset*?**"
      ]
    },
    {
      "cell_type": "code",
      "metadata": {
        "id": "plk2FjbCXOqP",
        "colab": {
          "base_uri": "https://localhost:8080/"
        },
        "outputId": "9d45d624-b918-4517-b0d2-f46b3cf6c65d"
      },
      "source": [
        "# ordenar em ordem decrescente as variáveis por seus valores ausentes\n",
        "print((df.isnull().sum() / df.shape[0]).sort_values(ascending=False))\n"
      ],
      "execution_count": 8,
      "outputs": [
        {
          "output_type": "stream",
          "text": [
            "neighbourhood_group              1.00000\n",
            "reviews_per_month                0.24509\n",
            "last_review                      0.24509\n",
            "host_name                        0.04289\n",
            "name                             0.00013\n",
            "availability_365                 0.00000\n",
            "calculated_host_listings_count   0.00000\n",
            "number_of_reviews                0.00000\n",
            "minimum_nights                   0.00000\n",
            "price                            0.00000\n",
            "room_type                        0.00000\n",
            "longitude                        0.00000\n",
            "latitude                         0.00000\n",
            "neighbourhood                    0.00000\n",
            "host_id                          0.00000\n",
            "id                               0.00000\n",
            "dtype: float64\n"
          ],
          "name": "stdout"
        }
      ]
    },
    {
      "cell_type": "markdown",
      "metadata": {
        "id": "gnEjo8bWZyv9"
      },
      "source": [
        "Uma vez que a variável neighbourhood_group possui 100% dos valores ausentes, podemos excluí-la."
      ]
    },
    {
      "cell_type": "code",
      "metadata": {
        "id": "zVsYQP0uOOGZ"
      },
      "source": [
        "df = df.drop(columns=['neighbourhood_group'])\n"
      ],
      "execution_count": null,
      "outputs": []
    },
    {
      "cell_type": "markdown",
      "metadata": {
        "id": "iHXvvHIxaoNc"
      },
      "source": [
        "### **Q3. Qual o tipo de distribuição das variáveis?** "
      ]
    },
    {
      "cell_type": "markdown",
      "metadata": {
        "id": "ForWYMJAaTUZ"
      },
      "source": [
        "\n",
        "\n",
        "*   Lembrando que devemos desconsiderar anomalias nas distribuições das variáveis 'id', 'host_id', 'latitude' e 'longitude'.\n",
        "*   'price', 'minimum_nights' e 'calculated_host_listings_count' apontam anomalias causadas possívelmente por *outliers*\n",
        "\n",
        "\n",
        "\n",
        "\n"
      ]
    },
    {
      "cell_type": "code",
      "metadata": {
        "id": "q2wWSfeRbmBo",
        "colab": {
          "base_uri": "https://localhost:8080/",
          "height": 607
        },
        "outputId": "69193603-b008-491e-f2f4-247c4c08430d"
      },
      "source": [
        "# plotar o histograma das variáveis numéricas\n",
        "df.hist(figsize=(15,10));"
      ],
      "execution_count": 13,
      "outputs": [
        {
          "output_type": "display_data",
          "data": {
            "image/png": "[encoded data removed]",
            "text/plain": [
              "<Figure size 1080x720 with 12 Axes>"
            ]
          },
          "metadata": {
            "tags": [],
            "needs_background": "light"
          }
        }
      ]
    },
    {
      "cell_type": "markdown",
      "metadata": {
        "id": "7x4aw1j5wNmn"
      },
      "source": [
        "### **Q4. Qual a média dos preços de aluguel?**"
      ]
    },
    {
      "cell_type": "code",
      "metadata": {
        "id": "ff-8gUahLk-C",
        "colab": {
          "base_uri": "https://localhost:8080/"
        },
        "outputId": "5a54717b-0ad3-4157-c101-a4922a0da046"
      },
      "source": [
        "# ver a média da coluna `price`\n",
        "df['price'].describe()"
      ],
      "execution_count": 52,
      "outputs": [
        {
          "output_type": "execute_result",
          "data": {
            "text/plain": [
              "count      7740.00000\n",
              "mean        270.20401\n",
              "std       13341.30176\n",
              "min           0.00000\n",
              "25%          51.00000\n",
              "50%          80.00000\n",
              "75%         133.00000\n",
              "max     1173721.00000\n",
              "Name: price, dtype: float64"
            ]
          },
          "metadata": {
            "tags": []
          },
          "execution_count": 52
        }
      ]
    },
    {
      "cell_type": "code",
      "metadata": {
        "colab": {
          "base_uri": "https://localhost:8080/",
          "height": 297
        },
        "id": "0tE1s35bchKA",
        "outputId": "fdc608b0-5913-4429-c2e7-4e28c6db12a6"
      },
      "source": [
        "# média das colunas qualitativas\n",
        "df[['price','minimum_nights','number_of_reviews','last_review','reviews_per_month','calculated_host_listings_count','availability_365']].describe()"
      ],
      "execution_count": 53,
      "outputs": [
        {
          "output_type": "execute_result",
          "data": {
            "text/html": [
              "<div>\n",
              "<style scoped>\n",
              "    .dataframe tbody tr th:only-of-type {\n",
              "        vertical-align: middle;\n",
              "    }\n",
              "\n",
              "    .dataframe tbody tr th {\n",
              "        vertical-align: top;\n",
              "    }\n",
              "\n",
              "    .dataframe thead th {\n",
              "        text-align: right;\n",
              "    }\n",
              "</style>\n",
              "<table border=\"1\" class=\"dataframe\">\n",
              "  <thead>\n",
              "    <tr style=\"text-align: right;\">\n",
              "      <th></th>\n",
              "      <th>price</th>\n",
              "      <th>minimum_nights</th>\n",
              "      <th>number_of_reviews</th>\n",
              "      <th>reviews_per_month</th>\n",
              "      <th>calculated_host_listings_count</th>\n",
              "      <th>availability_365</th>\n",
              "    </tr>\n",
              "  </thead>\n",
              "  <tbody>\n",
              "    <tr>\n",
              "      <th>count</th>\n",
              "      <td>7740.00000</td>\n",
              "      <td>7740.00000</td>\n",
              "      <td>7740.00000</td>\n",
              "      <td>5843.00000</td>\n",
              "      <td>7740.00000</td>\n",
              "      <td>7740.00000</td>\n",
              "    </tr>\n",
              "    <tr>\n",
              "      <th>mean</th>\n",
              "      <td>270.20401</td>\n",
              "      <td>9.17791</td>\n",
              "      <td>28.88876</td>\n",
              "      <td>0.97169</td>\n",
              "      <td>16.37571</td>\n",
              "      <td>84.81176</td>\n",
              "    </tr>\n",
              "    <tr>\n",
              "      <th>std</th>\n",
              "      <td>13341.30176</td>\n",
              "      <td>43.49307</td>\n",
              "      <td>57.53551</td>\n",
              "      <td>1.75726</td>\n",
              "      <td>61.89064</td>\n",
              "      <td>128.05097</td>\n",
              "    </tr>\n",
              "    <tr>\n",
              "      <th>min</th>\n",
              "      <td>0.00000</td>\n",
              "      <td>1.00000</td>\n",
              "      <td>0.00000</td>\n",
              "      <td>0.01000</td>\n",
              "      <td>1.00000</td>\n",
              "      <td>0.00000</td>\n",
              "    </tr>\n",
              "    <tr>\n",
              "      <th>25%</th>\n",
              "      <td>51.00000</td>\n",
              "      <td>1.00000</td>\n",
              "      <td>1.00000</td>\n",
              "      <td>0.11000</td>\n",
              "      <td>1.00000</td>\n",
              "      <td>0.00000</td>\n",
              "    </tr>\n",
              "    <tr>\n",
              "      <th>50%</th>\n",
              "      <td>80.00000</td>\n",
              "      <td>2.00000</td>\n",
              "      <td>5.00000</td>\n",
              "      <td>0.41000</td>\n",
              "      <td>1.00000</td>\n",
              "      <td>0.00000</td>\n",
              "    </tr>\n",
              "    <tr>\n",
              "      <th>75%</th>\n",
              "      <td>133.00000</td>\n",
              "      <td>3.00000</td>\n",
              "      <td>27.00000</td>\n",
              "      <td>1.26000</td>\n",
              "      <td>3.00000</td>\n",
              "      <td>143.00000</td>\n",
              "    </tr>\n",
              "    <tr>\n",
              "      <th>max</th>\n",
              "      <td>1173721.00000</td>\n",
              "      <td>1125.00000</td>\n",
              "      <td>605.00000</td>\n",
              "      <td>82.00000</td>\n",
              "      <td>315.00000</td>\n",
              "      <td>365.00000</td>\n",
              "    </tr>\n",
              "  </tbody>\n",
              "</table>\n",
              "</div>"
            ],
            "text/plain": [
              "              price  ...  availability_365\n",
              "count    7740.00000  ...        7740.00000\n",
              "mean      270.20401  ...          84.81176\n",
              "std     13341.30176  ...         128.05097\n",
              "min         0.00000  ...           0.00000\n",
              "25%        51.00000  ...           0.00000\n",
              "50%        80.00000  ...           0.00000\n",
              "75%       133.00000  ...         143.00000\n",
              "max   1173721.00000  ...         365.00000\n",
              "\n",
              "[8 rows x 6 columns]"
            ]
          },
          "metadata": {
            "tags": []
          },
          "execution_count": 53
        }
      ]
    },
    {
      "cell_type": "markdown",
      "metadata": {
        "id": "oDkKOALvO5xL"
      },
      "source": [
        "## **Q4. Existem outliers influenciando a distribuição das variáveis?**\n",
        "Índicios de *outliers*:\n",
        "1.   Alto desvio padrão (levando em conta a grandeza da métrica).\n",
        "2.   Grande diferença entre média e mediana.\n",
        "3.   Valor máximo muito acima da mediana e terceiro percentil (75%).\n"
      ]
    },
    {
      "cell_type": "code",
      "metadata": {
        "colab": {
          "base_uri": "https://localhost:8080/",
          "height": 327
        },
        "id": "-GEqQrG2iV6h",
        "outputId": "18c9fd61-d5bf-4fd8-bc14-010392380da6"
      },
      "source": [
        "df['price'].plot(kind=\"box\");\n",
        "\n",
        "# ver quantidade de valores acima de 500 para price\n",
        "print(\"price: valores acima de 500:\")\n",
        "print(\"{} entradas\".format(len(df[df.price > 500])))\n",
        "print(\"{:.4f}%\".format((len(df[df.price > 500]) / df.shape[0])*100))"
      ],
      "execution_count": 25,
      "outputs": [
        {
          "output_type": "stream",
          "text": [
            "price: valores acima de 500:\n",
            "107 entradas\n",
            "1.3824%\n"
          ],
          "name": "stdout"
        },
        {
          "output_type": "display_data",
          "data": {
            "image/png": "[encoded data removed]",
            "text/plain": [
              "<Figure size 432x288 with 1 Axes>"
            ]
          },
          "metadata": {
            "tags": [],
            "needs_background": "light"
          }
        }
      ]
    },
    {
      "cell_type": "code",
      "metadata": {
        "colab": {
          "base_uri": "https://localhost:8080/",
          "height": 317
        },
        "id": "tnbm2p-3ivHK",
        "outputId": "293f4999-a635-4e25-d562-5f1dafbd7301"
      },
      "source": [
        "df['minimum_nights'].plot(kind=\"box\");\n",
        "\n",
        "# ver quantidade de valores acima de 7 para minimum_nights\n",
        "print(\"minimum_nights: valores acima de 7:\")\n",
        "print(\"{} entradas\".format(len(df[df.minimum_nights > 7])))\n",
        "print(\"{:.4f}%\".format((len(df[df.minimum_nights > 7]) / df.shape[0])*100))"
      ],
      "execution_count": 38,
      "outputs": [
        {
          "output_type": "stream",
          "text": [
            "minimum_nights: valores acima de 7:\n",
            "911 entradas\n",
            "11.7700%\n"
          ],
          "name": "stdout"
        },
        {
          "output_type": "display_data",
          "data": {
            "image/png": "[encoded data removed]",
            "text/plain": [
              "<Figure size 432x288 with 1 Axes>"
            ]
          },
          "metadata": {
            "tags": [],
            "needs_background": "light"
          }
        }
      ]
    },
    {
      "cell_type": "code",
      "metadata": {
        "colab": {
          "base_uri": "https://localhost:8080/",
          "height": 317
        },
        "id": "4rMRzCrIiwaK",
        "outputId": "867e9b5f-8966-474d-ff8b-c3ad0fff036b"
      },
      "source": [
        "df['calculated_host_listings_count'].plot(kind=\"box\");\n",
        "\n",
        "# ver quantidade de valores acima de 10 para calculated_host_listings_count\n",
        "print(\"minimum_nights: valores acima de 10:\")\n",
        "print(\"{} entradas\".format(len(df[df.calculated_host_listings_count > 10])))\n",
        "print(\"{:.4f}%\".format((len(df[df.calculated_host_listings_count > 10]) / df.shape[0])*100))"
      ],
      "execution_count": 39,
      "outputs": [
        {
          "output_type": "stream",
          "text": [
            "minimum_nights: valores acima de 10:\n",
            "919 entradas\n",
            "11.8734%\n"
          ],
          "name": "stdout"
        },
        {
          "output_type": "display_data",
          "data": {
            "image/png": "[encoded data removed]",
            "text/plain": [
              "<Figure size 432x288 with 1 Axes>"
            ]
          },
          "metadata": {
            "tags": [],
            "needs_background": "light"
          }
        }
      ]
    },
    {
      "cell_type": "markdown",
      "metadata": {
        "id": "WvfzX-qUblTG"
      },
      "source": [
        "## **Definição dos limites para limpeza de outliers:**\n",
        "*   **price**: aproximadamente o dobro da média.\n",
        "*   **minimum_nights**: por definição dificilmente teríamos um mínimo superior ao período de uma semana.\n",
        "*   **calculated_host_listings**: definição de um máximo de 10 anúncios por user_id.\n",
        "\n",
        "\n",
        "\n"
      ]
    },
    {
      "cell_type": "code",
      "metadata": {
        "colab": {
          "base_uri": "https://localhost:8080/",
          "height": 607
        },
        "id": "XGiZmLh5URBk",
        "outputId": "24543f04-60db-48ce-9677-7904970fdc0e"
      },
      "source": [
        "# remover os *outliers* em um novo DataFrame\n",
        "df_clean = df.copy()\n",
        "df_clean.drop(df_clean[df_clean.price > 500].index, axis=0, inplace=True)\n",
        "df_clean.drop(df_clean[df_clean.minimum_nights > 7].index, axis=0, inplace=True)\n",
        "df_clean.drop(df_clean[df_clean.calculated_host_listings_count > 10].index, axis=0, inplace=True)\n",
        "\n",
        "# plotar o histograma para as variáveis numéricas\n",
        "df_clean.hist(bins=15, figsize=(15,10));"
      ],
      "execution_count": 29,
      "outputs": [
        {
          "output_type": "display_data",
          "data": {
            "image/png": "[encoded data removed]",
            "text/plain": [
              "<Figure size 1080x720 with 12 Axes>"
            ]
          },
          "metadata": {
            "tags": [],
            "needs_background": "light"
          }
        }
      ]
    },
    {
      "cell_type": "markdown",
      "metadata": {
        "id": "oxiIqxwdclia"
      },
      "source": [
        "Com a limpeza do DataFrame reduzimos o tamanho em aproximadamente 22% com uma dimensionalidade de 6102 linhas."
      ]
    },
    {
      "cell_type": "code",
      "metadata": {
        "colab": {
          "base_uri": "https://localhost:8080/"
        },
        "id": "UetUf8E7UlMV",
        "outputId": "16a9dfad-bb5c-49dc-f3cf-77595cc23f39"
      },
      "source": [
        "print(df_clean.shape[0] / df.shape[0])\n",
        "print(df_clean.shape[0])"
      ],
      "execution_count": 44,
      "outputs": [
        {
          "output_type": "stream",
          "text": [
            "0.7883720930232558\n",
            "6102\n"
          ],
          "name": "stdout"
        }
      ]
    },
    {
      "cell_type": "code",
      "metadata": {
        "colab": {
          "base_uri": "https://localhost:8080/",
          "height": 297
        },
        "id": "OffNR3tzgx5k",
        "outputId": "cede2f09-1f11-4642-90a6-db6dbf9ea20b"
      },
      "source": [
        "# média das colunas qualitativas\n",
        "df_clean[['price','minimum_nights','number_of_reviews','last_review','reviews_per_month','calculated_host_listings_count','availability_365']].describe()"
      ],
      "execution_count": 66,
      "outputs": [
        {
          "output_type": "execute_result",
          "data": {
            "text/html": [
              "<div>\n",
              "<style scoped>\n",
              "    .dataframe tbody tr th:only-of-type {\n",
              "        vertical-align: middle;\n",
              "    }\n",
              "\n",
              "    .dataframe tbody tr th {\n",
              "        vertical-align: top;\n",
              "    }\n",
              "\n",
              "    .dataframe thead th {\n",
              "        text-align: right;\n",
              "    }\n",
              "</style>\n",
              "<table border=\"1\" class=\"dataframe\">\n",
              "  <thead>\n",
              "    <tr style=\"text-align: right;\">\n",
              "      <th></th>\n",
              "      <th>price</th>\n",
              "      <th>minimum_nights</th>\n",
              "      <th>number_of_reviews</th>\n",
              "      <th>reviews_per_month</th>\n",
              "      <th>calculated_host_listings_count</th>\n",
              "      <th>availability_365</th>\n",
              "    </tr>\n",
              "  </thead>\n",
              "  <tbody>\n",
              "    <tr>\n",
              "      <th>count</th>\n",
              "      <td>6102.00000</td>\n",
              "      <td>6102.00000</td>\n",
              "      <td>6102.00000</td>\n",
              "      <td>4928.00000</td>\n",
              "      <td>6102.00000</td>\n",
              "      <td>6102.00000</td>\n",
              "    </tr>\n",
              "    <tr>\n",
              "      <th>mean</th>\n",
              "      <td>106.45051</td>\n",
              "      <td>2.27024</td>\n",
              "      <td>30.14487</td>\n",
              "      <td>0.93673</td>\n",
              "      <td>1.88332</td>\n",
              "      <td>62.94772</td>\n",
              "    </tr>\n",
              "    <tr>\n",
              "      <th>std</th>\n",
              "      <td>82.84402</td>\n",
              "      <td>1.50295</td>\n",
              "      <td>59.04989</td>\n",
              "      <td>1.77165</td>\n",
              "      <td>1.76226</td>\n",
              "      <td>111.40013</td>\n",
              "    </tr>\n",
              "    <tr>\n",
              "      <th>min</th>\n",
              "      <td>0.00000</td>\n",
              "      <td>1.00000</td>\n",
              "      <td>0.00000</td>\n",
              "      <td>0.01000</td>\n",
              "      <td>1.00000</td>\n",
              "      <td>0.00000</td>\n",
              "    </tr>\n",
              "    <tr>\n",
              "      <th>25%</th>\n",
              "      <td>50.00000</td>\n",
              "      <td>1.00000</td>\n",
              "      <td>1.00000</td>\n",
              "      <td>0.10000</td>\n",
              "      <td>1.00000</td>\n",
              "      <td>0.00000</td>\n",
              "    </tr>\n",
              "    <tr>\n",
              "      <th>50%</th>\n",
              "      <td>80.00000</td>\n",
              "      <td>2.00000</td>\n",
              "      <td>6.00000</td>\n",
              "      <td>0.37000</td>\n",
              "      <td>1.00000</td>\n",
              "      <td>0.00000</td>\n",
              "    </tr>\n",
              "    <tr>\n",
              "      <th>75%</th>\n",
              "      <td>130.00000</td>\n",
              "      <td>3.00000</td>\n",
              "      <td>28.00000</td>\n",
              "      <td>1.17000</td>\n",
              "      <td>2.00000</td>\n",
              "      <td>88.00000</td>\n",
              "    </tr>\n",
              "    <tr>\n",
              "      <th>max</th>\n",
              "      <td>500.00000</td>\n",
              "      <td>7.00000</td>\n",
              "      <td>605.00000</td>\n",
              "      <td>82.00000</td>\n",
              "      <td>10.00000</td>\n",
              "      <td>365.00000</td>\n",
              "    </tr>\n",
              "  </tbody>\n",
              "</table>\n",
              "</div>"
            ],
            "text/plain": [
              "           price  ...  availability_365\n",
              "count 6102.00000  ...        6102.00000\n",
              "mean   106.45051  ...          62.94772\n",
              "std     82.84402  ...         111.40013\n",
              "min      0.00000  ...           0.00000\n",
              "25%     50.00000  ...           0.00000\n",
              "50%     80.00000  ...           0.00000\n",
              "75%    130.00000  ...          88.00000\n",
              "max    500.00000  ...         365.00000\n",
              "\n",
              "[8 rows x 6 columns]"
            ]
          },
          "metadata": {
            "tags": []
          },
          "execution_count": 66
        }
      ]
    },
    {
      "cell_type": "markdown",
      "metadata": {
        "id": "IXn2oIo5qx-w"
      },
      "source": [
        "### **Q4. Qual a correlação existente entre as variáveis**"
      ]
    },
    {
      "cell_type": "code",
      "metadata": {
        "id": "x2ayzBajqxyd",
        "colab": {
          "base_uri": "https://localhost:8080/",
          "height": 235
        },
        "outputId": "b9ac1cb9-5cc3-45cf-df6e-0e7488f1eca1"
      },
      "source": [
        "# criar uma matriz de correlação\n",
        "matrix = df_clean[['price', 'minimum_nights', 'number_of_reviews', 'reviews_per_month',\n",
        "    'calculated_host_listings_count', 'availability_365',]].corr()\n",
        "\n",
        "# mostrar a matriz de correlação\n",
        "matrix"
      ],
      "execution_count": 64,
      "outputs": [
        {
          "output_type": "execute_result",
          "data": {
            "text/html": [
              "<div>\n",
              "<style scoped>\n",
              "    .dataframe tbody tr th:only-of-type {\n",
              "        vertical-align: middle;\n",
              "    }\n",
              "\n",
              "    .dataframe tbody tr th {\n",
              "        vertical-align: top;\n",
              "    }\n",
              "\n",
              "    .dataframe thead th {\n",
              "        text-align: right;\n",
              "    }\n",
              "</style>\n",
              "<table border=\"1\" class=\"dataframe\">\n",
              "  <thead>\n",
              "    <tr style=\"text-align: right;\">\n",
              "      <th></th>\n",
              "      <th>price</th>\n",
              "      <th>minimum_nights</th>\n",
              "      <th>number_of_reviews</th>\n",
              "      <th>reviews_per_month</th>\n",
              "      <th>calculated_host_listings_count</th>\n",
              "      <th>availability_365</th>\n",
              "    </tr>\n",
              "  </thead>\n",
              "  <tbody>\n",
              "    <tr>\n",
              "      <th>price</th>\n",
              "      <td>1.00000</td>\n",
              "      <td>0.17478</td>\n",
              "      <td>-0.06227</td>\n",
              "      <td>-0.05213</td>\n",
              "      <td>0.02800</td>\n",
              "      <td>0.05021</td>\n",
              "    </tr>\n",
              "    <tr>\n",
              "      <th>minimum_nights</th>\n",
              "      <td>0.17478</td>\n",
              "      <td>1.00000</td>\n",
              "      <td>-0.10281</td>\n",
              "      <td>-0.11760</td>\n",
              "      <td>-0.04546</td>\n",
              "      <td>-0.05142</td>\n",
              "    </tr>\n",
              "    <tr>\n",
              "      <th>number_of_reviews</th>\n",
              "      <td>-0.06227</td>\n",
              "      <td>-0.10281</td>\n",
              "      <td>1.00000</td>\n",
              "      <td>0.63072</td>\n",
              "      <td>0.07888</td>\n",
              "      <td>0.14138</td>\n",
              "    </tr>\n",
              "    <tr>\n",
              "      <th>reviews_per_month</th>\n",
              "      <td>-0.05213</td>\n",
              "      <td>-0.11760</td>\n",
              "      <td>0.63072</td>\n",
              "      <td>1.00000</td>\n",
              "      <td>0.13030</td>\n",
              "      <td>0.15857</td>\n",
              "    </tr>\n",
              "    <tr>\n",
              "      <th>calculated_host_listings_count</th>\n",
              "      <td>0.02800</td>\n",
              "      <td>-0.04546</td>\n",
              "      <td>0.07888</td>\n",
              "      <td>0.13030</td>\n",
              "      <td>1.00000</td>\n",
              "      <td>0.21784</td>\n",
              "    </tr>\n",
              "    <tr>\n",
              "      <th>availability_365</th>\n",
              "      <td>0.05021</td>\n",
              "      <td>-0.05142</td>\n",
              "      <td>0.14138</td>\n",
              "      <td>0.15857</td>\n",
              "      <td>0.21784</td>\n",
              "      <td>1.00000</td>\n",
              "    </tr>\n",
              "  </tbody>\n",
              "</table>\n",
              "</div>"
            ],
            "text/plain": [
              "                                  price  ...  availability_365\n",
              "price                           1.00000  ...           0.05021\n",
              "minimum_nights                  0.17478  ...          -0.05142\n",
              "number_of_reviews              -0.06227  ...           0.14138\n",
              "reviews_per_month              -0.05213  ...           0.15857\n",
              "calculated_host_listings_count  0.02800  ...           0.21784\n",
              "availability_365                0.05021  ...           1.00000\n",
              "\n",
              "[6 rows x 6 columns]"
            ]
          },
          "metadata": {
            "tags": []
          },
          "execution_count": 64
        }
      ]
    },
    {
      "cell_type": "code",
      "metadata": {
        "id": "91UujDr6ueqE",
        "colab": {
          "base_uri": "https://localhost:8080/",
          "height": 411
        },
        "outputId": "6f1206b5-d783-40ac-a1e8-373fbb6ec88a"
      },
      "source": [
        "# plotar um heatmap a partir das correlações\n",
        "sns.heatmap(matrix, square=True, annot=True, linewidths=.9);"
      ],
      "execution_count": 65,
      "outputs": [
        {
          "output_type": "display_data",
          "data": {
            "image/png": "[encoded data removed]",
            "text/plain": [
              "<Figure size 432x288 with 2 Axes>"
            ]
          },
          "metadata": {
            "tags": [],
            "needs_background": "light"
          }
        }
      ]
    },
    {
      "cell_type": "markdown",
      "metadata": {
        "id": "7b6RMWpuHKN-"
      },
      "source": [
        "### **Q5. Qual o tipo de imóvel mais alugado no Airbnb?**"
      ]
    },
    {
      "cell_type": "code",
      "metadata": {
        "id": "ueLPNWvPHgfB",
        "colab": {
          "base_uri": "https://localhost:8080/"
        },
        "outputId": "62c2c1d9-23d2-4b41-8c4f-fff6e3164435"
      },
      "source": [
        "# mostrar a quantidade de cada tipo de imóvel disponível\n",
        "df_clean['room_type'].value_counts()"
      ],
      "execution_count": 56,
      "outputs": [
        {
          "output_type": "execute_result",
          "data": {
            "text/plain": [
              "Private room       3257\n",
              "Entire home/apt    2692\n",
              "Shared room         108\n",
              "Hotel room           45\n",
              "Name: room_type, dtype: int64"
            ]
          },
          "metadata": {
            "tags": []
          },
          "execution_count": 56
        }
      ]
    },
    {
      "cell_type": "code",
      "metadata": {
        "id": "EvwoO-XAHhIm",
        "colab": {
          "base_uri": "https://localhost:8080/"
        },
        "outputId": "2420f56d-7959-471c-f49b-a6d44f94eb50"
      },
      "source": [
        "# mostrar a porcentagem de cada tipo de imóvel disponível\n",
        "df_clean['room_type'].value_counts() / df_clean.shape[0]"
      ],
      "execution_count": 48,
      "outputs": [
        {
          "output_type": "execute_result",
          "data": {
            "text/plain": [
              "Private room      0.53376\n",
              "Entire home/apt   0.44117\n",
              "Shared room       0.01770\n",
              "Hotel room        0.00737\n",
              "Name: room_type, dtype: float64"
            ]
          },
          "metadata": {
            "tags": []
          },
          "execution_count": 48
        }
      ]
    },
    {
      "cell_type": "markdown",
      "metadata": {
        "id": "MFa5NbnLJMcd"
      },
      "source": [
        "### **Q6. Qual a localidade mais cara do dataset?**\n",
        "\n"
      ]
    },
    {
      "cell_type": "code",
      "metadata": {
        "id": "MD_xa143JZpi",
        "colab": {
          "base_uri": "https://localhost:8080/"
        },
        "outputId": "694e25ab-5c0b-4cbb-966d-a105dd582961"
      },
      "source": [
        "# ver preços por bairros, na média\n",
        "df_clean.groupby(['neighbourhood']).price.mean()"
      ],
      "execution_count": 71,
      "outputs": [
        {
          "output_type": "execute_result",
          "data": {
            "text/plain": [
              "neighbourhood\n",
              "Dn Laoghaire-Rathdown   108.44284\n",
              "Dublin City             110.55428\n",
              "Fingal                   89.40429\n",
              "South Dublin             71.12088\n",
              "Name: price, dtype: float64"
            ]
          },
          "metadata": {
            "tags": []
          },
          "execution_count": 71
        }
      ]
    },
    {
      "cell_type": "code",
      "metadata": {
        "colab": {
          "base_uri": "https://localhost:8080/"
        },
        "id": "DSfpGazzlrme",
        "outputId": "02966b7b-89cf-4b4f-9787-21a6f8631e77"
      },
      "source": [
        "# ver preços por bairros e tipo de locação, na média\n",
        "df_clean.groupby(['neighbourhood','room_type']).price.mean()"
      ],
      "execution_count": 73,
      "outputs": [
        {
          "output_type": "execute_result",
          "data": {
            "text/plain": [
              "neighbourhood          room_type      \n",
              "Dn Laoghaire-Rathdown  Entire home/apt   156.78042\n",
              "                       Private room       62.49856\n",
              "                       Shared room        58.85714\n",
              "Dublin City            Entire home/apt   156.70909\n",
              "                       Hotel room        166.95349\n",
              "                       Private room       70.31269\n",
              "                       Shared room        44.21111\n",
              "Fingal                 Entire home/apt   153.59296\n",
              "                       Hotel room        110.00000\n",
              "                       Private room       57.43108\n",
              "                       Shared room        79.83333\n",
              "South Dublin           Entire home/apt   136.07576\n",
              "                       Private room       49.73267\n",
              "                       Shared room        77.80000\n",
              "Name: price, dtype: float64"
            ]
          },
          "metadata": {
            "tags": []
          },
          "execution_count": 73
        }
      ]
    },
    {
      "cell_type": "code",
      "metadata": {
        "colab": {
          "base_uri": "https://localhost:8080/"
        },
        "id": "DCMa-5WNl18l",
        "outputId": "b1730d9e-5945-4741-e9fb-b2b61d6ed525"
      },
      "source": [
        "# ver quantidade de ofertas por bairros e tipo de locação, na média\n",
        "df_clean.groupby(['neighbourhood','room_type']).price.count()"
      ],
      "execution_count": 76,
      "outputs": [
        {
          "output_type": "execute_result",
          "data": {
            "text/plain": [
              "neighbourhood          room_type      \n",
              "Dn Laoghaire-Rathdown  Entire home/apt     337\n",
              "                       Private room        347\n",
              "                       Shared room           7\n",
              "Dublin City            Entire home/apt    2090\n",
              "                       Hotel room           43\n",
              "                       Private room       2309\n",
              "                       Shared room          90\n",
              "Fingal                 Entire home/apt     199\n",
              "                       Hotel room            2\n",
              "                       Private room        399\n",
              "                       Shared room           6\n",
              "South Dublin           Entire home/apt      66\n",
              "                       Private room        202\n",
              "                       Shared room           5\n",
              "Name: price, dtype: int64"
            ]
          },
          "metadata": {
            "tags": []
          },
          "execution_count": 76
        }
      ]
    },
    {
      "cell_type": "code",
      "metadata": {
        "id": "UxVJqJ_3W59I",
        "colab": {
          "base_uri": "https://localhost:8080/",
          "height": 296
        },
        "outputId": "39f846bd-e517-427c-d517-c6ed15e38793"
      },
      "source": [
        "# plotar os imóveis pela latitude-longitude\n",
        "df_clean.plot.scatter(x='longitude',y='latitude'),"
      ],
      "execution_count": 50,
      "outputs": [
        {
          "output_type": "execute_result",
          "data": {
            "text/plain": [
              "(<matplotlib.axes._subplots.AxesSubplot at 0x7fe68314ea50>,)"
            ]
          },
          "metadata": {
            "tags": []
          },
          "execution_count": 50
        },
        {
          "output_type": "display_data",
          "data": {
            "image/png": "[encoded data removed]",
            "text/plain": [
              "<Figure size 432x288 with 1 Axes>"
            ]
          },
          "metadata": {
            "tags": [],
            "needs_background": "light"
          }
        }
      ]
    },
    {
      "cell_type": "markdown",
      "metadata": {
        "id": "vTneAMRUYvr1"
      },
      "source": [
        "### **Q7. Qual é a média do mínimo de noites para aluguel (minimum_nights)?**"
      ]
    },
    {
      "cell_type": "code",
      "metadata": {
        "id": "_VzNhrEgY82N",
        "colab": {
          "base_uri": "https://localhost:8080/"
        },
        "outputId": "a9badf4c-8928-439a-c3dc-2a6e5747b624"
      },
      "source": [
        "# ver a média da coluna `minimum_nights``\n",
        "df_clean['minimum_nights'].describe()"
      ],
      "execution_count": 51,
      "outputs": [
        {
          "output_type": "execute_result",
          "data": {
            "text/plain": [
              "count   6102.00000\n",
              "mean       2.27024\n",
              "std        1.50295\n",
              "min        1.00000\n",
              "25%        1.00000\n",
              "50%        2.00000\n",
              "75%        3.00000\n",
              "max        7.00000\n",
              "Name: minimum_nights, dtype: float64"
            ]
          },
          "metadata": {
            "tags": []
          },
          "execution_count": 51
        }
      ]
    },
    {
      "cell_type": "markdown",
      "metadata": {
        "id": "GkvAg623RjoR"
      },
      "source": [
        "## Conclusões\n"
      ]
    },
    {
      "cell_type": "markdown",
      "metadata": {
        "id": "rbZ3Hsy9Ypw8"
      },
      "source": [
        "Se você está pensando em ir pra Dublin como seu próximo destino de viagem, aqui você encontra algumas dicas para preparar o bolso e sua mochila:\n",
        "\n",
        "1.   **Preço**: \n",
        "O preço médio da pernoite fica na casa de EUR 106,45. Lembrando que você irá encontrar variação entre os diferentes bairros, por exemplo: \n",
        "*   Dublin City: EUR 110,55\n",
        "*   Dn Laoghaire-Rathdown: EUR 108,44\n",
        "*   Fingal: EUR 89,40\n",
        "*   South Dublin: EUR 71,12\n",
        "\n",
        "> Com exceção de Dublin City, todas as outras regiões são conhecidas como condados e são parecidas com as nossas regiões metropolitanas no Brasil.\n",
        "\n",
        "2.   **Acomodações**:\n",
        "Você não irá encontrar muita variedade no que diz respeito aos tipos de acomodações. 97% das ofertas estão dentro das categorias 'Private room' e 'Entire home/apt', se você busca um quarto de hotel ('hotel room') sugiro destreza na procura, uma vez que você só encontrará 45 opções (43 delas se encontram em Dublin City).\n",
        "\n",
        "3.   **Número mínimo de dias para locação**:\n",
        "Nesse quesito a cidade não se distancia do resto do mundo, em 75% dos casos você encontrará restrição mínima de 3 dias.\n",
        "\n",
        "**Algumas outras dicas para encontrar as melhores ofertas**:\n",
        "*   Se você busca por melhores preços, procure pelas ofertas com maior número de avaliações. (encontramos uma correlação negativa entre preço e número de reviews!)\n",
        "*   Quanto menor o número mínimo de dias para pernoite menor o preço.\n",
        "*   Outra curiosidade, quanto mais ofertas o host possui maior o preço. Por tanto, meu amigo, fique de olho em que te oferece uma cama.\n",
        "*   E por último, não se esqueça de levar agasalho impermeável...Dublin é conhecida pela chuva com vento: https://www.youtube.com/watch?v=xqzaGBr8mQU\n",
        "\n",
        "\n",
        "\n",
        "\n",
        "\n",
        "\n",
        "\n",
        "\n",
        "\n",
        "\n",
        "\n",
        "\n"
      ]
    }
  ]
}