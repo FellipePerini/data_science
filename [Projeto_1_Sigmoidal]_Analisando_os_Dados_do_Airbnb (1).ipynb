{
  "nbformat": 4,
  "nbformat_minor": 0,
  "metadata": {
    "colab": {
      "name": "[Projeto 1 - Sigmoidal] Analisando os Dados do Airbnb.ipynb",
      "provenance": [],
      "collapsed_sections": []
    },
    "kernelspec": {
      "name": "python3",
      "display_name": "Python 3"
    }
  },
  "cells": [
    {
      "cell_type": "markdown",
      "metadata": {
        "id": "kLI0gJtzDGuQ"
      },
      "source": [
        "<img alt=\"Colaboratory logo\" width=\"15%\" src=\"https://raw.githubusercontent.com/carlosfab/escola-data-science/master/img/novo_logo_bg_claro.png\">\n",
        "\n",
        "#### **Data Science na Prática 3.0**\n",
        "*by [sigmoidal.ai](https://sigmoidal.ai)*\n",
        "\n",
        "---\n",
        "\n",
        "# Análise dos Dados do Airbnb - *Dublin*\n",
        "\n",
        "O [Airbnb](https://www.airbnb.com.br/) já é considerado como sendo a **maior empresa hoteleira da atualidade**. Ah, o detalhe é que ele **não possui nenhum hotel**!\n",
        "\n",
        "Conectando pessoas que querem viajar (e se hospedar) com anfitriões que querem alugar seus imóveis de maneira prática, o Airbnb fornece uma plataforma inovadora para tornar essa hospedagem alternativa.\n",
        "\n",
        "No final de 2018, a Startup fundada 10 anos atrás, já havia **hospedado mais de 300 milhões** de pessoas ao redor de todo o mundo, desafiando as redes hoteleiras tradicionais.\n",
        "\n",
        "Uma das iniciativas do Airbnb é disponibilizar dados do site, para algumas das principais cidades do mundo. Por meio do portal [Inside Airbnb](http://insideairbnb.com/get-the-data.html), é possível baixar uma grande quantidade de dados para desenvolver projetos e soluções de *Data Science*.\n",
        "\n",
        "<center><img alt=\"Analisando Airbnb\" width=\"10%\" src=\"https://www.area360.com.au/wp-content/uploads/2017/09/airbnb-logo.jpg\"></center>\n",
        "\n",
        "## *Dublin* aos olhos de um maiores portais de intercâmbio - [edublin](https://www.edublin.com.br/)\n",
        "\n",
        "\"A capital irlandesa, além de bonita e amigável, tem lugares muito especiais e, até, curiosos, como o Temple Bar, uma região inteira dedicada aos famosos pubs (bares) no coração turístico da cidade.\n",
        "\n",
        "Entretanto, com mais de 1 milhão de habitantes, Dublin apresenta muitas outras curiosidades, além de recepcionar um número expressivo de estudantes do mundo todo.\n",
        "\n",
        "A rica cultura irlandesa pode ser facilmente notada por meio da riqueza histórica, na arte, na música e nos livros de muitos autores famosos, que levam a cultura irlandesa para todo o mundo.\"\n",
        "\n",
        "Clique no link para ter acesso ao conteúdo completo: https://www.edublin.com.br/9-curiosidades-interessantes-sobre-dublin/\n",
        "\n",
        "**Neste *notebook*, iremos analisar os dados referentes à cidade Dublin, e ver quais insights podem ser extraídos a partir de dados brutos.**\n",
        "\n"
      ]
    },
    {
      "cell_type": "markdown",
      "metadata": {
        "id": "0zxQHhIUDF_2"
      },
      "source": [
        "## Obtenção dos Dados\n"
      ]
    },
    {
      "cell_type": "code",
      "metadata": {
        "id": "Vhp2wMPgJ6zX"
      },
      "source": [
        "# importar os pacotes necessarios\n",
        "import pandas as pd\n",
        "import matplotlib.pyplot as plt\n",
        "import seaborn as sns\n",
        "\n",
        "%matplotlib inline\n"
      ],
      "execution_count": 1,
      "outputs": []
    },
    {
      "cell_type": "code",
      "metadata": {
        "id": "tUmoAT8DLQ5T"
      },
      "source": [
        "# importar o arquivo listings.csv para um DataFrame\n",
        "pd.options.display.float_format = '{:.5f}'.format # suprimindo notação científica\n",
        "df = pd.read_csv(\"http://data.insideairbnb.com/ireland/leinster/dublin/2021-07-07/visualisations/listings.csv\")"
      ],
      "execution_count": 2,
      "outputs": []
    },
    {
      "cell_type": "markdown",
      "metadata": {
        "id": "qb5By2nIMS6m"
      },
      "source": [
        "## Análise dos Dados\n"
      ]
    },
    {
      "cell_type": "markdown",
      "metadata": {
        "id": "RYgvuebKNg8-"
      },
      "source": [
        "**Dicionário das variáveis**\n",
        "\n",
        "* **id:** código único do imóvel/oferta\n",
        "* **name:** descrição do anúncio/imóvel\n",
        "* **host_id:** código único do anunciante\n",
        "* **host_name:** nome do anunciante\n",
        "* **neighbourhood_group:** coluna sem valor\n",
        "* **neighbourhood:** bairro do imóvel/oferta\n",
        "* **latitude:** latitude do imóvel/oferta\n",
        "* **longitude:** longitude do imóvel/oferta\n",
        "* **room_type:** tipo de acomodação\n",
        "* **minimum_nights:** quantidade mínima de noites para reserva\n",
        "* **number_of_reviews:** número de 'reviews' que o imóvel/oferta recebeu\n",
        "* **last_review:** data do último 'review' recebido\n",
        "* **reviews_per_month:** quantidade de reviews por mês\n",
        "* **calculated_host_listings_count:** número de imóveis do anunciante\n",
        "* **availability_365:** disponibilidade do imóvel/oferta\n",
        "\n",
        "Antes de iniciar qualquer análise, vamos verificar a cara do nosso *dataset*, analisando as 5 primeiras entradas."
      ]
    },
    {
      "cell_type": "code",
      "metadata": {
        "id": "2iS_dae7YQtO",
        "colab": {
          "base_uri": "https://localhost:8080/",
          "height": 408
        },
        "outputId": "f13ea594-0391-4849-e99f-1ae4708911e0"
      },
      "source": [
        "# mostrar as 5 primeiras entradas\n",
        "df.head()"
      ],
      "execution_count": 3,
      "outputs": [
        {
          "output_type": "execute_result",
          "data": {
            "text/html": [
              "<div>\n",
              "<style scoped>\n",
              "    .dataframe tbody tr th:only-of-type {\n",
              "        vertical-align: middle;\n",
              "    }\n",
              "\n",
              "    .dataframe tbody tr th {\n",
              "        vertical-align: top;\n",
              "    }\n",
              "\n",
              "    .dataframe thead th {\n",
              "        text-align: right;\n",
              "    }\n",
              "</style>\n",
              "<table border=\"1\" class=\"dataframe\">\n",
              "  <thead>\n",
              "    <tr style=\"text-align: right;\">\n",
              "      <th></th>\n",
              "      <th>id</th>\n",
              "      <th>name</th>\n",
              "      <th>host_id</th>\n",
              "      <th>host_name</th>\n",
              "      <th>neighbourhood_group</th>\n",
              "      <th>neighbourhood</th>\n",
              "      <th>latitude</th>\n",
              "      <th>longitude</th>\n",
              "      <th>room_type</th>\n",
              "      <th>price</th>\n",
              "      <th>minimum_nights</th>\n",
              "      <th>number_of_reviews</th>\n",
              "      <th>last_review</th>\n",
              "      <th>reviews_per_month</th>\n",
              "      <th>calculated_host_listings_count</th>\n",
              "      <th>availability_365</th>\n",
              "    </tr>\n",
              "  </thead>\n",
              "  <tbody>\n",
              "    <tr>\n",
              "      <th>0</th>\n",
              "      <td>44077</td>\n",
              "      <td>cosy comfortable Irish cottage twin</td>\n",
              "      <td>193005</td>\n",
              "      <td>Teresa</td>\n",
              "      <td>nan</td>\n",
              "      <td>Dn Laoghaire-Rathdown</td>\n",
              "      <td>53.29178</td>\n",
              "      <td>-6.25792</td>\n",
              "      <td>Private room</td>\n",
              "      <td>50</td>\n",
              "      <td>3</td>\n",
              "      <td>227</td>\n",
              "      <td>2020-02-08</td>\n",
              "      <td>1.88000</td>\n",
              "      <td>3</td>\n",
              "      <td>217</td>\n",
              "    </tr>\n",
              "    <tr>\n",
              "      <th>1</th>\n",
              "      <td>85148</td>\n",
              "      <td>Habitación en Dublín Double room</td>\n",
              "      <td>466111</td>\n",
              "      <td>Don</td>\n",
              "      <td>nan</td>\n",
              "      <td>South Dublin</td>\n",
              "      <td>53.29885</td>\n",
              "      <td>-6.31850</td>\n",
              "      <td>Private room</td>\n",
              "      <td>30</td>\n",
              "      <td>1</td>\n",
              "      <td>1</td>\n",
              "      <td>2019-05-11</td>\n",
              "      <td>0.04000</td>\n",
              "      <td>1</td>\n",
              "      <td>284</td>\n",
              "    </tr>\n",
              "    <tr>\n",
              "      <th>2</th>\n",
              "      <td>85156</td>\n",
              "      <td>Cosy Comfortable Irish Cottage  1 Double Bed</td>\n",
              "      <td>193005</td>\n",
              "      <td>Teresa</td>\n",
              "      <td>nan</td>\n",
              "      <td>Dn Laoghaire-Rathdown</td>\n",
              "      <td>53.29209</td>\n",
              "      <td>-6.25624</td>\n",
              "      <td>Private room</td>\n",
              "      <td>63</td>\n",
              "      <td>3</td>\n",
              "      <td>182</td>\n",
              "      <td>2020-02-09</td>\n",
              "      <td>2.26000</td>\n",
              "      <td>3</td>\n",
              "      <td>312</td>\n",
              "    </tr>\n",
              "    <tr>\n",
              "      <th>3</th>\n",
              "      <td>159889</td>\n",
              "      <td>Friendly Single Room</td>\n",
              "      <td>766611</td>\n",
              "      <td>Margaret</td>\n",
              "      <td>nan</td>\n",
              "      <td>Dublin City</td>\n",
              "      <td>53.39027</td>\n",
              "      <td>-6.23547</td>\n",
              "      <td>Private room</td>\n",
              "      <td>38</td>\n",
              "      <td>2</td>\n",
              "      <td>311</td>\n",
              "      <td>2019-12-21</td>\n",
              "      <td>3.58000</td>\n",
              "      <td>3</td>\n",
              "      <td>344</td>\n",
              "    </tr>\n",
              "    <tr>\n",
              "      <th>4</th>\n",
              "      <td>162809</td>\n",
              "      <td>5.5 miles south of Dublin City :^)</td>\n",
              "      <td>777681</td>\n",
              "      <td>Robbie</td>\n",
              "      <td>nan</td>\n",
              "      <td>Dn Laoghaire-Rathdown</td>\n",
              "      <td>53.28326</td>\n",
              "      <td>-6.19188</td>\n",
              "      <td>Private room</td>\n",
              "      <td>65</td>\n",
              "      <td>1</td>\n",
              "      <td>284</td>\n",
              "      <td>2020-02-09</td>\n",
              "      <td>3.90000</td>\n",
              "      <td>2</td>\n",
              "      <td>286</td>\n",
              "    </tr>\n",
              "  </tbody>\n",
              "</table>\n",
              "</div>"
            ],
            "text/plain": [
              "       id  ... availability_365\n",
              "0   44077  ...              217\n",
              "1   85148  ...              284\n",
              "2   85156  ...              312\n",
              "3  159889  ...              344\n",
              "4  162809  ...              286\n",
              "\n",
              "[5 rows x 16 columns]"
            ]
          },
          "metadata": {},
          "execution_count": 3
        }
      ]
    },
    {
      "cell_type": "markdown",
      "metadata": {
        "id": "6-B_qtEaYEd-"
      },
      "source": [
        "### **Q1. Quantos atributos (variáveis) e quantas entradas o nosso conjunto de dados possui? Quais os tipos das variáveis?**"
      ]
    },
    {
      "cell_type": "code",
      "metadata": {
        "id": "TFRK0tniLV-G",
        "colab": {
          "base_uri": "https://localhost:8080/"
        },
        "outputId": "840dd1dc-6cbe-40a2-8423-92357d25c546"
      },
      "source": [
        "# identificar o volume de dados do DataFrame\n",
        "df.shape[0]\n"
      ],
      "execution_count": 4,
      "outputs": [
        {
          "output_type": "execute_result",
          "data": {
            "text/plain": [
              "7740"
            ]
          },
          "metadata": {},
          "execution_count": 4
        }
      ]
    },
    {
      "cell_type": "code",
      "metadata": {
        "colab": {
          "base_uri": "https://localhost:8080/"
        },
        "id": "Kl-8RupKvfMc",
        "outputId": "d75e7c57-3e26-4029-a065-4f13edfeae69"
      },
      "source": [
        "# identificar as diferentes variáveis do DataFrame\n",
        "df.dtypes"
      ],
      "execution_count": 5,
      "outputs": [
        {
          "output_type": "execute_result",
          "data": {
            "text/plain": [
              "id                                  int64\n",
              "name                               object\n",
              "host_id                             int64\n",
              "host_name                          object\n",
              "neighbourhood_group               float64\n",
              "neighbourhood                      object\n",
              "latitude                          float64\n",
              "longitude                         float64\n",
              "room_type                          object\n",
              "price                               int64\n",
              "minimum_nights                      int64\n",
              "number_of_reviews                   int64\n",
              "last_review                        object\n",
              "reviews_per_month                 float64\n",
              "calculated_host_listings_count      int64\n",
              "availability_365                    int64\n",
              "dtype: object"
            ]
          },
          "metadata": {},
          "execution_count": 5
        }
      ]
    },
    {
      "cell_type": "markdown",
      "metadata": {
        "id": "yz1urSUGW9iE"
      },
      "source": [
        "### **Q2. Qual a porcentagem de valores ausentes no *dataset*?**"
      ]
    },
    {
      "cell_type": "code",
      "metadata": {
        "id": "plk2FjbCXOqP",
        "colab": {
          "base_uri": "https://localhost:8080/"
        },
        "outputId": "86880af1-34b2-4ed3-b589-342d38832edf"
      },
      "source": [
        "# ordenar em ordem decrescente as variáveis por seus valores ausentes\n",
        "print((df.isnull().sum() / df.shape[0]).sort_values(ascending=False))\n"
      ],
      "execution_count": 6,
      "outputs": [
        {
          "output_type": "stream",
          "text": [
            "neighbourhood_group              1.00000\n",
            "reviews_per_month                0.24509\n",
            "last_review                      0.24509\n",
            "host_name                        0.04289\n",
            "name                             0.00013\n",
            "availability_365                 0.00000\n",
            "calculated_host_listings_count   0.00000\n",
            "number_of_reviews                0.00000\n",
            "minimum_nights                   0.00000\n",
            "price                            0.00000\n",
            "room_type                        0.00000\n",
            "longitude                        0.00000\n",
            "latitude                         0.00000\n",
            "neighbourhood                    0.00000\n",
            "host_id                          0.00000\n",
            "id                               0.00000\n",
            "dtype: float64\n"
          ],
          "name": "stdout"
        }
      ]
    },
    {
      "cell_type": "markdown",
      "metadata": {
        "id": "gnEjo8bWZyv9"
      },
      "source": [
        "Uma vez que a variável neighbourhood_group possui 100% dos valores ausentes, podemos excluí-la."
      ]
    },
    {
      "cell_type": "code",
      "metadata": {
        "id": "zVsYQP0uOOGZ"
      },
      "source": [
        "df = df.drop(columns=['neighbourhood_group'])\n"
      ],
      "execution_count": 7,
      "outputs": []
    },
    {
      "cell_type": "markdown",
      "metadata": {
        "id": "iHXvvHIxaoNc"
      },
      "source": [
        "### **Q3. Qual o tipo de distribuição das variáveis?** "
      ]
    },
    {
      "cell_type": "markdown",
      "metadata": {
        "id": "ForWYMJAaTUZ"
      },
      "source": [
        "\n",
        "\n",
        "*   Lembrando que devemos desconsiderar anomalias nas distribuições das variáveis 'id', 'host_id', 'latitude' e 'longitude'.\n",
        "*   'price', 'minimum_nights' e 'calculated_host_listings_count' apontam anomalias causadas possívelmente por *outliers*\n",
        "\n",
        "\n",
        "\n",
        "\n"
      ]
    },
    {
      "cell_type": "code",
      "metadata": {
        "id": "q2wWSfeRbmBo",
        "colab": {
          "base_uri": "https://localhost:8080/",
          "height": 607
        },
        "outputId": "ffebbbd0-23de-4c2d-e804-c0eb3862cc85"
      },
      "source": [
        "# plotar o histograma das variáveis numéricas\n",
        "df.hist(figsize=(15,10));"
      ],
      "execution_count": 8,
      "outputs": [
        {
          "output_type": "display_data",
          "data": {
            "image/png": "[encoded data removed]",
            "text/plain": [
              "<Figure size 1080x720 with 12 Axes>"
            ]
          },
          "metadata": {
            "needs_background": "light"
          }
        }
      ]
    },
    {
      "cell_type": "markdown",
      "metadata": {
        "id": "7x4aw1j5wNmn"
      },
      "source": [
        "### **Q4. Qual a média dos preços de aluguel?**"
      ]
    },
    {
      "cell_type": "code",
      "metadata": {
        "id": "ff-8gUahLk-C",
        "colab": {
          "base_uri": "https://localhost:8080/"
        },
        "outputId": "4f0f1021-90b5-412c-8437-3541ecb5275b"
      },
      "source": [
        "# ver a média da coluna `price`\n",
        "df['price'].describe()"
      ],
      "execution_count": 9,
      "outputs": [
        {
          "output_type": "execute_result",
          "data": {
            "text/plain": [
              "count      7740.00000\n",
              "mean        270.20401\n",
              "std       13341.30176\n",
              "min           0.00000\n",
              "25%          51.00000\n",
              "50%          80.00000\n",
              "75%         133.00000\n",
              "max     1173721.00000\n",
              "Name: price, dtype: float64"
            ]
          },
          "metadata": {},
          "execution_count": 9
        }
      ]
    },
    {
      "cell_type": "code",
      "metadata": {
        "colab": {
          "base_uri": "https://localhost:8080/",
          "height": 297
        },
        "id": "0tE1s35bchKA",
        "outputId": "f4e63a32-741b-42d9-9101-af4fd57f119d"
      },
      "source": [
        "# média das colunas qualitativas\n",
        "df[['price','minimum_nights','number_of_reviews','last_review','reviews_per_month','calculated_host_listings_count','availability_365']].describe()"
      ],
      "execution_count": 10,
      "outputs": [
        {
          "output_type": "execute_result",
          "data": {
            "text/html": [
              "<div>\n",
              "<style scoped>\n",
              "    .dataframe tbody tr th:only-of-type {\n",
              "        vertical-align: middle;\n",
              "    }\n",
              "\n",
              "    .dataframe tbody tr th {\n",
              "        vertical-align: top;\n",
              "    }\n",
              "\n",
              "    .dataframe thead th {\n",
              "        text-align: right;\n",
              "    }\n",
              "</style>\n",
              "<table border=\"1\" class=\"dataframe\">\n",
              "  <thead>\n",
              "    <tr style=\"text-align: right;\">\n",
              "      <th></th>\n",
              "      <th>price</th>\n",
              "      <th>minimum_nights</th>\n",
              "      <th>number_of_reviews</th>\n",
              "      <th>reviews_per_month</th>\n",
              "      <th>calculated_host_listings_count</th>\n",
              "      <th>availability_365</th>\n",
              "    </tr>\n",
              "  </thead>\n",
              "  <tbody>\n",
              "    <tr>\n",
              "      <th>count</th>\n",
              "      <td>7740.00000</td>\n",
              "      <td>7740.00000</td>\n",
              "      <td>7740.00000</td>\n",
              "      <td>5843.00000</td>\n",
              "      <td>7740.00000</td>\n",
              "      <td>7740.00000</td>\n",
              "    </tr>\n",
              "    <tr>\n",
              "      <th>mean</th>\n",
              "      <td>270.20401</td>\n",
              "      <td>9.17791</td>\n",
              "      <td>28.88876</td>\n",
              "      <td>0.97169</td>\n",
              "      <td>16.37571</td>\n",
              "      <td>84.81176</td>\n",
              "    </tr>\n",
              "    <tr>\n",
              "      <th>std</th>\n",
              "      <td>13341.30176</td>\n",
              "      <td>43.49307</td>\n",
              "      <td>57.53551</td>\n",
              "      <td>1.75726</td>\n",
              "      <td>61.89064</td>\n",
              "      <td>128.05097</td>\n",
              "    </tr>\n",
              "    <tr>\n",
              "      <th>min</th>\n",
              "      <td>0.00000</td>\n",
              "      <td>1.00000</td>\n",
              "      <td>0.00000</td>\n",
              "      <td>0.01000</td>\n",
              "      <td>1.00000</td>\n",
              "      <td>0.00000</td>\n",
              "    </tr>\n",
              "    <tr>\n",
              "      <th>25%</th>\n",
              "      <td>51.00000</td>\n",
              "      <td>1.00000</td>\n",
              "      <td>1.00000</td>\n",
              "      <td>0.11000</td>\n",
              "      <td>1.00000</td>\n",
              "      <td>0.00000</td>\n",
              "    </tr>\n",
              "    <tr>\n",
              "      <th>50%</th>\n",
              "      <td>80.00000</td>\n",
              "      <td>2.00000</td>\n",
              "      <td>5.00000</td>\n",
              "      <td>0.41000</td>\n",
              "      <td>1.00000</td>\n",
              "      <td>0.00000</td>\n",
              "    </tr>\n",
              "    <tr>\n",
              "      <th>75%</th>\n",
              "      <td>133.00000</td>\n",
              "      <td>3.00000</td>\n",
              "      <td>27.00000</td>\n",
              "      <td>1.26000</td>\n",
              "      <td>3.00000</td>\n",
              "      <td>143.00000</td>\n",
              "    </tr>\n",
              "    <tr>\n",
              "      <th>max</th>\n",
              "      <td>1173721.00000</td>\n",
              "      <td>1125.00000</td>\n",
              "      <td>605.00000</td>\n",
              "      <td>82.00000</td>\n",
              "      <td>315.00000</td>\n",
              "      <td>365.00000</td>\n",
              "    </tr>\n",
              "  </tbody>\n",
              "</table>\n",
              "</div>"
            ],
            "text/plain": [
              "              price  ...  availability_365\n",
              "count    7740.00000  ...        7740.00000\n",
              "mean      270.20401  ...          84.81176\n",
              "std     13341.30176  ...         128.05097\n",
              "min         0.00000  ...           0.00000\n",
              "25%        51.00000  ...           0.00000\n",
              "50%        80.00000  ...           0.00000\n",
              "75%       133.00000  ...         143.00000\n",
              "max   1173721.00000  ...         365.00000\n",
              "\n",
              "[8 rows x 6 columns]"
            ]
          },
          "metadata": {},
          "execution_count": 10
        }
      ]
    },
    {
      "cell_type": "markdown",
      "metadata": {
        "id": "oDkKOALvO5xL"
      },
      "source": [
        "## **Q4. Existem outliers influenciando a distribuição das variáveis?**\n",
        "Índicios de *outliers*:\n",
        "1.   Alto desvio padrão (levando em conta a grandeza da métrica).\n",
        "2.   Grande diferença entre média e mediana.\n",
        "3.   Valor máximo muito acima da mediana e terceiro percentil (75%).\n"
      ]
    },
    {
      "cell_type": "code",
      "metadata": {
        "colab": {
          "base_uri": "https://localhost:8080/",
          "height": 327
        },
        "id": "-GEqQrG2iV6h",
        "outputId": "ca643cca-d1c8-4e9c-b714-25d271fc4713"
      },
      "source": [
        "df['price'].plot(kind=\"box\");\n",
        "\n",
        "# ver quantidade de valores acima de 500 para price\n",
        "print(\"price: valores acima de 500:\")\n",
        "print(\"{} entradas\".format(len(df[df.price > 500])))\n",
        "print(\"{:.4f}%\".format((len(df[df.price > 500]) / df.shape[0])*100))"
      ],
      "execution_count": 11,
      "outputs": [
        {
          "output_type": "stream",
          "text": [
            "price: valores acima de 500:\n",
            "107 entradas\n",
            "1.3824%\n"
          ],
          "name": "stdout"
        },
        {
          "output_type": "display_data",
          "data": {
            "image/png": "[encoded data removed]",
            "text/plain": [
              "<Figure size 432x288 with 1 Axes>"
            ]
          },
          "metadata": {
            "needs_background": "light"
          }
        }
      ]
    },
    {
      "cell_type": "code",
      "metadata": {
        "colab": {
          "base_uri": "https://localhost:8080/",
          "height": 317
        },
        "id": "tnbm2p-3ivHK",
        "outputId": "ce77b810-3430-43fb-821a-ef18c8e22985"
      },
      "source": [
        "df['minimum_nights'].plot(kind=\"box\");\n",
        "\n",
        "# ver quantidade de valores acima de 7 para minimum_nights\n",
        "print(\"minimum_nights: valores acima de 7:\")\n",
        "print(\"{} entradas\".format(len(df[df.minimum_nights > 7])))\n",
        "print(\"{:.4f}%\".format((len(df[df.minimum_nights > 7]) / df.shape[0])*100))"
      ],
      "execution_count": 12,
      "outputs": [
        {
          "output_type": "stream",
          "text": [
            "minimum_nights: valores acima de 7:\n",
            "911 entradas\n",
            "11.7700%\n"
          ],
          "name": "stdout"
        },
        {
          "output_type": "display_data",
          "data": {
            "image/png": "[encoded data removed]",
            "text/plain": [
              "<Figure size 432x288 with 1 Axes>"
            ]
          },
          "metadata": {
            "needs_background": "light"
          }
        }
      ]
    },
    {
      "cell_type": "code",
      "metadata": {
        "colab": {
          "base_uri": "https://localhost:8080/",
          "height": 317
        },
        "id": "4rMRzCrIiwaK",
        "outputId": "e579999e-ca36-43a8-a3d8-f6acf01c6745"
      },
      "source": [
        "df['calculated_host_listings_count'].plot(kind=\"box\");\n",
        "\n",
        "# ver quantidade de valores acima de 10 para calculated_host_listings_count\n",
        "print(\"minimum_nights: valores acima de 10:\")\n",
        "print(\"{} entradas\".format(len(df[df.calculated_host_listings_count > 10])))\n",
        "print(\"{:.4f}%\".format((len(df[df.calculated_host_listings_count > 10]) / df.shape[0])*100))"
      ],
      "execution_count": 13,
      "outputs": [
        {
          "output_type": "stream",
          "text": [
            "minimum_nights: valores acima de 10:\n",
            "919 entradas\n",
            "11.8734%\n"
          ],
          "name": "stdout"
        },
        {
          "output_type": "display_data",
          "data": {
            "image/png": "[encoded data removed]",
            "text/plain": [
              "<Figure size 432x288 with 1 Axes>"
            ]
          },
          "metadata": {
            "needs_background": "light"
          }
        }
      ]
    },
    {
      "cell_type": "markdown",
      "metadata": {
        "id": "WvfzX-qUblTG"
      },
      "source": [
        "## **Definição dos limites para limpeza de outliers:**\n",
        "\n",
        "Utilizaremos o cálculo IQR score para definir os limites superiores das variáveis 'price', 'minimum_nights' e 'calculated_host_listings_count'. Com esses valores limparemos os outliers.\n",
        "\n",
        "Tratamento:\n",
        "*   **price**: valores acima de 256 euros e valores zerados.\n",
        "*   **minimum_nights**: valores acima de 6 noites.\n",
        "*   **calculated_host_listings**: valores acima de 6 imóveis por anunciante.\n",
        "\n",
        "\n",
        "\n"
      ]
    },
    {
      "cell_type": "code",
      "metadata": {
        "colab": {
          "base_uri": "https://localhost:8080/"
        },
        "id": "7h69N0DFAMIx",
        "outputId": "321b12ad-91cd-4dd8-8a26-be98ce560082"
      },
      "source": [
        "# IQR score - variável price\n",
        "q1_price = df['price'].quantile(.25)\n",
        "q3_price = df['price'].quantile(.75)\n",
        "IQR_price = q3_price - q1_price\n",
        "print('IQR da variável price: ', IQR_price)\n",
        "\n",
        "# definindo os limites                                       \n",
        "sup_price = q3_price + 1.5 * IQR_price\n",
        "inf_price = q1_price - 1.5 * IQR_price\n",
        "\n",
        "print('Limite superior de price: ', sup_price)\n",
        "print('Limite inferior de price: ', inf_price)"
      ],
      "execution_count": 22,
      "outputs": [
        {
          "output_type": "stream",
          "text": [
            "IQR da variável price:  82.0\n",
            "Limite superior de price:  256.0\n",
            "Limite inferior de price:  -72.0\n"
          ],
          "name": "stdout"
        }
      ]
    },
    {
      "cell_type": "code",
      "metadata": {
        "colab": {
          "base_uri": "https://localhost:8080/"
        },
        "id": "fzIbav96Bmin",
        "outputId": "533983f2-ee2a-4d80-8e9b-1a3bf893eb6d"
      },
      "source": [
        "# IQR score - variável minimum_nights\n",
        "q1_minimum_nights = df['minimum_nights'].quantile(.25)\n",
        "q3_minimum_nights = df['minimum_nights'].quantile(.75)\n",
        "IQR_minimum_nights = q3_minimum_nights - q1_minimum_nights\n",
        "print('IQR da variável minimum_nights: ', IQR_minimum_nights)\n",
        "\n",
        "# definindo os limites                                       \n",
        "sup_minimum_nights = q3_minimum_nights + 1.5 * IQR_minimum_nights\n",
        "inf_minimum_nights = q1_minimum_nights - 1.5 * IQR_minimum_nights\n",
        "\n",
        "print('Limite superior de minimum_nights: ', sup_minimum_nights)\n",
        "print('Limite inferior de minimum_nights: ', inf_minimum_nights)"
      ],
      "execution_count": 23,
      "outputs": [
        {
          "output_type": "stream",
          "text": [
            "IQR da variável minimum_nights:  2.0\n",
            "Limite superior de minimum_nights:  6.0\n",
            "Limite inferior de minimum_nights:  -2.0\n"
          ],
          "name": "stdout"
        }
      ]
    },
    {
      "cell_type": "code",
      "metadata": {
        "colab": {
          "base_uri": "https://localhost:8080/"
        },
        "id": "b7gg1vhLBwpn",
        "outputId": "e973df6f-bc6a-4864-cdf9-bc1275717dca"
      },
      "source": [
        "# IQR score - variável calculated_host_listings\n",
        "q1_calculated_host = df['calculated_host_listings_count'].quantile(.25)\n",
        "q3_calculated_host = df['calculated_host_listings_count'].quantile(.75)\n",
        "IQR_calculated_host = q3_calculated_host - q1_calculated_host\n",
        "print('IQR da variável calculated_host: ', IQR_calculated_host)\n",
        "\n",
        "# definindo os limites                                       \n",
        "sup_calculated_host = q3_calculated_host + 1.5 * IQR_calculated_host\n",
        "inf_calculated_host = q1_calculated_host - 1.5 * IQR_calculated_host\n",
        "\n",
        "print('Limite superior de calculated_host: ', sup_calculated_host)\n",
        "print('Limite inferior de calculated_host: ', inf_calculated_host)"
      ],
      "execution_count": 24,
      "outputs": [
        {
          "output_type": "stream",
          "text": [
            "IQR da variável calculated_host:  2.0\n",
            "Limite superior de calculated_host:  6.0\n",
            "Limite inferior de calculated_host:  -2.0\n"
          ],
          "name": "stdout"
        }
      ]
    },
    {
      "cell_type": "code",
      "metadata": {
        "colab": {
          "base_uri": "https://localhost:8080/",
          "height": 607
        },
        "id": "XGiZmLh5URBk",
        "outputId": "e205b702-e860-4e6e-8f7e-a88654b1130a"
      },
      "source": [
        "# remover os *outliers* em um novo DataFrame\n",
        "df_clean = df.copy()\n",
        "df_clean.drop(df_clean[df_clean.price > 256].index, axis=0, inplace=True)\n",
        "df_clean.drop(df_clean[df_clean.price == 0].index, axis=0, inplace=True)\n",
        "df_clean.drop(df_clean[df_clean.minimum_nights > 6].index, axis=0, inplace=True)\n",
        "df_clean.drop(df_clean[df_clean.calculated_host_listings_count > 6].index, axis=0, inplace=True)\n",
        "\n",
        "# plotar o histograma para as variáveis numéricas\n",
        "df_clean.hist(bins=15, figsize=(15,10));"
      ],
      "execution_count": 25,
      "outputs": [
        {
          "output_type": "display_data",
          "data": {
            "image/png": "[encoded data removed]",
            "text/plain": [
              "<Figure size 1080x720 with 12 Axes>"
            ]
          },
          "metadata": {
            "needs_background": "light"
          }
        }
      ]
    },
    {
      "cell_type": "markdown",
      "metadata": {
        "id": "oxiIqxwdclia"
      },
      "source": [
        "Com a limpeza do DataFrame reduzimos o tamanho em aproximadamente 22% com uma dimensionalidade de 5334 linhas."
      ]
    },
    {
      "cell_type": "code",
      "metadata": {
        "colab": {
          "base_uri": "https://localhost:8080/"
        },
        "id": "UetUf8E7UlMV",
        "outputId": "b9ba60ee-75e9-4cf7-e960-79b68e26ddbb"
      },
      "source": [
        "print(df_clean.shape[0] / df.shape[0])\n",
        "print(df_clean.shape[0])"
      ],
      "execution_count": 26,
      "outputs": [
        {
          "output_type": "stream",
          "text": [
            "0.6891472868217055\n",
            "5334\n"
          ],
          "name": "stdout"
        }
      ]
    },
    {
      "cell_type": "code",
      "metadata": {
        "colab": {
          "base_uri": "https://localhost:8080/",
          "height": 297
        },
        "id": "OffNR3tzgx5k",
        "outputId": "69702972-4407-47a3-9f0f-275923215815"
      },
      "source": [
        "# média das colunas qualitativas\n",
        "df_clean[['price','minimum_nights','number_of_reviews','last_review','reviews_per_month','calculated_host_listings_count','availability_365']].describe()"
      ],
      "execution_count": 27,
      "outputs": [
        {
          "output_type": "execute_result",
          "data": {
            "text/html": [
              "<div>\n",
              "<style scoped>\n",
              "    .dataframe tbody tr th:only-of-type {\n",
              "        vertical-align: middle;\n",
              "    }\n",
              "\n",
              "    .dataframe tbody tr th {\n",
              "        vertical-align: top;\n",
              "    }\n",
              "\n",
              "    .dataframe thead th {\n",
              "        text-align: right;\n",
              "    }\n",
              "</style>\n",
              "<table border=\"1\" class=\"dataframe\">\n",
              "  <thead>\n",
              "    <tr style=\"text-align: right;\">\n",
              "      <th></th>\n",
              "      <th>price</th>\n",
              "      <th>minimum_nights</th>\n",
              "      <th>number_of_reviews</th>\n",
              "      <th>reviews_per_month</th>\n",
              "      <th>calculated_host_listings_count</th>\n",
              "      <th>availability_365</th>\n",
              "    </tr>\n",
              "  </thead>\n",
              "  <tbody>\n",
              "    <tr>\n",
              "      <th>count</th>\n",
              "      <td>5334.00000</td>\n",
              "      <td>5334.00000</td>\n",
              "      <td>5334.00000</td>\n",
              "      <td>4381.00000</td>\n",
              "      <td>5334.00000</td>\n",
              "      <td>5334.00000</td>\n",
              "    </tr>\n",
              "    <tr>\n",
              "      <th>mean</th>\n",
              "      <td>90.57105</td>\n",
              "      <td>2.04743</td>\n",
              "      <td>31.62073</td>\n",
              "      <td>0.96067</td>\n",
              "      <td>1.61380</td>\n",
              "      <td>59.50656</td>\n",
              "    </tr>\n",
              "    <tr>\n",
              "      <th>std</th>\n",
              "      <td>52.85746</td>\n",
              "      <td>1.14625</td>\n",
              "      <td>60.97093</td>\n",
              "      <td>1.84403</td>\n",
              "      <td>1.12840</td>\n",
              "      <td>108.86047</td>\n",
              "    </tr>\n",
              "    <tr>\n",
              "      <th>min</th>\n",
              "      <td>10.00000</td>\n",
              "      <td>1.00000</td>\n",
              "      <td>0.00000</td>\n",
              "      <td>0.01000</td>\n",
              "      <td>1.00000</td>\n",
              "      <td>0.00000</td>\n",
              "    </tr>\n",
              "    <tr>\n",
              "      <th>25%</th>\n",
              "      <td>50.00000</td>\n",
              "      <td>1.00000</td>\n",
              "      <td>1.00000</td>\n",
              "      <td>0.10000</td>\n",
              "      <td>1.00000</td>\n",
              "      <td>0.00000</td>\n",
              "    </tr>\n",
              "    <tr>\n",
              "      <th>50%</th>\n",
              "      <td>75.00000</td>\n",
              "      <td>2.00000</td>\n",
              "      <td>6.00000</td>\n",
              "      <td>0.37000</td>\n",
              "      <td>1.00000</td>\n",
              "      <td>0.00000</td>\n",
              "    </tr>\n",
              "    <tr>\n",
              "      <th>75%</th>\n",
              "      <td>120.00000</td>\n",
              "      <td>3.00000</td>\n",
              "      <td>31.00000</td>\n",
              "      <td>1.21000</td>\n",
              "      <td>2.00000</td>\n",
              "      <td>83.00000</td>\n",
              "    </tr>\n",
              "    <tr>\n",
              "      <th>max</th>\n",
              "      <td>256.00000</td>\n",
              "      <td>6.00000</td>\n",
              "      <td>605.00000</td>\n",
              "      <td>82.00000</td>\n",
              "      <td>6.00000</td>\n",
              "      <td>365.00000</td>\n",
              "    </tr>\n",
              "  </tbody>\n",
              "</table>\n",
              "</div>"
            ],
            "text/plain": [
              "           price  ...  availability_365\n",
              "count 5334.00000  ...        5334.00000\n",
              "mean    90.57105  ...          59.50656\n",
              "std     52.85746  ...         108.86047\n",
              "min     10.00000  ...           0.00000\n",
              "25%     50.00000  ...           0.00000\n",
              "50%     75.00000  ...           0.00000\n",
              "75%    120.00000  ...          83.00000\n",
              "max    256.00000  ...         365.00000\n",
              "\n",
              "[8 rows x 6 columns]"
            ]
          },
          "metadata": {},
          "execution_count": 27
        }
      ]
    },
    {
      "cell_type": "markdown",
      "metadata": {
        "id": "IXn2oIo5qx-w"
      },
      "source": [
        "### **Q4. Qual a correlação existente entre as variáveis**"
      ]
    },
    {
      "cell_type": "code",
      "metadata": {
        "id": "x2ayzBajqxyd",
        "colab": {
          "base_uri": "https://localhost:8080/",
          "height": 235
        },
        "outputId": "c21a4f0b-0a67-4285-d702-5c4fcd06f7a2"
      },
      "source": [
        "# criar uma matriz de correlação\n",
        "matrix = df_clean[['price', 'minimum_nights', 'number_of_reviews', 'reviews_per_month',\n",
        "    'calculated_host_listings_count', 'availability_365',]].corr()\n",
        "\n",
        "# mostrar a matriz de correlação\n",
        "matrix"
      ],
      "execution_count": 28,
      "outputs": [
        {
          "output_type": "execute_result",
          "data": {
            "text/html": [
              "<div>\n",
              "<style scoped>\n",
              "    .dataframe tbody tr th:only-of-type {\n",
              "        vertical-align: middle;\n",
              "    }\n",
              "\n",
              "    .dataframe tbody tr th {\n",
              "        vertical-align: top;\n",
              "    }\n",
              "\n",
              "    .dataframe thead th {\n",
              "        text-align: right;\n",
              "    }\n",
              "</style>\n",
              "<table border=\"1\" class=\"dataframe\">\n",
              "  <thead>\n",
              "    <tr style=\"text-align: right;\">\n",
              "      <th></th>\n",
              "      <th>price</th>\n",
              "      <th>minimum_nights</th>\n",
              "      <th>number_of_reviews</th>\n",
              "      <th>reviews_per_month</th>\n",
              "      <th>calculated_host_listings_count</th>\n",
              "      <th>availability_365</th>\n",
              "    </tr>\n",
              "  </thead>\n",
              "  <tbody>\n",
              "    <tr>\n",
              "      <th>price</th>\n",
              "      <td>1.00000</td>\n",
              "      <td>0.23109</td>\n",
              "      <td>-0.03610</td>\n",
              "      <td>-0.03146</td>\n",
              "      <td>0.00207</td>\n",
              "      <td>0.02780</td>\n",
              "    </tr>\n",
              "    <tr>\n",
              "      <th>minimum_nights</th>\n",
              "      <td>0.23109</td>\n",
              "      <td>1.00000</td>\n",
              "      <td>-0.08936</td>\n",
              "      <td>-0.11528</td>\n",
              "      <td>-0.09326</td>\n",
              "      <td>-0.09864</td>\n",
              "    </tr>\n",
              "    <tr>\n",
              "      <th>number_of_reviews</th>\n",
              "      <td>-0.03610</td>\n",
              "      <td>-0.08936</td>\n",
              "      <td>1.00000</td>\n",
              "      <td>0.62163</td>\n",
              "      <td>0.14739</td>\n",
              "      <td>0.15954</td>\n",
              "    </tr>\n",
              "    <tr>\n",
              "      <th>reviews_per_month</th>\n",
              "      <td>-0.03146</td>\n",
              "      <td>-0.11528</td>\n",
              "      <td>0.62163</td>\n",
              "      <td>1.00000</td>\n",
              "      <td>0.18856</td>\n",
              "      <td>0.16800</td>\n",
              "    </tr>\n",
              "    <tr>\n",
              "      <th>calculated_host_listings_count</th>\n",
              "      <td>0.00207</td>\n",
              "      <td>-0.09326</td>\n",
              "      <td>0.14739</td>\n",
              "      <td>0.18856</td>\n",
              "      <td>1.00000</td>\n",
              "      <td>0.22913</td>\n",
              "    </tr>\n",
              "    <tr>\n",
              "      <th>availability_365</th>\n",
              "      <td>0.02780</td>\n",
              "      <td>-0.09864</td>\n",
              "      <td>0.15954</td>\n",
              "      <td>0.16800</td>\n",
              "      <td>0.22913</td>\n",
              "      <td>1.00000</td>\n",
              "    </tr>\n",
              "  </tbody>\n",
              "</table>\n",
              "</div>"
            ],
            "text/plain": [
              "                                  price  ...  availability_365\n",
              "price                           1.00000  ...           0.02780\n",
              "minimum_nights                  0.23109  ...          -0.09864\n",
              "number_of_reviews              -0.03610  ...           0.15954\n",
              "reviews_per_month              -0.03146  ...           0.16800\n",
              "calculated_host_listings_count  0.00207  ...           0.22913\n",
              "availability_365                0.02780  ...           1.00000\n",
              "\n",
              "[6 rows x 6 columns]"
            ]
          },
          "metadata": {},
          "execution_count": 28
        }
      ]
    },
    {
      "cell_type": "code",
      "metadata": {
        "id": "91UujDr6ueqE",
        "colab": {
          "base_uri": "https://localhost:8080/",
          "height": 411
        },
        "outputId": "9e85c774-d162-457b-8482-7ad13df5ef24"
      },
      "source": [
        "# plotar um heatmap a partir das correlações\n",
        "sns.heatmap(matrix, square=True, annot=True, linewidths=.9);"
      ],
      "execution_count": 29,
      "outputs": [
        {
          "output_type": "display_data",
          "data": {
            "image/png": "[encoded data removed]",
            "text/plain": [
              "<Figure size 432x288 with 2 Axes>"
            ]
          },
          "metadata": {
            "needs_background": "light"
          }
        }
      ]
    },
    {
      "cell_type": "markdown",
      "metadata": {
        "id": "7b6RMWpuHKN-"
      },
      "source": [
        "### **Q5. Qual o tipo de imóvel mais alugado no Airbnb?**"
      ]
    },
    {
      "cell_type": "code",
      "metadata": {
        "id": "ueLPNWvPHgfB",
        "colab": {
          "base_uri": "https://localhost:8080/"
        },
        "outputId": "f59cfc21-b72f-4cda-e9ef-b2d29fb7f790"
      },
      "source": [
        "# mostrar a quantidade de cada tipo de imóvel disponível\n",
        "df_clean['room_type'].value_counts()"
      ],
      "execution_count": 30,
      "outputs": [
        {
          "output_type": "execute_result",
          "data": {
            "text/plain": [
              "Private room       3069\n",
              "Entire home/apt    2143\n",
              "Shared room          91\n",
              "Hotel room           31\n",
              "Name: room_type, dtype: int64"
            ]
          },
          "metadata": {},
          "execution_count": 30
        }
      ]
    },
    {
      "cell_type": "code",
      "metadata": {
        "id": "EvwoO-XAHhIm",
        "colab": {
          "base_uri": "https://localhost:8080/"
        },
        "outputId": "16efba9f-ffbd-4f4e-a6d0-6f988744c72f"
      },
      "source": [
        "# mostrar a porcentagem de cada tipo de imóvel disponível\n",
        "df_clean['room_type'].value_counts() / df_clean.shape[0]"
      ],
      "execution_count": 31,
      "outputs": [
        {
          "output_type": "execute_result",
          "data": {
            "text/plain": [
              "Private room      0.57537\n",
              "Entire home/apt   0.40176\n",
              "Shared room       0.01706\n",
              "Hotel room        0.00581\n",
              "Name: room_type, dtype: float64"
            ]
          },
          "metadata": {},
          "execution_count": 31
        }
      ]
    },
    {
      "cell_type": "markdown",
      "metadata": {
        "id": "MFa5NbnLJMcd"
      },
      "source": [
        "### **Q6. Qual a localidade mais cara do dataset?**\n",
        "\n"
      ]
    },
    {
      "cell_type": "code",
      "metadata": {
        "id": "MD_xa143JZpi",
        "colab": {
          "base_uri": "https://localhost:8080/"
        },
        "outputId": "02d551e6-39c8-47ae-ad62-04869f530f75"
      },
      "source": [
        "# ver preços por bairros, na média\n",
        "print(df_clean.price.mean())\n",
        "print(df_clean.groupby(['neighbourhood']).price.mean())"
      ],
      "execution_count": 37,
      "outputs": [
        {
          "output_type": "stream",
          "text": [
            "90.57105361829771\n",
            "neighbourhood\n",
            "Dn Laoghaire-Rathdown   90.91737\n",
            "Dublin City             94.22060\n",
            "Fingal                  75.60694\n",
            "South Dublin            62.95618\n",
            "Name: price, dtype: float64\n"
          ],
          "name": "stdout"
        }
      ]
    },
    {
      "cell_type": "code",
      "metadata": {
        "colab": {
          "base_uri": "https://localhost:8080/"
        },
        "id": "DSfpGazzlrme",
        "outputId": "5db91a34-0dc8-4936-b483-6c9ba6103519"
      },
      "source": [
        "# ver preços por bairros e tipo de locação, na média\n",
        "df_clean.groupby(['neighbourhood','room_type']).price.mean()"
      ],
      "execution_count": 33,
      "outputs": [
        {
          "output_type": "execute_result",
          "data": {
            "text/plain": [
              "neighbourhood          room_type      \n",
              "Dn Laoghaire-Rathdown  Entire home/apt   129.70543\n",
              "                       Private room       61.09146\n",
              "                       Shared room        58.85714\n",
              "Dublin City            Entire home/apt   128.72933\n",
              "                       Hotel room        127.24138\n",
              "                       Private room       69.03843\n",
              "                       Shared room        41.97333\n",
              "Fingal                 Entire home/apt   118.06536\n",
              "                       Hotel room        110.00000\n",
              "                       Private room       57.53333\n",
              "                       Shared room        61.00000\n",
              "South Dublin           Entire home/apt   115.58824\n",
              "                       Private room       48.81026\n",
              "                       Shared room        77.80000\n",
              "Name: price, dtype: float64"
            ]
          },
          "metadata": {},
          "execution_count": 33
        }
      ]
    },
    {
      "cell_type": "code",
      "metadata": {
        "colab": {
          "base_uri": "https://localhost:8080/"
        },
        "id": "DCMa-5WNl18l",
        "outputId": "0bbb835c-33a0-4a7c-8286-91c15f00af2f"
      },
      "source": [
        "# ver quantidade de ofertas por bairros e tipo de locação, na média\n",
        "df_clean.groupby(['neighbourhood','room_type']).price.count()"
      ],
      "execution_count": 34,
      "outputs": [
        {
          "output_type": "execute_result",
          "data": {
            "text/plain": [
              "neighbourhood          room_type      \n",
              "Dn Laoghaire-Rathdown  Entire home/apt     258\n",
              "                       Private room        328\n",
              "                       Shared room           7\n",
              "Dublin City            Entire home/apt    1681\n",
              "                       Hotel room           29\n",
              "                       Private room       2186\n",
              "                       Shared room          75\n",
              "Fingal                 Entire home/apt     153\n",
              "                       Hotel room            2\n",
              "                       Private room        360\n",
              "                       Shared room           4\n",
              "South Dublin           Entire home/apt      51\n",
              "                       Private room        195\n",
              "                       Shared room           5\n",
              "Name: price, dtype: int64"
            ]
          },
          "metadata": {},
          "execution_count": 34
        }
      ]
    },
    {
      "cell_type": "code",
      "metadata": {
        "id": "UxVJqJ_3W59I",
        "colab": {
          "base_uri": "https://localhost:8080/",
          "height": 296
        },
        "outputId": "03c75aff-2981-477d-f17a-372823845cc7"
      },
      "source": [
        "# plotar os imóveis pela latitude-longitude\n",
        "df_clean.plot.scatter(x='longitude',y='latitude'),"
      ],
      "execution_count": 35,
      "outputs": [
        {
          "output_type": "execute_result",
          "data": {
            "text/plain": [
              "(<matplotlib.axes._subplots.AxesSubplot at 0x7f120d037210>,)"
            ]
          },
          "metadata": {},
          "execution_count": 35
        },
        {
          "output_type": "display_data",
          "data": {
            "image/png": "[encoded data removed]",
            "text/plain": [
              "<Figure size 432x288 with 1 Axes>"
            ]
          },
          "metadata": {
            "needs_background": "light"
          }
        }
      ]
    },
    {
      "cell_type": "markdown",
      "metadata": {
        "id": "vTneAMRUYvr1"
      },
      "source": [
        "### **Q7. Qual é a média do mínimo de noites para aluguel (minimum_nights)?**"
      ]
    },
    {
      "cell_type": "code",
      "metadata": {
        "id": "_VzNhrEgY82N",
        "colab": {
          "base_uri": "https://localhost:8080/"
        },
        "outputId": "905b4bf1-c20a-46a6-be10-5aa3b86090d0"
      },
      "source": [
        "# ver a média da coluna `minimum_nights``\n",
        "df_clean['minimum_nights'].describe()"
      ],
      "execution_count": 36,
      "outputs": [
        {
          "output_type": "execute_result",
          "data": {
            "text/plain": [
              "count   5334.00000\n",
              "mean       2.04743\n",
              "std        1.14625\n",
              "min        1.00000\n",
              "25%        1.00000\n",
              "50%        2.00000\n",
              "75%        3.00000\n",
              "max        6.00000\n",
              "Name: minimum_nights, dtype: float64"
            ]
          },
          "metadata": {},
          "execution_count": 36
        }
      ]
    },
    {
      "cell_type": "markdown",
      "metadata": {
        "id": "GkvAg623RjoR"
      },
      "source": [
        "## Conclusões\n"
      ]
    },
    {
      "cell_type": "markdown",
      "metadata": {
        "id": "rbZ3Hsy9Ypw8"
      },
      "source": [
        "Se você está pensando em ir pra Dublin como seu próximo destino de viagem, aqui você encontra algumas dicas para preparar o bolso e sua mochila:\n",
        "\n",
        "1.   **Preço**: \n",
        "O preço médio da pernoite fica na casa de EUR 90,57. Lembrando que você irá encontrar variação entre os diferentes bairros, por exemplo: \n",
        "*   Dublin City: EUR 94,22\n",
        "*   Dn Laoghaire-Rathdown: EUR 90,91\n",
        "*   Fingal: EUR 75,60\n",
        "*   South Dublin: EUR 62,95\n",
        "\n",
        "> Com exceção de Dublin City, todas as outras regiões são conhecidas como condados e são parecidas com as nossas regiões metropolitanas no Brasil.\n",
        "\n",
        "2.   **Acomodações**:\n",
        "Você não irá encontrar muita variedade no que diz respeito aos tipos de acomodações. 97% das ofertas estão dentro das categorias 'Private room' e 'Entire home/apt', se você busca um quarto de hotel ('hotel room') sugiro destreza na procura, uma vez que você só encontrará 31 opções (29 delas se encontram em Dublin City).\n",
        "\n",
        "3.   **Número mínimo de dias para locação**:\n",
        "Nesse quesito a cidade não se distancia do resto do mundo, em 75% dos casos você encontrará restrição mínima de 2 dias.\n",
        "\n",
        "**Algumas outras dicas para encontrar as melhores ofertas**:\n",
        "*   Se você busca por melhores preços, procure pelas ofertas com maior número de avaliações. (encontramos uma correlação negativa entre preço e número de reviews!)\n",
        "*   Quanto menor o número mínimo de dias para pernoite menor o preço.\n",
        "*   Outra curiosidade, quanto mais ofertas o host possui maior o preço. Por tanto, meu amigo, fique de olho em que te oferece uma cama.\n",
        "*   E por último, não se esqueça de levar agasalho impermeável...Dublin é conhecida pela chuva com vento: https://www.youtube.com/watch?v=xqzaGBr8mQU\n",
        "\n",
        "\n",
        "\n",
        "\n",
        "\n",
        "\n",
        "\n",
        "\n",
        "\n",
        "\n",
        "\n",
        "\n"
      ]
    }
  ]
}